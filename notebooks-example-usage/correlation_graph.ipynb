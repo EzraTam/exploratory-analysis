{
 "cells": [
  {
   "cell_type": "code",
   "execution_count": null,
   "metadata": {},
   "outputs": [],
   "source": []
  },
  {
   "attachments": {},
   "cell_type": "markdown",
   "metadata": {},
   "source": [
    "# Load Packages and Project Path"
   ]
  },
  {
   "cell_type": "code",
   "execution_count": 1,
   "metadata": {},
   "outputs": [],
   "source": [
    "import os\n",
    "import sys, importlib\n",
    "from functools import reduce\n",
    "import numpy as np\n",
    "import pandas as pd\n",
    "import seaborn as sns\n",
    "import matplotlib.pyplot as plt"
   ]
  },
  {
   "cell_type": "code",
   "execution_count": 2,
   "metadata": {},
   "outputs": [],
   "source": [
    "# Path of the exploratory analysis project\n",
    "project_path=os.path.dirname(os.path.abspath(''))"
   ]
  },
  {
   "cell_type": "code",
   "execution_count": 3,
   "metadata": {},
   "outputs": [
    {
     "data": {
      "text/plain": [
       "'/Users/ezratampubolon/PythonProjects/exploratory-analysis'"
      ]
     },
     "execution_count": 3,
     "metadata": {},
     "output_type": "execute_result"
    }
   ],
   "source": [
    "project_path"
   ]
  },
  {
   "cell_type": "code",
   "execution_count": 4,
   "metadata": {},
   "outputs": [
    {
     "data": {
      "text/plain": [
       "'/Users/ezratampubolon/PythonProjects/exploratory-analysis'"
      ]
     },
     "execution_count": 4,
     "metadata": {},
     "output_type": "execute_result"
    }
   ],
   "source": [
    "os.path.join(project_path)"
   ]
  },
  {
   "cell_type": "code",
   "execution_count": 5,
   "metadata": {},
   "outputs": [],
   "source": [
    "# Append the path to the exploratory-analysis which is in the parent directory\n",
    "# In the folder exploratory-analysis\n",
    "sys.path.append(project_path)\n",
    "import exploratory_analysis as ea"
   ]
  },
  {
   "attachments": {},
   "cell_type": "markdown",
   "metadata": {},
   "source": [
    "# Load Data and Preprocess"
   ]
  },
  {
   "cell_type": "code",
   "execution_count": 6,
   "metadata": {},
   "outputs": [
    {
     "name": "stdout",
     "output_type": "stream",
     "text": [
      "List of tables: ['Orders', 'People', 'Returns']\n"
     ]
    }
   ],
   "source": [
    "# We use the superstore data saved in the data folder\n",
    "# https://www.kaggle.com/datasets/vivek468/superstore-dataset-final\n",
    "\n",
    "superstore_data_path=os.path.join(project_path,\"data\",\"superstore.xls\")\n",
    "\n",
    "# Import data\n",
    "dict_df=ea.import_to_pds(superstore_data_path)\n",
    "\n",
    "# Print list of loaded tavles\n",
    "print(f\"List of tables: {list(dict_df.keys())}\")\n",
    "\n",
    "# Define dataframe variables\n",
    "df_orders=dict_df[\"Orders\"]\n",
    "df_people=dict_df[\"People\"]\n",
    "df_returns=dict_df[\"Returns\"]"
   ]
  },
  {
   "cell_type": "code",
   "execution_count": 7,
   "metadata": {},
   "outputs": [
    {
     "data": {
      "text/html": [
       "<div>\n",
       "<style scoped>\n",
       "    .dataframe tbody tr th:only-of-type {\n",
       "        vertical-align: middle;\n",
       "    }\n",
       "\n",
       "    .dataframe tbody tr th {\n",
       "        vertical-align: top;\n",
       "    }\n",
       "\n",
       "    .dataframe thead th {\n",
       "        text-align: right;\n",
       "    }\n",
       "</style>\n",
       "<table border=\"1\" class=\"dataframe\">\n",
       "  <thead>\n",
       "    <tr style=\"text-align: right;\">\n",
       "      <th></th>\n",
       "      <th>Row ID</th>\n",
       "      <th>Order ID</th>\n",
       "      <th>Order Date</th>\n",
       "      <th>Ship Date</th>\n",
       "      <th>Ship Mode</th>\n",
       "      <th>Customer ID</th>\n",
       "      <th>Customer Name</th>\n",
       "      <th>Segment</th>\n",
       "      <th>Country/Region</th>\n",
       "      <th>City</th>\n",
       "      <th>...</th>\n",
       "      <th>Product Name</th>\n",
       "      <th>Sales</th>\n",
       "      <th>Quantity</th>\n",
       "      <th>Discount</th>\n",
       "      <th>Profit</th>\n",
       "      <th>year</th>\n",
       "      <th>month</th>\n",
       "      <th>day</th>\n",
       "      <th>Days Until Shipping</th>\n",
       "      <th>Returned</th>\n",
       "    </tr>\n",
       "  </thead>\n",
       "  <tbody>\n",
       "    <tr>\n",
       "      <th>0</th>\n",
       "      <td>1</td>\n",
       "      <td>US-2019-103800</td>\n",
       "      <td>2019-01-03</td>\n",
       "      <td>2019-01-07</td>\n",
       "      <td>Standard Class</td>\n",
       "      <td>DP-13000</td>\n",
       "      <td>Darren Powers</td>\n",
       "      <td>Consumer</td>\n",
       "      <td>United States</td>\n",
       "      <td>Houston</td>\n",
       "      <td>...</td>\n",
       "      <td>Message Book, Wirebound, Four 5 1/2\" X 4\" Form...</td>\n",
       "      <td>16.448</td>\n",
       "      <td>2</td>\n",
       "      <td>0.2</td>\n",
       "      <td>5.5512</td>\n",
       "      <td>2019</td>\n",
       "      <td>1</td>\n",
       "      <td>3</td>\n",
       "      <td>4</td>\n",
       "      <td>No</td>\n",
       "    </tr>\n",
       "  </tbody>\n",
       "</table>\n",
       "<p>1 rows × 26 columns</p>\n",
       "</div>"
      ],
      "text/plain": [
       "   Row ID        Order ID Order Date  Ship Date       Ship Mode Customer ID  \\\n",
       "0       1  US-2019-103800 2019-01-03 2019-01-07  Standard Class    DP-13000   \n",
       "\n",
       "   Customer Name   Segment Country/Region     City  ...  \\\n",
       "0  Darren Powers  Consumer  United States  Houston  ...   \n",
       "\n",
       "                                        Product Name   Sales Quantity  \\\n",
       "0  Message Book, Wirebound, Four 5 1/2\" X 4\" Form...  16.448        2   \n",
       "\n",
       "  Discount  Profit  year month  day  Days Until Shipping  Returned  \n",
       "0      0.2  5.5512  2019     1    3                    4        No  \n",
       "\n",
       "[1 rows x 26 columns]"
      ]
     },
     "execution_count": 7,
     "metadata": {},
     "output_type": "execute_result"
    }
   ],
   "source": [
    "df_orders=ea.year_month_day_col(df_orders,\"Order Date\")\n",
    "\n",
    "df_orders['Days Until Shipping'] = (df_orders['Ship Date'] - df_orders['Order Date']) / np.timedelta64(1, 'D')\n",
    "df_orders['Days Until Shipping']=df_orders['Days Until Shipping'].astype(int)\n",
    "\n",
    "df_orders=df_orders.merge(df_returns, on=['Order ID'], how='left')\n",
    "df_orders[\"Returned\"]=df_orders[\"Returned\"].fillna(\"No\")\n",
    "df_orders.head(1)"
   ]
  },
  {
   "cell_type": "code",
   "execution_count": 8,
   "metadata": {},
   "outputs": [],
   "source": [
    "# Columns to one-hot-encode \n",
    "li_one_hot=[\"Ship Mode\",\"Segment\",\"Region\",\"Sub-Category\",\"Returned\"]"
   ]
  },
  {
   "cell_type": "code",
   "execution_count": 9,
   "metadata": {},
   "outputs": [],
   "source": [
    "# One-Hot-Encode\n",
    "one_hot_result=ea.one_hot_encode(df_input=df_orders,li_one_hot=li_one_hot)\n",
    "df_orders=one_hot_result[\"df_result\"]\n",
    "dummies_dict=one_hot_result[\"dummies_dict\"]"
   ]
  },
  {
   "cell_type": "code",
   "execution_count": 10,
   "metadata": {},
   "outputs": [],
   "source": [
    "# Columns to drop\n",
    "li_drop_corr=[\"Row ID\",\"Order ID\", \"Order Date\",\"Ship Date\",\"Customer ID\",\"Customer Name\",\"Country/Region\",\"State/Province\",\"City\",\"Postal Code\",\"Product ID\",\"Category\",\"Product Name\",\"year\",\"month\",\"day\"]\n",
    "# Drop the corresponding columns\n",
    "df_for_corr=df_orders.drop(columns=li_drop_corr)"
   ]
  },
  {
   "attachments": {},
   "cell_type": "markdown",
   "metadata": {},
   "source": [
    "# Graph Correlation"
   ]
  },
  {
   "cell_type": "code",
   "execution_count": 11,
   "metadata": {},
   "outputs": [
    {
     "data": {
      "application/vnd.plotly.v1+json": {
       "config": {
        "plotlyServerURL": "https://plot.ly"
       },
       "data": [
        {
         "coloraxis": "coloraxis",
         "hovertemplate": "x-Feature : %{x}<br>y-Feature: %{y}<br>Correlation Coefficient: %{z}<extra></extra>",
         "name": "0",
         "type": "heatmap",
         "x": [
          "Sales",
          "Quantity",
          "Discount",
          "Profit",
          "Days Until Shipping",
          "Ship Mode_First Class",
          "Ship Mode_Same Day",
          "Ship Mode_Second Class",
          "Ship Mode_Standard Class",
          "Segment_Consumer",
          "Segment_Corporate",
          "Segment_Home Office",
          "Region_Central",
          "Region_East",
          "Region_South",
          "Region_West",
          "Sub-Category_Accessories",
          "Sub-Category_Art",
          "Sub-Category_Binders",
          "Sub-Category_Chairs",
          "Sub-Category_Copiers",
          "Sub-Category_Furnishings",
          "Sub-Category_Machines",
          "Sub-Category_Paper",
          "Sub-Category_Phones",
          "Sub-Category_Storage",
          "Sub-Category_Tables",
          "Returned_No",
          "Returned_Yes"
         ],
         "xaxis": "x",
         "y": [
          "Sales",
          "Quantity",
          "Discount",
          "Profit",
          "Days Until Shipping",
          "Ship Mode_First Class",
          "Ship Mode_Same Day",
          "Ship Mode_Second Class",
          "Ship Mode_Standard Class",
          "Segment_Consumer",
          "Segment_Corporate",
          "Segment_Home Office",
          "Region_Central",
          "Region_East",
          "Region_South",
          "Region_West",
          "Sub-Category_Accessories",
          "Sub-Category_Art",
          "Sub-Category_Binders",
          "Sub-Category_Chairs",
          "Sub-Category_Copiers",
          "Sub-Category_Furnishings",
          "Sub-Category_Machines",
          "Sub-Category_Paper",
          "Sub-Category_Phones",
          "Sub-Category_Storage",
          "Sub-Category_Tables",
          "Returned_No",
          "Returned_Yes"
         ],
         "yaxis": "y",
         "z": [
          [
           null,
           0.21015579188371805,
           null,
           0.493813856494015,
           null,
           null,
           null,
           null,
           null,
           null,
           null,
           null,
           null,
           null,
           null,
           null,
           null,
           null,
           null,
           0.13935798388079854,
           0.27821147994891704,
           null,
           0.23097764860329867,
           -0.11365341437554285,
           null,
           null,
           0.1143640136829423,
           null,
           null
          ],
          [
           0.21015579188371805,
           null,
           null,
           null,
           null,
           null,
           null,
           null,
           null,
           null,
           null,
           null,
           null,
           null,
           null,
           null,
           null,
           null,
           null,
           null,
           null,
           null,
           null,
           null,
           null,
           null,
           null,
           null,
           null
          ],
          [
           null,
           null,
           null,
           -0.21933567856415018,
           null,
           null,
           null,
           null,
           null,
           null,
           null,
           null,
           0.24182175319888405,
           null,
           null,
           -0.16808062235934454,
           -0.10856954959656695,
           -0.11111804722667439,
           0.45568671351556034,
           null,
           null,
           null,
           null,
           -0.1706241527096312,
           null,
           -0.12073766795431493,
           0.10283168702240666,
           null,
           null
          ],
          [
           0.493813856494015,
           null,
           -0.21933567856415018,
           null,
           null,
           null,
           null,
           null,
           null,
           null,
           null,
           null,
           null,
           null,
           null,
           null,
           null,
           null,
           null,
           null,
           0.2921240294907555,
           null,
           null,
           null,
           null,
           null,
           null,
           null,
           null
          ],
          [
           null,
           null,
           null,
           null,
           null,
           -0.4081141744486515,
           -0.5793802110770249,
           -0.1713235957166159,
           0.7355028971404195,
           null,
           null,
           null,
           null,
           null,
           null,
           null,
           null,
           null,
           null,
           null,
           null,
           null,
           null,
           null,
           null,
           null,
           null,
           null,
           null
          ],
          [
           null,
           null,
           null,
           null,
           -0.4081141744486515,
           null,
           -0.11766095825080661,
           -0.20409738477515105,
           -0.5205821431260013,
           null,
           null,
           null,
           null,
           null,
           null,
           null,
           null,
           null,
           null,
           null,
           null,
           null,
           null,
           null,
           null,
           null,
           null,
           null,
           null
          ],
          [
           null,
           null,
           null,
           null,
           -0.5793802110770249,
           -0.11766095825080661,
           null,
           -0.12827735870795537,
           -0.32719136692662043,
           null,
           null,
           null,
           null,
           null,
           null,
           null,
           null,
           null,
           null,
           null,
           null,
           null,
           null,
           null,
           null,
           null,
           null,
           -0.11755205692729095,
           0.11755205692729111
          ],
          [
           null,
           null,
           null,
           null,
           -0.1713235957166159,
           -0.20409738477515105,
           -0.12827735870795537,
           null,
           -0.5675536159444174,
           null,
           null,
           null,
           null,
           null,
           null,
           null,
           null,
           null,
           null,
           null,
           null,
           null,
           null,
           null,
           null,
           null,
           null,
           null,
           null
          ],
          [
           null,
           null,
           null,
           null,
           0.7355028971404195,
           -0.5205821431260013,
           -0.32719136692662043,
           -0.5675536159444174,
           null,
           null,
           null,
           null,
           null,
           null,
           null,
           null,
           null,
           null,
           null,
           null,
           null,
           null,
           null,
           null,
           null,
           null,
           null,
           null,
           null
          ],
          [
           null,
           null,
           null,
           null,
           null,
           null,
           null,
           null,
           null,
           null,
           -0.7025288140994909,
           -0.47392235949938116,
           null,
           null,
           null,
           null,
           null,
           null,
           null,
           null,
           null,
           null,
           null,
           null,
           null,
           null,
           null,
           null,
           null
          ],
          [
           null,
           null,
           null,
           null,
           null,
           null,
           null,
           null,
           null,
           -0.7025288140994909,
           null,
           -0.2937157985897767,
           null,
           null,
           null,
           null,
           null,
           null,
           null,
           null,
           null,
           null,
           null,
           null,
           null,
           null,
           null,
           null,
           null
          ],
          [
           null,
           null,
           null,
           null,
           null,
           null,
           null,
           null,
           null,
           -0.47392235949938116,
           -0.2937157985897767,
           null,
           null,
           null,
           null,
           null,
           null,
           null,
           null,
           null,
           null,
           null,
           null,
           null,
           null,
           null,
           null,
           null,
           null
          ],
          [
           null,
           null,
           0.24182175319888405,
           null,
           null,
           null,
           null,
           null,
           null,
           null,
           null,
           null,
           null,
           -0.3158993144203797,
           -0.20616841593889246,
           -0.38349589610174234,
           null,
           null,
           null,
           null,
           null,
           null,
           null,
           null,
           null,
           null,
           null,
           0.16358342582279226,
           -0.16358342582279242
          ],
          [
           null,
           null,
           null,
           null,
           null,
           null,
           null,
           null,
           null,
           null,
           null,
           null,
           -0.3158993144203797,
           null,
           -0.2598700286580012,
           -0.48338679354127545,
           null,
           null,
           null,
           null,
           null,
           null,
           null,
           null,
           null,
           null,
           null,
           null,
           null
          ],
          [
           null,
           null,
           null,
           null,
           null,
           null,
           null,
           null,
           null,
           null,
           null,
           null,
           -0.20616841593889246,
           -0.2598700286580012,
           null,
           -0.3154773845997187,
           null,
           null,
           null,
           null,
           null,
           null,
           null,
           null,
           null,
           null,
           null,
           null,
           null
          ],
          [
           null,
           null,
           -0.16808062235934454,
           null,
           null,
           null,
           null,
           null,
           null,
           null,
           null,
           null,
           -0.38349589610174234,
           -0.48338679354127545,
           -0.3154773845997187,
           null,
           null,
           null,
           null,
           null,
           null,
           null,
           null,
           null,
           null,
           null,
           null,
           -0.2675365581660129,
           0.26753655816601335
          ],
          [
           null,
           null,
           -0.10856954959656695,
           null,
           null,
           null,
           null,
           null,
           null,
           null,
           null,
           null,
           null,
           null,
           null,
           null,
           null,
           null,
           -0.12349523038334223,
           null,
           null,
           null,
           null,
           -0.11537813377592346,
           null,
           null,
           null,
           null,
           null
          ],
          [
           null,
           null,
           -0.11111804722667439,
           null,
           null,
           null,
           null,
           null,
           null,
           null,
           null,
           null,
           null,
           null,
           null,
           null,
           null,
           null,
           -0.12252257214019888,
           null,
           null,
           null,
           null,
           -0.11446940643036303,
           null,
           null,
           null,
           null,
           null
          ],
          [
           null,
           null,
           0.45568671351556034,
           null,
           null,
           null,
           null,
           null,
           null,
           null,
           null,
           null,
           null,
           null,
           null,
           null,
           -0.12349523038334223,
           -0.12252257214019888,
           null,
           -0.113064225625961,
           null,
           -0.1393155135030875,
           null,
           -0.1720911985121264,
           -0.13491961645166775,
           -0.12807910150883076,
           null,
           null,
           null
          ],
          [
           0.13935798388079854,
           null,
           null,
           null,
           null,
           null,
           null,
           null,
           null,
           null,
           null,
           null,
           null,
           null,
           null,
           null,
           null,
           null,
           -0.113064225625961,
           null,
           null,
           null,
           null,
           -0.10563273827701555,
           null,
           null,
           null,
           null,
           null
          ],
          [
           0.27821147994891704,
           null,
           null,
           0.2921240294907555,
           null,
           null,
           null,
           null,
           null,
           null,
           null,
           null,
           null,
           null,
           null,
           null,
           null,
           null,
           null,
           null,
           null,
           null,
           null,
           null,
           null,
           null,
           null,
           null,
           null
          ],
          [
           null,
           null,
           null,
           null,
           null,
           null,
           null,
           null,
           null,
           null,
           null,
           null,
           null,
           null,
           null,
           null,
           null,
           null,
           -0.1393155135030875,
           null,
           null,
           null,
           null,
           -0.1301585810571423,
           -0.10204441590245274,
           null,
           null,
           null,
           null
          ],
          [
           0.23097764860329867,
           null,
           null,
           null,
           null,
           null,
           null,
           null,
           null,
           null,
           null,
           null,
           null,
           null,
           null,
           null,
           null,
           null,
           null,
           null,
           null,
           null,
           null,
           null,
           null,
           null,
           null,
           null,
           null
          ],
          [
           -0.11365341437554285,
           null,
           -0.1706241527096312,
           null,
           null,
           null,
           null,
           null,
           null,
           null,
           null,
           null,
           null,
           null,
           null,
           null,
           -0.11537813377592346,
           -0.11446940643036303,
           -0.1720911985121264,
           -0.10563273827701555,
           null,
           -0.1301585810571423,
           null,
           null,
           -0.1260516176020391,
           -0.11966071614195144,
           null,
           null,
           null
          ],
          [
           null,
           null,
           null,
           null,
           null,
           null,
           null,
           null,
           null,
           null,
           null,
           null,
           null,
           null,
           null,
           null,
           null,
           null,
           -0.13491961645166775,
           null,
           null,
           -0.10204441590245274,
           null,
           -0.1260516176020391,
           null,
           null,
           null,
           null,
           null
          ],
          [
           null,
           null,
           -0.12073766795431493,
           null,
           null,
           null,
           null,
           null,
           null,
           null,
           null,
           null,
           null,
           null,
           null,
           null,
           null,
           null,
           -0.12807910150883076,
           null,
           null,
           null,
           null,
           -0.11966071614195144,
           null,
           null,
           null,
           null,
           null
          ],
          [
           0.1143640136829423,
           null,
           0.10283168702240666,
           null,
           null,
           null,
           null,
           null,
           null,
           null,
           null,
           null,
           null,
           null,
           null,
           null,
           null,
           null,
           null,
           null,
           null,
           null,
           null,
           null,
           null,
           null,
           null,
           null,
           null
          ],
          [
           null,
           null,
           null,
           null,
           null,
           null,
           -0.11755205692729095,
           null,
           null,
           null,
           null,
           null,
           0.16358342582279226,
           null,
           null,
           -0.2675365581660129,
           null,
           null,
           null,
           null,
           null,
           null,
           null,
           null,
           null,
           null,
           null,
           null,
           -1
          ],
          [
           null,
           null,
           null,
           null,
           null,
           null,
           0.11755205692729111,
           null,
           null,
           null,
           null,
           null,
           -0.16358342582279242,
           null,
           null,
           0.26753655816601335,
           null,
           null,
           null,
           null,
           null,
           null,
           null,
           null,
           null,
           null,
           null,
           -1,
           null
          ]
         ]
        }
       ],
       "layout": {
        "coloraxis": {
         "colorbar": {
          "title": {
           "text": "Correlation Coefficient"
          }
         },
         "colorscale": [
          [
           0,
           "#0d0887"
          ],
          [
           0.1111111111111111,
           "#46039f"
          ],
          [
           0.2222222222222222,
           "#7201a8"
          ],
          [
           0.3333333333333333,
           "#9c179e"
          ],
          [
           0.4444444444444444,
           "#bd3786"
          ],
          [
           0.5555555555555556,
           "#d8576b"
          ],
          [
           0.6666666666666666,
           "#ed7953"
          ],
          [
           0.7777777777777778,
           "#fb9f3a"
          ],
          [
           0.8888888888888888,
           "#fdca26"
          ],
          [
           1,
           "#f0f921"
          ]
         ]
        },
        "font": {
         "size": 11
        },
        "margin": {
         "t": 60
        },
        "template": {
         "data": {
          "bar": [
           {
            "error_x": {
             "color": "#2a3f5f"
            },
            "error_y": {
             "color": "#2a3f5f"
            },
            "marker": {
             "line": {
              "color": "#E5ECF6",
              "width": 0.5
             },
             "pattern": {
              "fillmode": "overlay",
              "size": 10,
              "solidity": 0.2
             }
            },
            "type": "bar"
           }
          ],
          "barpolar": [
           {
            "marker": {
             "line": {
              "color": "#E5ECF6",
              "width": 0.5
             },
             "pattern": {
              "fillmode": "overlay",
              "size": 10,
              "solidity": 0.2
             }
            },
            "type": "barpolar"
           }
          ],
          "carpet": [
           {
            "aaxis": {
             "endlinecolor": "#2a3f5f",
             "gridcolor": "white",
             "linecolor": "white",
             "minorgridcolor": "white",
             "startlinecolor": "#2a3f5f"
            },
            "baxis": {
             "endlinecolor": "#2a3f5f",
             "gridcolor": "white",
             "linecolor": "white",
             "minorgridcolor": "white",
             "startlinecolor": "#2a3f5f"
            },
            "type": "carpet"
           }
          ],
          "choropleth": [
           {
            "colorbar": {
             "outlinewidth": 0,
             "ticks": ""
            },
            "type": "choropleth"
           }
          ],
          "contour": [
           {
            "colorbar": {
             "outlinewidth": 0,
             "ticks": ""
            },
            "colorscale": [
             [
              0,
              "#0d0887"
             ],
             [
              0.1111111111111111,
              "#46039f"
             ],
             [
              0.2222222222222222,
              "#7201a8"
             ],
             [
              0.3333333333333333,
              "#9c179e"
             ],
             [
              0.4444444444444444,
              "#bd3786"
             ],
             [
              0.5555555555555556,
              "#d8576b"
             ],
             [
              0.6666666666666666,
              "#ed7953"
             ],
             [
              0.7777777777777778,
              "#fb9f3a"
             ],
             [
              0.8888888888888888,
              "#fdca26"
             ],
             [
              1,
              "#f0f921"
             ]
            ],
            "type": "contour"
           }
          ],
          "contourcarpet": [
           {
            "colorbar": {
             "outlinewidth": 0,
             "ticks": ""
            },
            "type": "contourcarpet"
           }
          ],
          "heatmap": [
           {
            "colorbar": {
             "outlinewidth": 0,
             "ticks": ""
            },
            "colorscale": [
             [
              0,
              "#0d0887"
             ],
             [
              0.1111111111111111,
              "#46039f"
             ],
             [
              0.2222222222222222,
              "#7201a8"
             ],
             [
              0.3333333333333333,
              "#9c179e"
             ],
             [
              0.4444444444444444,
              "#bd3786"
             ],
             [
              0.5555555555555556,
              "#d8576b"
             ],
             [
              0.6666666666666666,
              "#ed7953"
             ],
             [
              0.7777777777777778,
              "#fb9f3a"
             ],
             [
              0.8888888888888888,
              "#fdca26"
             ],
             [
              1,
              "#f0f921"
             ]
            ],
            "type": "heatmap"
           }
          ],
          "heatmapgl": [
           {
            "colorbar": {
             "outlinewidth": 0,
             "ticks": ""
            },
            "colorscale": [
             [
              0,
              "#0d0887"
             ],
             [
              0.1111111111111111,
              "#46039f"
             ],
             [
              0.2222222222222222,
              "#7201a8"
             ],
             [
              0.3333333333333333,
              "#9c179e"
             ],
             [
              0.4444444444444444,
              "#bd3786"
             ],
             [
              0.5555555555555556,
              "#d8576b"
             ],
             [
              0.6666666666666666,
              "#ed7953"
             ],
             [
              0.7777777777777778,
              "#fb9f3a"
             ],
             [
              0.8888888888888888,
              "#fdca26"
             ],
             [
              1,
              "#f0f921"
             ]
            ],
            "type": "heatmapgl"
           }
          ],
          "histogram": [
           {
            "marker": {
             "pattern": {
              "fillmode": "overlay",
              "size": 10,
              "solidity": 0.2
             }
            },
            "type": "histogram"
           }
          ],
          "histogram2d": [
           {
            "colorbar": {
             "outlinewidth": 0,
             "ticks": ""
            },
            "colorscale": [
             [
              0,
              "#0d0887"
             ],
             [
              0.1111111111111111,
              "#46039f"
             ],
             [
              0.2222222222222222,
              "#7201a8"
             ],
             [
              0.3333333333333333,
              "#9c179e"
             ],
             [
              0.4444444444444444,
              "#bd3786"
             ],
             [
              0.5555555555555556,
              "#d8576b"
             ],
             [
              0.6666666666666666,
              "#ed7953"
             ],
             [
              0.7777777777777778,
              "#fb9f3a"
             ],
             [
              0.8888888888888888,
              "#fdca26"
             ],
             [
              1,
              "#f0f921"
             ]
            ],
            "type": "histogram2d"
           }
          ],
          "histogram2dcontour": [
           {
            "colorbar": {
             "outlinewidth": 0,
             "ticks": ""
            },
            "colorscale": [
             [
              0,
              "#0d0887"
             ],
             [
              0.1111111111111111,
              "#46039f"
             ],
             [
              0.2222222222222222,
              "#7201a8"
             ],
             [
              0.3333333333333333,
              "#9c179e"
             ],
             [
              0.4444444444444444,
              "#bd3786"
             ],
             [
              0.5555555555555556,
              "#d8576b"
             ],
             [
              0.6666666666666666,
              "#ed7953"
             ],
             [
              0.7777777777777778,
              "#fb9f3a"
             ],
             [
              0.8888888888888888,
              "#fdca26"
             ],
             [
              1,
              "#f0f921"
             ]
            ],
            "type": "histogram2dcontour"
           }
          ],
          "mesh3d": [
           {
            "colorbar": {
             "outlinewidth": 0,
             "ticks": ""
            },
            "type": "mesh3d"
           }
          ],
          "parcoords": [
           {
            "line": {
             "colorbar": {
              "outlinewidth": 0,
              "ticks": ""
             }
            },
            "type": "parcoords"
           }
          ],
          "pie": [
           {
            "automargin": true,
            "type": "pie"
           }
          ],
          "scatter": [
           {
            "fillpattern": {
             "fillmode": "overlay",
             "size": 10,
             "solidity": 0.2
            },
            "type": "scatter"
           }
          ],
          "scatter3d": [
           {
            "line": {
             "colorbar": {
              "outlinewidth": 0,
              "ticks": ""
             }
            },
            "marker": {
             "colorbar": {
              "outlinewidth": 0,
              "ticks": ""
             }
            },
            "type": "scatter3d"
           }
          ],
          "scattercarpet": [
           {
            "marker": {
             "colorbar": {
              "outlinewidth": 0,
              "ticks": ""
             }
            },
            "type": "scattercarpet"
           }
          ],
          "scattergeo": [
           {
            "marker": {
             "colorbar": {
              "outlinewidth": 0,
              "ticks": ""
             }
            },
            "type": "scattergeo"
           }
          ],
          "scattergl": [
           {
            "marker": {
             "colorbar": {
              "outlinewidth": 0,
              "ticks": ""
             }
            },
            "type": "scattergl"
           }
          ],
          "scattermapbox": [
           {
            "marker": {
             "colorbar": {
              "outlinewidth": 0,
              "ticks": ""
             }
            },
            "type": "scattermapbox"
           }
          ],
          "scatterpolar": [
           {
            "marker": {
             "colorbar": {
              "outlinewidth": 0,
              "ticks": ""
             }
            },
            "type": "scatterpolar"
           }
          ],
          "scatterpolargl": [
           {
            "marker": {
             "colorbar": {
              "outlinewidth": 0,
              "ticks": ""
             }
            },
            "type": "scatterpolargl"
           }
          ],
          "scatterternary": [
           {
            "marker": {
             "colorbar": {
              "outlinewidth": 0,
              "ticks": ""
             }
            },
            "type": "scatterternary"
           }
          ],
          "surface": [
           {
            "colorbar": {
             "outlinewidth": 0,
             "ticks": ""
            },
            "colorscale": [
             [
              0,
              "#0d0887"
             ],
             [
              0.1111111111111111,
              "#46039f"
             ],
             [
              0.2222222222222222,
              "#7201a8"
             ],
             [
              0.3333333333333333,
              "#9c179e"
             ],
             [
              0.4444444444444444,
              "#bd3786"
             ],
             [
              0.5555555555555556,
              "#d8576b"
             ],
             [
              0.6666666666666666,
              "#ed7953"
             ],
             [
              0.7777777777777778,
              "#fb9f3a"
             ],
             [
              0.8888888888888888,
              "#fdca26"
             ],
             [
              1,
              "#f0f921"
             ]
            ],
            "type": "surface"
           }
          ],
          "table": [
           {
            "cells": {
             "fill": {
              "color": "#EBF0F8"
             },
             "line": {
              "color": "white"
             }
            },
            "header": {
             "fill": {
              "color": "#C8D4E3"
             },
             "line": {
              "color": "white"
             }
            },
            "type": "table"
           }
          ]
         },
         "layout": {
          "annotationdefaults": {
           "arrowcolor": "#2a3f5f",
           "arrowhead": 0,
           "arrowwidth": 1
          },
          "autotypenumbers": "strict",
          "coloraxis": {
           "colorbar": {
            "outlinewidth": 0,
            "ticks": ""
           }
          },
          "colorscale": {
           "diverging": [
            [
             0,
             "#8e0152"
            ],
            [
             0.1,
             "#c51b7d"
            ],
            [
             0.2,
             "#de77ae"
            ],
            [
             0.3,
             "#f1b6da"
            ],
            [
             0.4,
             "#fde0ef"
            ],
            [
             0.5,
             "#f7f7f7"
            ],
            [
             0.6,
             "#e6f5d0"
            ],
            [
             0.7,
             "#b8e186"
            ],
            [
             0.8,
             "#7fbc41"
            ],
            [
             0.9,
             "#4d9221"
            ],
            [
             1,
             "#276419"
            ]
           ],
           "sequential": [
            [
             0,
             "#0d0887"
            ],
            [
             0.1111111111111111,
             "#46039f"
            ],
            [
             0.2222222222222222,
             "#7201a8"
            ],
            [
             0.3333333333333333,
             "#9c179e"
            ],
            [
             0.4444444444444444,
             "#bd3786"
            ],
            [
             0.5555555555555556,
             "#d8576b"
            ],
            [
             0.6666666666666666,
             "#ed7953"
            ],
            [
             0.7777777777777778,
             "#fb9f3a"
            ],
            [
             0.8888888888888888,
             "#fdca26"
            ],
            [
             1,
             "#f0f921"
            ]
           ],
           "sequentialminus": [
            [
             0,
             "#0d0887"
            ],
            [
             0.1111111111111111,
             "#46039f"
            ],
            [
             0.2222222222222222,
             "#7201a8"
            ],
            [
             0.3333333333333333,
             "#9c179e"
            ],
            [
             0.4444444444444444,
             "#bd3786"
            ],
            [
             0.5555555555555556,
             "#d8576b"
            ],
            [
             0.6666666666666666,
             "#ed7953"
            ],
            [
             0.7777777777777778,
             "#fb9f3a"
            ],
            [
             0.8888888888888888,
             "#fdca26"
            ],
            [
             1,
             "#f0f921"
            ]
           ]
          },
          "colorway": [
           "#636efa",
           "#EF553B",
           "#00cc96",
           "#ab63fa",
           "#FFA15A",
           "#19d3f3",
           "#FF6692",
           "#B6E880",
           "#FF97FF",
           "#FECB52"
          ],
          "font": {
           "color": "#2a3f5f"
          },
          "geo": {
           "bgcolor": "white",
           "lakecolor": "white",
           "landcolor": "#E5ECF6",
           "showlakes": true,
           "showland": true,
           "subunitcolor": "white"
          },
          "hoverlabel": {
           "align": "left"
          },
          "hovermode": "closest",
          "mapbox": {
           "style": "light"
          },
          "paper_bgcolor": "white",
          "plot_bgcolor": "#E5ECF6",
          "polar": {
           "angularaxis": {
            "gridcolor": "white",
            "linecolor": "white",
            "ticks": ""
           },
           "bgcolor": "#E5ECF6",
           "radialaxis": {
            "gridcolor": "white",
            "linecolor": "white",
            "ticks": ""
           }
          },
          "scene": {
           "xaxis": {
            "backgroundcolor": "#E5ECF6",
            "gridcolor": "white",
            "gridwidth": 2,
            "linecolor": "white",
            "showbackground": true,
            "ticks": "",
            "zerolinecolor": "white"
           },
           "yaxis": {
            "backgroundcolor": "#E5ECF6",
            "gridcolor": "white",
            "gridwidth": 2,
            "linecolor": "white",
            "showbackground": true,
            "ticks": "",
            "zerolinecolor": "white"
           },
           "zaxis": {
            "backgroundcolor": "#E5ECF6",
            "gridcolor": "white",
            "gridwidth": 2,
            "linecolor": "white",
            "showbackground": true,
            "ticks": "",
            "zerolinecolor": "white"
           }
          },
          "shapedefaults": {
           "line": {
            "color": "#2a3f5f"
           }
          },
          "ternary": {
           "aaxis": {
            "gridcolor": "white",
            "linecolor": "white",
            "ticks": ""
           },
           "baxis": {
            "gridcolor": "white",
            "linecolor": "white",
            "ticks": ""
           },
           "bgcolor": "#E5ECF6",
           "caxis": {
            "gridcolor": "white",
            "linecolor": "white",
            "ticks": ""
           }
          },
          "title": {
           "x": 0.05
          },
          "xaxis": {
           "automargin": true,
           "gridcolor": "white",
           "linecolor": "white",
           "ticks": "",
           "title": {
            "standoff": 15
           },
           "zerolinecolor": "white",
           "zerolinewidth": 2
          },
          "yaxis": {
           "automargin": true,
           "gridcolor": "white",
           "linecolor": "white",
           "ticks": "",
           "title": {
            "standoff": 15
           },
           "zerolinecolor": "white",
           "zerolinewidth": 2
          }
         }
        },
        "title": {
         "text": "Correlation"
        },
        "width": 1000,
        "xaxis": {
         "anchor": "y",
         "domain": [
          0,
          1
         ],
         "tickangle": 45,
         "ticksuffix": "  ",
         "title": {
          "text": "x-Feature "
         }
        },
        "yaxis": {
         "anchor": "x",
         "autorange": "reversed",
         "domain": [
          0,
          1
         ],
         "tickangle": -45,
         "ticksuffix": "  ",
         "title": {
          "text": "y-Feature"
         }
        }
       }
      }
     },
     "metadata": {},
     "output_type": "display_data"
    }
   ],
   "source": [
    "filtered_df=ea.show_corr_matrix_filtered(df_input=df_for_corr,by_which=\"plotly\")"
   ]
  },
  {
   "cell_type": "code",
   "execution_count": 12,
   "metadata": {},
   "outputs": [
    {
     "ename": "NameError",
     "evalue": "name 'adjacency_matrix' is not defined",
     "output_type": "error",
     "traceback": [
      "\u001b[0;31m---------------------------------------------------------------------------\u001b[0m",
      "\u001b[0;31mNameError\u001b[0m                                 Traceback (most recent call last)",
      "Cell \u001b[0;32mIn[12], line 1\u001b[0m\n\u001b[0;32m----> 1\u001b[0m \u001b[39mtype\u001b[39m(adjacency_matrix)\n",
      "\u001b[0;31mNameError\u001b[0m: name 'adjacency_matrix' is not defined"
     ]
    }
   ],
   "source": [
    "type(adjacency_matrix)"
   ]
  },
  {
   "cell_type": "code",
   "execution_count": 13,
   "metadata": {},
   "outputs": [
    {
     "data": {
      "text/html": [
       "<div>\n",
       "<style scoped>\n",
       "    .dataframe tbody tr th:only-of-type {\n",
       "        vertical-align: middle;\n",
       "    }\n",
       "\n",
       "    .dataframe tbody tr th {\n",
       "        vertical-align: top;\n",
       "    }\n",
       "\n",
       "    .dataframe thead th {\n",
       "        text-align: right;\n",
       "    }\n",
       "</style>\n",
       "<table border=\"1\" class=\"dataframe\">\n",
       "  <thead>\n",
       "    <tr style=\"text-align: right;\">\n",
       "      <th></th>\n",
       "      <th>Sales</th>\n",
       "      <th>Quantity</th>\n",
       "      <th>Discount</th>\n",
       "      <th>Profit</th>\n",
       "      <th>Days Until Shipping</th>\n",
       "      <th>Ship Mode_First Class</th>\n",
       "      <th>Ship Mode_Same Day</th>\n",
       "      <th>Ship Mode_Second Class</th>\n",
       "      <th>Ship Mode_Standard Class</th>\n",
       "      <th>Segment_Consumer</th>\n",
       "      <th>...</th>\n",
       "      <th>Sub-Category_Chairs</th>\n",
       "      <th>Sub-Category_Copiers</th>\n",
       "      <th>Sub-Category_Furnishings</th>\n",
       "      <th>Sub-Category_Machines</th>\n",
       "      <th>Sub-Category_Paper</th>\n",
       "      <th>Sub-Category_Phones</th>\n",
       "      <th>Sub-Category_Storage</th>\n",
       "      <th>Sub-Category_Tables</th>\n",
       "      <th>Returned_No</th>\n",
       "      <th>Returned_Yes</th>\n",
       "    </tr>\n",
       "  </thead>\n",
       "  <tbody>\n",
       "    <tr>\n",
       "      <th>Sales</th>\n",
       "      <td>0.000000</td>\n",
       "      <td>0.210156</td>\n",
       "      <td>0.000000</td>\n",
       "      <td>0.493814</td>\n",
       "      <td>0.000000</td>\n",
       "      <td>0.000000</td>\n",
       "      <td>0.000000</td>\n",
       "      <td>0.000000</td>\n",
       "      <td>0.000000</td>\n",
       "      <td>0.000000</td>\n",
       "      <td>...</td>\n",
       "      <td>0.139358</td>\n",
       "      <td>0.278211</td>\n",
       "      <td>0.000000</td>\n",
       "      <td>0.230978</td>\n",
       "      <td>-0.113653</td>\n",
       "      <td>0.000000</td>\n",
       "      <td>0.000000</td>\n",
       "      <td>0.114364</td>\n",
       "      <td>0.000000</td>\n",
       "      <td>0.000000</td>\n",
       "    </tr>\n",
       "    <tr>\n",
       "      <th>Quantity</th>\n",
       "      <td>0.210156</td>\n",
       "      <td>0.000000</td>\n",
       "      <td>0.000000</td>\n",
       "      <td>0.000000</td>\n",
       "      <td>0.000000</td>\n",
       "      <td>0.000000</td>\n",
       "      <td>0.000000</td>\n",
       "      <td>0.000000</td>\n",
       "      <td>0.000000</td>\n",
       "      <td>0.000000</td>\n",
       "      <td>...</td>\n",
       "      <td>0.000000</td>\n",
       "      <td>0.000000</td>\n",
       "      <td>0.000000</td>\n",
       "      <td>0.000000</td>\n",
       "      <td>0.000000</td>\n",
       "      <td>0.000000</td>\n",
       "      <td>0.000000</td>\n",
       "      <td>0.000000</td>\n",
       "      <td>0.000000</td>\n",
       "      <td>0.000000</td>\n",
       "    </tr>\n",
       "    <tr>\n",
       "      <th>Discount</th>\n",
       "      <td>0.000000</td>\n",
       "      <td>0.000000</td>\n",
       "      <td>0.000000</td>\n",
       "      <td>-0.219336</td>\n",
       "      <td>0.000000</td>\n",
       "      <td>0.000000</td>\n",
       "      <td>0.000000</td>\n",
       "      <td>0.000000</td>\n",
       "      <td>0.000000</td>\n",
       "      <td>0.000000</td>\n",
       "      <td>...</td>\n",
       "      <td>0.000000</td>\n",
       "      <td>0.000000</td>\n",
       "      <td>0.000000</td>\n",
       "      <td>0.000000</td>\n",
       "      <td>-0.170624</td>\n",
       "      <td>0.000000</td>\n",
       "      <td>-0.120738</td>\n",
       "      <td>0.102832</td>\n",
       "      <td>0.000000</td>\n",
       "      <td>0.000000</td>\n",
       "    </tr>\n",
       "    <tr>\n",
       "      <th>Profit</th>\n",
       "      <td>0.493814</td>\n",
       "      <td>0.000000</td>\n",
       "      <td>-0.219336</td>\n",
       "      <td>0.000000</td>\n",
       "      <td>0.000000</td>\n",
       "      <td>0.000000</td>\n",
       "      <td>0.000000</td>\n",
       "      <td>0.000000</td>\n",
       "      <td>0.000000</td>\n",
       "      <td>0.000000</td>\n",
       "      <td>...</td>\n",
       "      <td>0.000000</td>\n",
       "      <td>0.292124</td>\n",
       "      <td>0.000000</td>\n",
       "      <td>0.000000</td>\n",
       "      <td>0.000000</td>\n",
       "      <td>0.000000</td>\n",
       "      <td>0.000000</td>\n",
       "      <td>0.000000</td>\n",
       "      <td>0.000000</td>\n",
       "      <td>0.000000</td>\n",
       "    </tr>\n",
       "    <tr>\n",
       "      <th>Days Until Shipping</th>\n",
       "      <td>0.000000</td>\n",
       "      <td>0.000000</td>\n",
       "      <td>0.000000</td>\n",
       "      <td>0.000000</td>\n",
       "      <td>0.000000</td>\n",
       "      <td>-0.408114</td>\n",
       "      <td>-0.579380</td>\n",
       "      <td>-0.171324</td>\n",
       "      <td>0.735503</td>\n",
       "      <td>0.000000</td>\n",
       "      <td>...</td>\n",
       "      <td>0.000000</td>\n",
       "      <td>0.000000</td>\n",
       "      <td>0.000000</td>\n",
       "      <td>0.000000</td>\n",
       "      <td>0.000000</td>\n",
       "      <td>0.000000</td>\n",
       "      <td>0.000000</td>\n",
       "      <td>0.000000</td>\n",
       "      <td>0.000000</td>\n",
       "      <td>0.000000</td>\n",
       "    </tr>\n",
       "    <tr>\n",
       "      <th>Ship Mode_First Class</th>\n",
       "      <td>0.000000</td>\n",
       "      <td>0.000000</td>\n",
       "      <td>0.000000</td>\n",
       "      <td>0.000000</td>\n",
       "      <td>-0.408114</td>\n",
       "      <td>0.000000</td>\n",
       "      <td>-0.117661</td>\n",
       "      <td>-0.204097</td>\n",
       "      <td>-0.520582</td>\n",
       "      <td>0.000000</td>\n",
       "      <td>...</td>\n",
       "      <td>0.000000</td>\n",
       "      <td>0.000000</td>\n",
       "      <td>0.000000</td>\n",
       "      <td>0.000000</td>\n",
       "      <td>0.000000</td>\n",
       "      <td>0.000000</td>\n",
       "      <td>0.000000</td>\n",
       "      <td>0.000000</td>\n",
       "      <td>0.000000</td>\n",
       "      <td>0.000000</td>\n",
       "    </tr>\n",
       "    <tr>\n",
       "      <th>Ship Mode_Same Day</th>\n",
       "      <td>0.000000</td>\n",
       "      <td>0.000000</td>\n",
       "      <td>0.000000</td>\n",
       "      <td>0.000000</td>\n",
       "      <td>-0.579380</td>\n",
       "      <td>-0.117661</td>\n",
       "      <td>0.000000</td>\n",
       "      <td>-0.128277</td>\n",
       "      <td>-0.327191</td>\n",
       "      <td>0.000000</td>\n",
       "      <td>...</td>\n",
       "      <td>0.000000</td>\n",
       "      <td>0.000000</td>\n",
       "      <td>0.000000</td>\n",
       "      <td>0.000000</td>\n",
       "      <td>0.000000</td>\n",
       "      <td>0.000000</td>\n",
       "      <td>0.000000</td>\n",
       "      <td>0.000000</td>\n",
       "      <td>-0.117552</td>\n",
       "      <td>0.117552</td>\n",
       "    </tr>\n",
       "    <tr>\n",
       "      <th>Ship Mode_Second Class</th>\n",
       "      <td>0.000000</td>\n",
       "      <td>0.000000</td>\n",
       "      <td>0.000000</td>\n",
       "      <td>0.000000</td>\n",
       "      <td>-0.171324</td>\n",
       "      <td>-0.204097</td>\n",
       "      <td>-0.128277</td>\n",
       "      <td>0.000000</td>\n",
       "      <td>-0.567554</td>\n",
       "      <td>0.000000</td>\n",
       "      <td>...</td>\n",
       "      <td>0.000000</td>\n",
       "      <td>0.000000</td>\n",
       "      <td>0.000000</td>\n",
       "      <td>0.000000</td>\n",
       "      <td>0.000000</td>\n",
       "      <td>0.000000</td>\n",
       "      <td>0.000000</td>\n",
       "      <td>0.000000</td>\n",
       "      <td>0.000000</td>\n",
       "      <td>0.000000</td>\n",
       "    </tr>\n",
       "    <tr>\n",
       "      <th>Ship Mode_Standard Class</th>\n",
       "      <td>0.000000</td>\n",
       "      <td>0.000000</td>\n",
       "      <td>0.000000</td>\n",
       "      <td>0.000000</td>\n",
       "      <td>0.735503</td>\n",
       "      <td>-0.520582</td>\n",
       "      <td>-0.327191</td>\n",
       "      <td>-0.567554</td>\n",
       "      <td>0.000000</td>\n",
       "      <td>0.000000</td>\n",
       "      <td>...</td>\n",
       "      <td>0.000000</td>\n",
       "      <td>0.000000</td>\n",
       "      <td>0.000000</td>\n",
       "      <td>0.000000</td>\n",
       "      <td>0.000000</td>\n",
       "      <td>0.000000</td>\n",
       "      <td>0.000000</td>\n",
       "      <td>0.000000</td>\n",
       "      <td>0.000000</td>\n",
       "      <td>0.000000</td>\n",
       "    </tr>\n",
       "    <tr>\n",
       "      <th>Segment_Consumer</th>\n",
       "      <td>0.000000</td>\n",
       "      <td>0.000000</td>\n",
       "      <td>0.000000</td>\n",
       "      <td>0.000000</td>\n",
       "      <td>0.000000</td>\n",
       "      <td>0.000000</td>\n",
       "      <td>0.000000</td>\n",
       "      <td>0.000000</td>\n",
       "      <td>0.000000</td>\n",
       "      <td>0.000000</td>\n",
       "      <td>...</td>\n",
       "      <td>0.000000</td>\n",
       "      <td>0.000000</td>\n",
       "      <td>0.000000</td>\n",
       "      <td>0.000000</td>\n",
       "      <td>0.000000</td>\n",
       "      <td>0.000000</td>\n",
       "      <td>0.000000</td>\n",
       "      <td>0.000000</td>\n",
       "      <td>0.000000</td>\n",
       "      <td>0.000000</td>\n",
       "    </tr>\n",
       "    <tr>\n",
       "      <th>Segment_Corporate</th>\n",
       "      <td>0.000000</td>\n",
       "      <td>0.000000</td>\n",
       "      <td>0.000000</td>\n",
       "      <td>0.000000</td>\n",
       "      <td>0.000000</td>\n",
       "      <td>0.000000</td>\n",
       "      <td>0.000000</td>\n",
       "      <td>0.000000</td>\n",
       "      <td>0.000000</td>\n",
       "      <td>-0.702529</td>\n",
       "      <td>...</td>\n",
       "      <td>0.000000</td>\n",
       "      <td>0.000000</td>\n",
       "      <td>0.000000</td>\n",
       "      <td>0.000000</td>\n",
       "      <td>0.000000</td>\n",
       "      <td>0.000000</td>\n",
       "      <td>0.000000</td>\n",
       "      <td>0.000000</td>\n",
       "      <td>0.000000</td>\n",
       "      <td>0.000000</td>\n",
       "    </tr>\n",
       "    <tr>\n",
       "      <th>Segment_Home Office</th>\n",
       "      <td>0.000000</td>\n",
       "      <td>0.000000</td>\n",
       "      <td>0.000000</td>\n",
       "      <td>0.000000</td>\n",
       "      <td>0.000000</td>\n",
       "      <td>0.000000</td>\n",
       "      <td>0.000000</td>\n",
       "      <td>0.000000</td>\n",
       "      <td>0.000000</td>\n",
       "      <td>-0.473922</td>\n",
       "      <td>...</td>\n",
       "      <td>0.000000</td>\n",
       "      <td>0.000000</td>\n",
       "      <td>0.000000</td>\n",
       "      <td>0.000000</td>\n",
       "      <td>0.000000</td>\n",
       "      <td>0.000000</td>\n",
       "      <td>0.000000</td>\n",
       "      <td>0.000000</td>\n",
       "      <td>0.000000</td>\n",
       "      <td>0.000000</td>\n",
       "    </tr>\n",
       "    <tr>\n",
       "      <th>Region_Central</th>\n",
       "      <td>0.000000</td>\n",
       "      <td>0.000000</td>\n",
       "      <td>0.241822</td>\n",
       "      <td>0.000000</td>\n",
       "      <td>0.000000</td>\n",
       "      <td>0.000000</td>\n",
       "      <td>0.000000</td>\n",
       "      <td>0.000000</td>\n",
       "      <td>0.000000</td>\n",
       "      <td>0.000000</td>\n",
       "      <td>...</td>\n",
       "      <td>0.000000</td>\n",
       "      <td>0.000000</td>\n",
       "      <td>0.000000</td>\n",
       "      <td>0.000000</td>\n",
       "      <td>0.000000</td>\n",
       "      <td>0.000000</td>\n",
       "      <td>0.000000</td>\n",
       "      <td>0.000000</td>\n",
       "      <td>0.163583</td>\n",
       "      <td>-0.163583</td>\n",
       "    </tr>\n",
       "    <tr>\n",
       "      <th>Region_East</th>\n",
       "      <td>0.000000</td>\n",
       "      <td>0.000000</td>\n",
       "      <td>0.000000</td>\n",
       "      <td>0.000000</td>\n",
       "      <td>0.000000</td>\n",
       "      <td>0.000000</td>\n",
       "      <td>0.000000</td>\n",
       "      <td>0.000000</td>\n",
       "      <td>0.000000</td>\n",
       "      <td>0.000000</td>\n",
       "      <td>...</td>\n",
       "      <td>0.000000</td>\n",
       "      <td>0.000000</td>\n",
       "      <td>0.000000</td>\n",
       "      <td>0.000000</td>\n",
       "      <td>0.000000</td>\n",
       "      <td>0.000000</td>\n",
       "      <td>0.000000</td>\n",
       "      <td>0.000000</td>\n",
       "      <td>0.000000</td>\n",
       "      <td>0.000000</td>\n",
       "    </tr>\n",
       "    <tr>\n",
       "      <th>Region_South</th>\n",
       "      <td>0.000000</td>\n",
       "      <td>0.000000</td>\n",
       "      <td>0.000000</td>\n",
       "      <td>0.000000</td>\n",
       "      <td>0.000000</td>\n",
       "      <td>0.000000</td>\n",
       "      <td>0.000000</td>\n",
       "      <td>0.000000</td>\n",
       "      <td>0.000000</td>\n",
       "      <td>0.000000</td>\n",
       "      <td>...</td>\n",
       "      <td>0.000000</td>\n",
       "      <td>0.000000</td>\n",
       "      <td>0.000000</td>\n",
       "      <td>0.000000</td>\n",
       "      <td>0.000000</td>\n",
       "      <td>0.000000</td>\n",
       "      <td>0.000000</td>\n",
       "      <td>0.000000</td>\n",
       "      <td>0.000000</td>\n",
       "      <td>0.000000</td>\n",
       "    </tr>\n",
       "    <tr>\n",
       "      <th>Region_West</th>\n",
       "      <td>0.000000</td>\n",
       "      <td>0.000000</td>\n",
       "      <td>-0.168081</td>\n",
       "      <td>0.000000</td>\n",
       "      <td>0.000000</td>\n",
       "      <td>0.000000</td>\n",
       "      <td>0.000000</td>\n",
       "      <td>0.000000</td>\n",
       "      <td>0.000000</td>\n",
       "      <td>0.000000</td>\n",
       "      <td>...</td>\n",
       "      <td>0.000000</td>\n",
       "      <td>0.000000</td>\n",
       "      <td>0.000000</td>\n",
       "      <td>0.000000</td>\n",
       "      <td>0.000000</td>\n",
       "      <td>0.000000</td>\n",
       "      <td>0.000000</td>\n",
       "      <td>0.000000</td>\n",
       "      <td>-0.267537</td>\n",
       "      <td>0.267537</td>\n",
       "    </tr>\n",
       "    <tr>\n",
       "      <th>Sub-Category_Accessories</th>\n",
       "      <td>0.000000</td>\n",
       "      <td>0.000000</td>\n",
       "      <td>-0.108570</td>\n",
       "      <td>0.000000</td>\n",
       "      <td>0.000000</td>\n",
       "      <td>0.000000</td>\n",
       "      <td>0.000000</td>\n",
       "      <td>0.000000</td>\n",
       "      <td>0.000000</td>\n",
       "      <td>0.000000</td>\n",
       "      <td>...</td>\n",
       "      <td>0.000000</td>\n",
       "      <td>0.000000</td>\n",
       "      <td>0.000000</td>\n",
       "      <td>0.000000</td>\n",
       "      <td>-0.115378</td>\n",
       "      <td>0.000000</td>\n",
       "      <td>0.000000</td>\n",
       "      <td>0.000000</td>\n",
       "      <td>0.000000</td>\n",
       "      <td>0.000000</td>\n",
       "    </tr>\n",
       "    <tr>\n",
       "      <th>Sub-Category_Art</th>\n",
       "      <td>0.000000</td>\n",
       "      <td>0.000000</td>\n",
       "      <td>-0.111118</td>\n",
       "      <td>0.000000</td>\n",
       "      <td>0.000000</td>\n",
       "      <td>0.000000</td>\n",
       "      <td>0.000000</td>\n",
       "      <td>0.000000</td>\n",
       "      <td>0.000000</td>\n",
       "      <td>0.000000</td>\n",
       "      <td>...</td>\n",
       "      <td>0.000000</td>\n",
       "      <td>0.000000</td>\n",
       "      <td>0.000000</td>\n",
       "      <td>0.000000</td>\n",
       "      <td>-0.114469</td>\n",
       "      <td>0.000000</td>\n",
       "      <td>0.000000</td>\n",
       "      <td>0.000000</td>\n",
       "      <td>0.000000</td>\n",
       "      <td>0.000000</td>\n",
       "    </tr>\n",
       "    <tr>\n",
       "      <th>Sub-Category_Binders</th>\n",
       "      <td>0.000000</td>\n",
       "      <td>0.000000</td>\n",
       "      <td>0.455687</td>\n",
       "      <td>0.000000</td>\n",
       "      <td>0.000000</td>\n",
       "      <td>0.000000</td>\n",
       "      <td>0.000000</td>\n",
       "      <td>0.000000</td>\n",
       "      <td>0.000000</td>\n",
       "      <td>0.000000</td>\n",
       "      <td>...</td>\n",
       "      <td>-0.113064</td>\n",
       "      <td>0.000000</td>\n",
       "      <td>-0.139316</td>\n",
       "      <td>0.000000</td>\n",
       "      <td>-0.172091</td>\n",
       "      <td>-0.134920</td>\n",
       "      <td>-0.128079</td>\n",
       "      <td>0.000000</td>\n",
       "      <td>0.000000</td>\n",
       "      <td>0.000000</td>\n",
       "    </tr>\n",
       "    <tr>\n",
       "      <th>Sub-Category_Chairs</th>\n",
       "      <td>0.139358</td>\n",
       "      <td>0.000000</td>\n",
       "      <td>0.000000</td>\n",
       "      <td>0.000000</td>\n",
       "      <td>0.000000</td>\n",
       "      <td>0.000000</td>\n",
       "      <td>0.000000</td>\n",
       "      <td>0.000000</td>\n",
       "      <td>0.000000</td>\n",
       "      <td>0.000000</td>\n",
       "      <td>...</td>\n",
       "      <td>0.000000</td>\n",
       "      <td>0.000000</td>\n",
       "      <td>0.000000</td>\n",
       "      <td>0.000000</td>\n",
       "      <td>-0.105633</td>\n",
       "      <td>0.000000</td>\n",
       "      <td>0.000000</td>\n",
       "      <td>0.000000</td>\n",
       "      <td>0.000000</td>\n",
       "      <td>0.000000</td>\n",
       "    </tr>\n",
       "    <tr>\n",
       "      <th>Sub-Category_Copiers</th>\n",
       "      <td>0.278211</td>\n",
       "      <td>0.000000</td>\n",
       "      <td>0.000000</td>\n",
       "      <td>0.292124</td>\n",
       "      <td>0.000000</td>\n",
       "      <td>0.000000</td>\n",
       "      <td>0.000000</td>\n",
       "      <td>0.000000</td>\n",
       "      <td>0.000000</td>\n",
       "      <td>0.000000</td>\n",
       "      <td>...</td>\n",
       "      <td>0.000000</td>\n",
       "      <td>0.000000</td>\n",
       "      <td>0.000000</td>\n",
       "      <td>0.000000</td>\n",
       "      <td>0.000000</td>\n",
       "      <td>0.000000</td>\n",
       "      <td>0.000000</td>\n",
       "      <td>0.000000</td>\n",
       "      <td>0.000000</td>\n",
       "      <td>0.000000</td>\n",
       "    </tr>\n",
       "    <tr>\n",
       "      <th>Sub-Category_Furnishings</th>\n",
       "      <td>0.000000</td>\n",
       "      <td>0.000000</td>\n",
       "      <td>0.000000</td>\n",
       "      <td>0.000000</td>\n",
       "      <td>0.000000</td>\n",
       "      <td>0.000000</td>\n",
       "      <td>0.000000</td>\n",
       "      <td>0.000000</td>\n",
       "      <td>0.000000</td>\n",
       "      <td>0.000000</td>\n",
       "      <td>...</td>\n",
       "      <td>0.000000</td>\n",
       "      <td>0.000000</td>\n",
       "      <td>0.000000</td>\n",
       "      <td>0.000000</td>\n",
       "      <td>-0.130159</td>\n",
       "      <td>-0.102044</td>\n",
       "      <td>0.000000</td>\n",
       "      <td>0.000000</td>\n",
       "      <td>0.000000</td>\n",
       "      <td>0.000000</td>\n",
       "    </tr>\n",
       "    <tr>\n",
       "      <th>Sub-Category_Machines</th>\n",
       "      <td>0.230978</td>\n",
       "      <td>0.000000</td>\n",
       "      <td>0.000000</td>\n",
       "      <td>0.000000</td>\n",
       "      <td>0.000000</td>\n",
       "      <td>0.000000</td>\n",
       "      <td>0.000000</td>\n",
       "      <td>0.000000</td>\n",
       "      <td>0.000000</td>\n",
       "      <td>0.000000</td>\n",
       "      <td>...</td>\n",
       "      <td>0.000000</td>\n",
       "      <td>0.000000</td>\n",
       "      <td>0.000000</td>\n",
       "      <td>0.000000</td>\n",
       "      <td>0.000000</td>\n",
       "      <td>0.000000</td>\n",
       "      <td>0.000000</td>\n",
       "      <td>0.000000</td>\n",
       "      <td>0.000000</td>\n",
       "      <td>0.000000</td>\n",
       "    </tr>\n",
       "    <tr>\n",
       "      <th>Sub-Category_Paper</th>\n",
       "      <td>-0.113653</td>\n",
       "      <td>0.000000</td>\n",
       "      <td>-0.170624</td>\n",
       "      <td>0.000000</td>\n",
       "      <td>0.000000</td>\n",
       "      <td>0.000000</td>\n",
       "      <td>0.000000</td>\n",
       "      <td>0.000000</td>\n",
       "      <td>0.000000</td>\n",
       "      <td>0.000000</td>\n",
       "      <td>...</td>\n",
       "      <td>-0.105633</td>\n",
       "      <td>0.000000</td>\n",
       "      <td>-0.130159</td>\n",
       "      <td>0.000000</td>\n",
       "      <td>0.000000</td>\n",
       "      <td>-0.126052</td>\n",
       "      <td>-0.119661</td>\n",
       "      <td>0.000000</td>\n",
       "      <td>0.000000</td>\n",
       "      <td>0.000000</td>\n",
       "    </tr>\n",
       "    <tr>\n",
       "      <th>Sub-Category_Phones</th>\n",
       "      <td>0.000000</td>\n",
       "      <td>0.000000</td>\n",
       "      <td>0.000000</td>\n",
       "      <td>0.000000</td>\n",
       "      <td>0.000000</td>\n",
       "      <td>0.000000</td>\n",
       "      <td>0.000000</td>\n",
       "      <td>0.000000</td>\n",
       "      <td>0.000000</td>\n",
       "      <td>0.000000</td>\n",
       "      <td>...</td>\n",
       "      <td>0.000000</td>\n",
       "      <td>0.000000</td>\n",
       "      <td>-0.102044</td>\n",
       "      <td>0.000000</td>\n",
       "      <td>-0.126052</td>\n",
       "      <td>0.000000</td>\n",
       "      <td>0.000000</td>\n",
       "      <td>0.000000</td>\n",
       "      <td>0.000000</td>\n",
       "      <td>0.000000</td>\n",
       "    </tr>\n",
       "    <tr>\n",
       "      <th>Sub-Category_Storage</th>\n",
       "      <td>0.000000</td>\n",
       "      <td>0.000000</td>\n",
       "      <td>-0.120738</td>\n",
       "      <td>0.000000</td>\n",
       "      <td>0.000000</td>\n",
       "      <td>0.000000</td>\n",
       "      <td>0.000000</td>\n",
       "      <td>0.000000</td>\n",
       "      <td>0.000000</td>\n",
       "      <td>0.000000</td>\n",
       "      <td>...</td>\n",
       "      <td>0.000000</td>\n",
       "      <td>0.000000</td>\n",
       "      <td>0.000000</td>\n",
       "      <td>0.000000</td>\n",
       "      <td>-0.119661</td>\n",
       "      <td>0.000000</td>\n",
       "      <td>0.000000</td>\n",
       "      <td>0.000000</td>\n",
       "      <td>0.000000</td>\n",
       "      <td>0.000000</td>\n",
       "    </tr>\n",
       "    <tr>\n",
       "      <th>Sub-Category_Tables</th>\n",
       "      <td>0.114364</td>\n",
       "      <td>0.000000</td>\n",
       "      <td>0.102832</td>\n",
       "      <td>0.000000</td>\n",
       "      <td>0.000000</td>\n",
       "      <td>0.000000</td>\n",
       "      <td>0.000000</td>\n",
       "      <td>0.000000</td>\n",
       "      <td>0.000000</td>\n",
       "      <td>0.000000</td>\n",
       "      <td>...</td>\n",
       "      <td>0.000000</td>\n",
       "      <td>0.000000</td>\n",
       "      <td>0.000000</td>\n",
       "      <td>0.000000</td>\n",
       "      <td>0.000000</td>\n",
       "      <td>0.000000</td>\n",
       "      <td>0.000000</td>\n",
       "      <td>0.000000</td>\n",
       "      <td>0.000000</td>\n",
       "      <td>0.000000</td>\n",
       "    </tr>\n",
       "    <tr>\n",
       "      <th>Returned_No</th>\n",
       "      <td>0.000000</td>\n",
       "      <td>0.000000</td>\n",
       "      <td>0.000000</td>\n",
       "      <td>0.000000</td>\n",
       "      <td>0.000000</td>\n",
       "      <td>0.000000</td>\n",
       "      <td>-0.117552</td>\n",
       "      <td>0.000000</td>\n",
       "      <td>0.000000</td>\n",
       "      <td>0.000000</td>\n",
       "      <td>...</td>\n",
       "      <td>0.000000</td>\n",
       "      <td>0.000000</td>\n",
       "      <td>0.000000</td>\n",
       "      <td>0.000000</td>\n",
       "      <td>0.000000</td>\n",
       "      <td>0.000000</td>\n",
       "      <td>0.000000</td>\n",
       "      <td>0.000000</td>\n",
       "      <td>0.000000</td>\n",
       "      <td>-1.000000</td>\n",
       "    </tr>\n",
       "    <tr>\n",
       "      <th>Returned_Yes</th>\n",
       "      <td>0.000000</td>\n",
       "      <td>0.000000</td>\n",
       "      <td>0.000000</td>\n",
       "      <td>0.000000</td>\n",
       "      <td>0.000000</td>\n",
       "      <td>0.000000</td>\n",
       "      <td>0.117552</td>\n",
       "      <td>0.000000</td>\n",
       "      <td>0.000000</td>\n",
       "      <td>0.000000</td>\n",
       "      <td>...</td>\n",
       "      <td>0.000000</td>\n",
       "      <td>0.000000</td>\n",
       "      <td>0.000000</td>\n",
       "      <td>0.000000</td>\n",
       "      <td>0.000000</td>\n",
       "      <td>0.000000</td>\n",
       "      <td>0.000000</td>\n",
       "      <td>0.000000</td>\n",
       "      <td>-1.000000</td>\n",
       "      <td>0.000000</td>\n",
       "    </tr>\n",
       "  </tbody>\n",
       "</table>\n",
       "<p>29 rows × 29 columns</p>\n",
       "</div>"
      ],
      "text/plain": [
       "                             Sales  Quantity  Discount    Profit  \\\n",
       "Sales                     0.000000  0.210156  0.000000  0.493814   \n",
       "Quantity                  0.210156  0.000000  0.000000  0.000000   \n",
       "Discount                  0.000000  0.000000  0.000000 -0.219336   \n",
       "Profit                    0.493814  0.000000 -0.219336  0.000000   \n",
       "Days Until Shipping       0.000000  0.000000  0.000000  0.000000   \n",
       "Ship Mode_First Class     0.000000  0.000000  0.000000  0.000000   \n",
       "Ship Mode_Same Day        0.000000  0.000000  0.000000  0.000000   \n",
       "Ship Mode_Second Class    0.000000  0.000000  0.000000  0.000000   \n",
       "Ship Mode_Standard Class  0.000000  0.000000  0.000000  0.000000   \n",
       "Segment_Consumer          0.000000  0.000000  0.000000  0.000000   \n",
       "Segment_Corporate         0.000000  0.000000  0.000000  0.000000   \n",
       "Segment_Home Office       0.000000  0.000000  0.000000  0.000000   \n",
       "Region_Central            0.000000  0.000000  0.241822  0.000000   \n",
       "Region_East               0.000000  0.000000  0.000000  0.000000   \n",
       "Region_South              0.000000  0.000000  0.000000  0.000000   \n",
       "Region_West               0.000000  0.000000 -0.168081  0.000000   \n",
       "Sub-Category_Accessories  0.000000  0.000000 -0.108570  0.000000   \n",
       "Sub-Category_Art          0.000000  0.000000 -0.111118  0.000000   \n",
       "Sub-Category_Binders      0.000000  0.000000  0.455687  0.000000   \n",
       "Sub-Category_Chairs       0.139358  0.000000  0.000000  0.000000   \n",
       "Sub-Category_Copiers      0.278211  0.000000  0.000000  0.292124   \n",
       "Sub-Category_Furnishings  0.000000  0.000000  0.000000  0.000000   \n",
       "Sub-Category_Machines     0.230978  0.000000  0.000000  0.000000   \n",
       "Sub-Category_Paper       -0.113653  0.000000 -0.170624  0.000000   \n",
       "Sub-Category_Phones       0.000000  0.000000  0.000000  0.000000   \n",
       "Sub-Category_Storage      0.000000  0.000000 -0.120738  0.000000   \n",
       "Sub-Category_Tables       0.114364  0.000000  0.102832  0.000000   \n",
       "Returned_No               0.000000  0.000000  0.000000  0.000000   \n",
       "Returned_Yes              0.000000  0.000000  0.000000  0.000000   \n",
       "\n",
       "                          Days Until Shipping  Ship Mode_First Class  \\\n",
       "Sales                                0.000000               0.000000   \n",
       "Quantity                             0.000000               0.000000   \n",
       "Discount                             0.000000               0.000000   \n",
       "Profit                               0.000000               0.000000   \n",
       "Days Until Shipping                  0.000000              -0.408114   \n",
       "Ship Mode_First Class               -0.408114               0.000000   \n",
       "Ship Mode_Same Day                  -0.579380              -0.117661   \n",
       "Ship Mode_Second Class              -0.171324              -0.204097   \n",
       "Ship Mode_Standard Class             0.735503              -0.520582   \n",
       "Segment_Consumer                     0.000000               0.000000   \n",
       "Segment_Corporate                    0.000000               0.000000   \n",
       "Segment_Home Office                  0.000000               0.000000   \n",
       "Region_Central                       0.000000               0.000000   \n",
       "Region_East                          0.000000               0.000000   \n",
       "Region_South                         0.000000               0.000000   \n",
       "Region_West                          0.000000               0.000000   \n",
       "Sub-Category_Accessories             0.000000               0.000000   \n",
       "Sub-Category_Art                     0.000000               0.000000   \n",
       "Sub-Category_Binders                 0.000000               0.000000   \n",
       "Sub-Category_Chairs                  0.000000               0.000000   \n",
       "Sub-Category_Copiers                 0.000000               0.000000   \n",
       "Sub-Category_Furnishings             0.000000               0.000000   \n",
       "Sub-Category_Machines                0.000000               0.000000   \n",
       "Sub-Category_Paper                   0.000000               0.000000   \n",
       "Sub-Category_Phones                  0.000000               0.000000   \n",
       "Sub-Category_Storage                 0.000000               0.000000   \n",
       "Sub-Category_Tables                  0.000000               0.000000   \n",
       "Returned_No                          0.000000               0.000000   \n",
       "Returned_Yes                         0.000000               0.000000   \n",
       "\n",
       "                          Ship Mode_Same Day  Ship Mode_Second Class  \\\n",
       "Sales                               0.000000                0.000000   \n",
       "Quantity                            0.000000                0.000000   \n",
       "Discount                            0.000000                0.000000   \n",
       "Profit                              0.000000                0.000000   \n",
       "Days Until Shipping                -0.579380               -0.171324   \n",
       "Ship Mode_First Class              -0.117661               -0.204097   \n",
       "Ship Mode_Same Day                  0.000000               -0.128277   \n",
       "Ship Mode_Second Class             -0.128277                0.000000   \n",
       "Ship Mode_Standard Class           -0.327191               -0.567554   \n",
       "Segment_Consumer                    0.000000                0.000000   \n",
       "Segment_Corporate                   0.000000                0.000000   \n",
       "Segment_Home Office                 0.000000                0.000000   \n",
       "Region_Central                      0.000000                0.000000   \n",
       "Region_East                         0.000000                0.000000   \n",
       "Region_South                        0.000000                0.000000   \n",
       "Region_West                         0.000000                0.000000   \n",
       "Sub-Category_Accessories            0.000000                0.000000   \n",
       "Sub-Category_Art                    0.000000                0.000000   \n",
       "Sub-Category_Binders                0.000000                0.000000   \n",
       "Sub-Category_Chairs                 0.000000                0.000000   \n",
       "Sub-Category_Copiers                0.000000                0.000000   \n",
       "Sub-Category_Furnishings            0.000000                0.000000   \n",
       "Sub-Category_Machines               0.000000                0.000000   \n",
       "Sub-Category_Paper                  0.000000                0.000000   \n",
       "Sub-Category_Phones                 0.000000                0.000000   \n",
       "Sub-Category_Storage                0.000000                0.000000   \n",
       "Sub-Category_Tables                 0.000000                0.000000   \n",
       "Returned_No                        -0.117552                0.000000   \n",
       "Returned_Yes                        0.117552                0.000000   \n",
       "\n",
       "                          Ship Mode_Standard Class  Segment_Consumer  ...  \\\n",
       "Sales                                     0.000000          0.000000  ...   \n",
       "Quantity                                  0.000000          0.000000  ...   \n",
       "Discount                                  0.000000          0.000000  ...   \n",
       "Profit                                    0.000000          0.000000  ...   \n",
       "Days Until Shipping                       0.735503          0.000000  ...   \n",
       "Ship Mode_First Class                    -0.520582          0.000000  ...   \n",
       "Ship Mode_Same Day                       -0.327191          0.000000  ...   \n",
       "Ship Mode_Second Class                   -0.567554          0.000000  ...   \n",
       "Ship Mode_Standard Class                  0.000000          0.000000  ...   \n",
       "Segment_Consumer                          0.000000          0.000000  ...   \n",
       "Segment_Corporate                         0.000000         -0.702529  ...   \n",
       "Segment_Home Office                       0.000000         -0.473922  ...   \n",
       "Region_Central                            0.000000          0.000000  ...   \n",
       "Region_East                               0.000000          0.000000  ...   \n",
       "Region_South                              0.000000          0.000000  ...   \n",
       "Region_West                               0.000000          0.000000  ...   \n",
       "Sub-Category_Accessories                  0.000000          0.000000  ...   \n",
       "Sub-Category_Art                          0.000000          0.000000  ...   \n",
       "Sub-Category_Binders                      0.000000          0.000000  ...   \n",
       "Sub-Category_Chairs                       0.000000          0.000000  ...   \n",
       "Sub-Category_Copiers                      0.000000          0.000000  ...   \n",
       "Sub-Category_Furnishings                  0.000000          0.000000  ...   \n",
       "Sub-Category_Machines                     0.000000          0.000000  ...   \n",
       "Sub-Category_Paper                        0.000000          0.000000  ...   \n",
       "Sub-Category_Phones                       0.000000          0.000000  ...   \n",
       "Sub-Category_Storage                      0.000000          0.000000  ...   \n",
       "Sub-Category_Tables                       0.000000          0.000000  ...   \n",
       "Returned_No                               0.000000          0.000000  ...   \n",
       "Returned_Yes                              0.000000          0.000000  ...   \n",
       "\n",
       "                          Sub-Category_Chairs  Sub-Category_Copiers  \\\n",
       "Sales                                0.139358              0.278211   \n",
       "Quantity                             0.000000              0.000000   \n",
       "Discount                             0.000000              0.000000   \n",
       "Profit                               0.000000              0.292124   \n",
       "Days Until Shipping                  0.000000              0.000000   \n",
       "Ship Mode_First Class                0.000000              0.000000   \n",
       "Ship Mode_Same Day                   0.000000              0.000000   \n",
       "Ship Mode_Second Class               0.000000              0.000000   \n",
       "Ship Mode_Standard Class             0.000000              0.000000   \n",
       "Segment_Consumer                     0.000000              0.000000   \n",
       "Segment_Corporate                    0.000000              0.000000   \n",
       "Segment_Home Office                  0.000000              0.000000   \n",
       "Region_Central                       0.000000              0.000000   \n",
       "Region_East                          0.000000              0.000000   \n",
       "Region_South                         0.000000              0.000000   \n",
       "Region_West                          0.000000              0.000000   \n",
       "Sub-Category_Accessories             0.000000              0.000000   \n",
       "Sub-Category_Art                     0.000000              0.000000   \n",
       "Sub-Category_Binders                -0.113064              0.000000   \n",
       "Sub-Category_Chairs                  0.000000              0.000000   \n",
       "Sub-Category_Copiers                 0.000000              0.000000   \n",
       "Sub-Category_Furnishings             0.000000              0.000000   \n",
       "Sub-Category_Machines                0.000000              0.000000   \n",
       "Sub-Category_Paper                  -0.105633              0.000000   \n",
       "Sub-Category_Phones                  0.000000              0.000000   \n",
       "Sub-Category_Storage                 0.000000              0.000000   \n",
       "Sub-Category_Tables                  0.000000              0.000000   \n",
       "Returned_No                          0.000000              0.000000   \n",
       "Returned_Yes                         0.000000              0.000000   \n",
       "\n",
       "                          Sub-Category_Furnishings  Sub-Category_Machines  \\\n",
       "Sales                                     0.000000               0.230978   \n",
       "Quantity                                  0.000000               0.000000   \n",
       "Discount                                  0.000000               0.000000   \n",
       "Profit                                    0.000000               0.000000   \n",
       "Days Until Shipping                       0.000000               0.000000   \n",
       "Ship Mode_First Class                     0.000000               0.000000   \n",
       "Ship Mode_Same Day                        0.000000               0.000000   \n",
       "Ship Mode_Second Class                    0.000000               0.000000   \n",
       "Ship Mode_Standard Class                  0.000000               0.000000   \n",
       "Segment_Consumer                          0.000000               0.000000   \n",
       "Segment_Corporate                         0.000000               0.000000   \n",
       "Segment_Home Office                       0.000000               0.000000   \n",
       "Region_Central                            0.000000               0.000000   \n",
       "Region_East                               0.000000               0.000000   \n",
       "Region_South                              0.000000               0.000000   \n",
       "Region_West                               0.000000               0.000000   \n",
       "Sub-Category_Accessories                  0.000000               0.000000   \n",
       "Sub-Category_Art                          0.000000               0.000000   \n",
       "Sub-Category_Binders                     -0.139316               0.000000   \n",
       "Sub-Category_Chairs                       0.000000               0.000000   \n",
       "Sub-Category_Copiers                      0.000000               0.000000   \n",
       "Sub-Category_Furnishings                  0.000000               0.000000   \n",
       "Sub-Category_Machines                     0.000000               0.000000   \n",
       "Sub-Category_Paper                       -0.130159               0.000000   \n",
       "Sub-Category_Phones                      -0.102044               0.000000   \n",
       "Sub-Category_Storage                      0.000000               0.000000   \n",
       "Sub-Category_Tables                       0.000000               0.000000   \n",
       "Returned_No                               0.000000               0.000000   \n",
       "Returned_Yes                              0.000000               0.000000   \n",
       "\n",
       "                          Sub-Category_Paper  Sub-Category_Phones  \\\n",
       "Sales                              -0.113653             0.000000   \n",
       "Quantity                            0.000000             0.000000   \n",
       "Discount                           -0.170624             0.000000   \n",
       "Profit                              0.000000             0.000000   \n",
       "Days Until Shipping                 0.000000             0.000000   \n",
       "Ship Mode_First Class               0.000000             0.000000   \n",
       "Ship Mode_Same Day                  0.000000             0.000000   \n",
       "Ship Mode_Second Class              0.000000             0.000000   \n",
       "Ship Mode_Standard Class            0.000000             0.000000   \n",
       "Segment_Consumer                    0.000000             0.000000   \n",
       "Segment_Corporate                   0.000000             0.000000   \n",
       "Segment_Home Office                 0.000000             0.000000   \n",
       "Region_Central                      0.000000             0.000000   \n",
       "Region_East                         0.000000             0.000000   \n",
       "Region_South                        0.000000             0.000000   \n",
       "Region_West                         0.000000             0.000000   \n",
       "Sub-Category_Accessories           -0.115378             0.000000   \n",
       "Sub-Category_Art                   -0.114469             0.000000   \n",
       "Sub-Category_Binders               -0.172091            -0.134920   \n",
       "Sub-Category_Chairs                -0.105633             0.000000   \n",
       "Sub-Category_Copiers                0.000000             0.000000   \n",
       "Sub-Category_Furnishings           -0.130159            -0.102044   \n",
       "Sub-Category_Machines               0.000000             0.000000   \n",
       "Sub-Category_Paper                  0.000000            -0.126052   \n",
       "Sub-Category_Phones                -0.126052             0.000000   \n",
       "Sub-Category_Storage               -0.119661             0.000000   \n",
       "Sub-Category_Tables                 0.000000             0.000000   \n",
       "Returned_No                         0.000000             0.000000   \n",
       "Returned_Yes                        0.000000             0.000000   \n",
       "\n",
       "                          Sub-Category_Storage  Sub-Category_Tables  \\\n",
       "Sales                                 0.000000             0.114364   \n",
       "Quantity                              0.000000             0.000000   \n",
       "Discount                             -0.120738             0.102832   \n",
       "Profit                                0.000000             0.000000   \n",
       "Days Until Shipping                   0.000000             0.000000   \n",
       "Ship Mode_First Class                 0.000000             0.000000   \n",
       "Ship Mode_Same Day                    0.000000             0.000000   \n",
       "Ship Mode_Second Class                0.000000             0.000000   \n",
       "Ship Mode_Standard Class              0.000000             0.000000   \n",
       "Segment_Consumer                      0.000000             0.000000   \n",
       "Segment_Corporate                     0.000000             0.000000   \n",
       "Segment_Home Office                   0.000000             0.000000   \n",
       "Region_Central                        0.000000             0.000000   \n",
       "Region_East                           0.000000             0.000000   \n",
       "Region_South                          0.000000             0.000000   \n",
       "Region_West                           0.000000             0.000000   \n",
       "Sub-Category_Accessories              0.000000             0.000000   \n",
       "Sub-Category_Art                      0.000000             0.000000   \n",
       "Sub-Category_Binders                 -0.128079             0.000000   \n",
       "Sub-Category_Chairs                   0.000000             0.000000   \n",
       "Sub-Category_Copiers                  0.000000             0.000000   \n",
       "Sub-Category_Furnishings              0.000000             0.000000   \n",
       "Sub-Category_Machines                 0.000000             0.000000   \n",
       "Sub-Category_Paper                   -0.119661             0.000000   \n",
       "Sub-Category_Phones                   0.000000             0.000000   \n",
       "Sub-Category_Storage                  0.000000             0.000000   \n",
       "Sub-Category_Tables                   0.000000             0.000000   \n",
       "Returned_No                           0.000000             0.000000   \n",
       "Returned_Yes                          0.000000             0.000000   \n",
       "\n",
       "                          Returned_No  Returned_Yes  \n",
       "Sales                        0.000000      0.000000  \n",
       "Quantity                     0.000000      0.000000  \n",
       "Discount                     0.000000      0.000000  \n",
       "Profit                       0.000000      0.000000  \n",
       "Days Until Shipping          0.000000      0.000000  \n",
       "Ship Mode_First Class        0.000000      0.000000  \n",
       "Ship Mode_Same Day          -0.117552      0.117552  \n",
       "Ship Mode_Second Class       0.000000      0.000000  \n",
       "Ship Mode_Standard Class     0.000000      0.000000  \n",
       "Segment_Consumer             0.000000      0.000000  \n",
       "Segment_Corporate            0.000000      0.000000  \n",
       "Segment_Home Office          0.000000      0.000000  \n",
       "Region_Central               0.163583     -0.163583  \n",
       "Region_East                  0.000000      0.000000  \n",
       "Region_South                 0.000000      0.000000  \n",
       "Region_West                 -0.267537      0.267537  \n",
       "Sub-Category_Accessories     0.000000      0.000000  \n",
       "Sub-Category_Art             0.000000      0.000000  \n",
       "Sub-Category_Binders         0.000000      0.000000  \n",
       "Sub-Category_Chairs          0.000000      0.000000  \n",
       "Sub-Category_Copiers         0.000000      0.000000  \n",
       "Sub-Category_Furnishings     0.000000      0.000000  \n",
       "Sub-Category_Machines        0.000000      0.000000  \n",
       "Sub-Category_Paper           0.000000      0.000000  \n",
       "Sub-Category_Phones          0.000000      0.000000  \n",
       "Sub-Category_Storage         0.000000      0.000000  \n",
       "Sub-Category_Tables          0.000000      0.000000  \n",
       "Returned_No                  0.000000     -1.000000  \n",
       "Returned_Yes                -1.000000      0.000000  \n",
       "\n",
       "[29 rows x 29 columns]"
      ]
     },
     "execution_count": 13,
     "metadata": {},
     "output_type": "execute_result"
    }
   ],
   "source": [
    "adjacency_matrix=filtered_df[\"corr_filtered\"].fillna(0)\n",
    "adjacency_matrix"
   ]
  },
  {
   "cell_type": "code",
   "execution_count": 14,
   "metadata": {},
   "outputs": [],
   "source": [
    "adjacency_matrix=filtered_df[\"corr_filtered\"].fillna(0)\n",
    "dict_labels={list(adjacency_matrix.columns).index(col):col for col in list(adjacency_matrix.columns)}\n",
    "adjacency_matrix=adjacency_matrix.to_numpy()"
   ]
  },
  {
   "cell_type": "code",
   "execution_count": 15,
   "metadata": {},
   "outputs": [
    {
     "data": {
      "text/plain": [
       "29"
      ]
     },
     "execution_count": 15,
     "metadata": {},
     "output_type": "execute_result"
    }
   ],
   "source": [
    "adjacency_matrix.shape[0]"
   ]
  },
  {
   "cell_type": "code",
   "execution_count": 17,
   "metadata": {},
   "outputs": [
    {
     "data": {
      "image/png": "[encoded data removed]",
      "text/plain": [
       "<Figure size 1500x1500 with 1 Axes>"
      ]
     },
     "metadata": {},
     "output_type": "display_data"
    }
   ],
   "source": [
    "\n",
    "ea.GraphFromAdjacencyMatrix(\n",
    "        adjacency_matrix=adjacency_matrix,centrality='eigenvector').plot_sns()"
   ]
  },
  {
   "cell_type": "code",
   "execution_count": 18,
   "metadata": {},
   "outputs": [
    {
     "data": {
      "application/vnd.plotly.v1+json": {
       "config": {
        "modeBarButtonsToRemove": [
         "select",
         "lasso"
        ],
        "plotlyServerURL": "https://plot.ly"
       },
       "data": [
        {
         "line": {
          "color": "green",
          "width": 0.4203115837674361
         },
         "mode": "lines",
         "type": "scatter",
         "x": [
          0.4036976924956149,
          0.4763179605581651,
          null
         ],
         "y": [
          -0.3765009662070102,
          -0.5251847296317159,
          null
         ]
        },
        {
         "line": {
          "color": "green",
          "width": 0.98762771298803
         },
         "mode": "lines",
         "type": "scatter",
         "x": [
          0.4036976924956149,
          0.3315559558626957,
          null
         ],
         "y": [
          -0.3765009662070102,
          -0.2629712118912143,
          null
         ]
        },
        {
         "line": {
          "color": "green",
          "width": 0.27871596776159707
         },
         "mode": "lines",
         "type": "scatter",
         "x": [
          0.4036976924956149,
          0.23677113219757814,
          null
         ],
         "y": [
          -0.3765009662070102,
          -0.4829773203513623,
          null
         ]
        },
        {
         "line": {
          "color": "green",
          "width": 0.5564229598978341
         },
         "mode": "lines",
         "type": "scatter",
         "x": [
          0.4036976924956149,
          0.4903152672458801,
          null
         ],
         "y": [
          -0.3765009662070102,
          -0.2924894022691296,
          null
         ]
        },
        {
         "line": {
          "color": "green",
          "width": 0.46195529720659734
         },
         "mode": "lines",
         "type": "scatter",
         "x": [
          0.4036976924956149,
          0.6089933858835912,
          null
         ],
         "y": [
          -0.3765009662070102,
          -0.4565626718465463,
          null
         ]
        },
        {
         "line": {
          "color": "red",
          "width": 0.2273068287510857
         },
         "mode": "lines",
         "type": "scatter",
         "x": [
          0.4036976924956149,
          0.10057326604793841,
          null
         ],
         "y": [
          -0.3765009662070102,
          -0.38035936194695774,
          null
         ]
        },
        {
         "line": {
          "color": "green",
          "width": 0.2287280273658846
         },
         "mode": "lines",
         "type": "scatter",
         "x": [
          0.4036976924956149,
          0.34831645832219565,
          null
         ],
         "y": [
          -0.3765009662070102,
          -0.1458143172277036,
          null
         ]
        },
        {
         "line": {
          "color": "red",
          "width": 0.43867135712830035
         },
         "mode": "lines",
         "type": "scatter",
         "x": [
          0.07187856987543846,
          0.3315559558626957,
          null
         ],
         "y": [
          -0.12971077781337947,
          -0.2629712118912143,
          null
         ]
        },
        {
         "line": {
          "color": "green",
          "width": 0.4836435063977681
         },
         "mode": "lines",
         "type": "scatter",
         "x": [
          0.07187856987543846,
          -0.029197941290507495,
          null
         ],
         "y": [
          -0.12971077781337947,
          0.16352530468526816,
          null
         ]
        },
        {
         "line": {
          "color": "red",
          "width": 0.3361612447186891
         },
         "mode": "lines",
         "type": "scatter",
         "x": [
          0.07187856987543846,
          -0.039207811684142925,
          null
         ],
         "y": [
          -0.12971077781337947,
          0.22361246822259145,
          null
         ]
        },
        {
         "line": {
          "color": "red",
          "width": 0.2171390991931339
         },
         "mode": "lines",
         "type": "scatter",
         "x": [
          0.07187856987543846,
          -0.06219229790413964,
          null
         ],
         "y": [
          -0.12971077781337947,
          -0.24861900236745327,
          null
         ]
        },
        {
         "line": {
          "color": "red",
          "width": 0.22223609445334877
         },
         "mode": "lines",
         "type": "scatter",
         "x": [
          0.07187856987543846,
          0.13078074109808135,
          null
         ],
         "y": [
          -0.12971077781337947,
          -0.2495882264124171,
          null
         ]
        },
        {
         "line": {
          "color": "green",
          "width": 0.9113734270311207
         },
         "mode": "lines",
         "type": "scatter",
         "x": [
          0.07187856987543846,
          0.04262960138124959,
          null
         ],
         "y": [
          -0.12971077781337947,
          -0.32958039269986084,
          null
         ]
        },
        {
         "line": {
          "color": "red",
          "width": 0.3412483054192624
         },
         "mode": "lines",
         "type": "scatter",
         "x": [
          0.07187856987543846,
          0.10057326604793841,
          null
         ],
         "y": [
          -0.12971077781337947,
          -0.38035936194695774,
          null
         ]
        },
        {
         "line": {
          "color": "red",
          "width": 0.24147533590862985
         },
         "mode": "lines",
         "type": "scatter",
         "x": [
          0.07187856987543846,
          -0.07233476092223509,
          null
         ],
         "y": [
          -0.12971077781337947,
          -0.3381307286670513,
          null
         ]
        },
        {
         "line": {
          "color": "green",
          "width": 0.20566337404481333
         },
         "mode": "lines",
         "type": "scatter",
         "x": [
          0.07187856987543846,
          0.34831645832219565,
          null
         ],
         "y": [
          -0.12971077781337947,
          -0.1458143172277036,
          null
         ]
        },
        {
         "line": {
          "color": "green",
          "width": 0.584248058981511
         },
         "mode": "lines",
         "type": "scatter",
         "x": [
          0.3315559558626957,
          0.4903152672458801,
          null
         ],
         "y": [
          -0.2629712118912143,
          -0.2924894022691296,
          null
         ]
        },
        {
         "line": {
          "color": "red",
          "width": 0.816228348897303
         },
         "mode": "lines",
         "type": "scatter",
         "x": [
          0.058062744152298444,
          0.0992374213091036,
          null
         ],
         "y": [
          0.8479988394974944,
          0.9256197778396015,
          null
         ]
        },
        {
         "line": {
          "color": "red",
          "width": 1.1587604221540497
         },
         "mode": "lines",
         "type": "scatter",
         "x": [
          0.058062744152298444,
          0.02058869651746888,
          null
         ],
         "y": [
          0.8479988394974944,
          0.7379745530205838,
          null
         ]
        },
        {
         "line": {
          "color": "red",
          "width": 0.3426471914332318
         },
         "mode": "lines",
         "type": "scatter",
         "x": [
          0.058062744152298444,
          0.012342541044077771,
          null
         ],
         "y": [
          0.8479988394974944,
          0.9640417302673365,
          null
         ]
        },
        {
         "line": {
          "color": "green",
          "width": 1.471005794280839
         },
         "mode": "lines",
         "type": "scatter",
         "x": [
          0.058062744152298444,
          0.019278369137500265,
          null
         ],
         "y": [
          0.8479988394974944,
          0.8927942537926107,
          null
         ]
        },
        {
         "line": {
          "color": "red",
          "width": 0.23532191650161322
         },
         "mode": "lines",
         "type": "scatter",
         "x": [
          0.0992374213091036,
          0.02058869651746888,
          null
         ],
         "y": [
          0.9256197778396015,
          0.7379745530205838,
          null
         ]
        },
        {
         "line": {
          "color": "red",
          "width": 0.4081947695503021
         },
         "mode": "lines",
         "type": "scatter",
         "x": [
          0.0992374213091036,
          0.012342541044077771,
          null
         ],
         "y": [
          0.9256197778396015,
          0.9640417302673365,
          null
         ]
        },
        {
         "line": {
          "color": "red",
          "width": 1.0411642862520025
         },
         "mode": "lines",
         "type": "scatter",
         "x": [
          0.0992374213091036,
          0.019278369137500265,
          null
         ],
         "y": [
          0.9256197778396015,
          0.8927942537926107,
          null
         ]
        },
        {
         "line": {
          "color": "red",
          "width": 0.25655471741591074
         },
         "mode": "lines",
         "type": "scatter",
         "x": [
          0.02058869651746888,
          0.012342541044077771,
          null
         ],
         "y": [
          0.7379745530205838,
          0.9640417302673365,
          null
         ]
        },
        {
         "line": {
          "color": "red",
          "width": 0.6543827338532409
         },
         "mode": "lines",
         "type": "scatter",
         "x": [
          0.02058869651746888,
          0.019278369137500265,
          null
         ],
         "y": [
          0.7379745530205838,
          0.8927942537926107,
          null
         ]
        },
        {
         "line": {
          "color": "red",
          "width": 0.2351041138545819
         },
         "mode": "lines",
         "type": "scatter",
         "x": [
          0.02058869651746888,
          -0.044831191548338575,
          null
         ],
         "y": [
          0.7379745530205838,
          0.41242596759640543,
          null
         ]
        },
        {
         "line": {
          "color": "green",
          "width": 0.23510411385458221
         },
         "mode": "lines",
         "type": "scatter",
         "x": [
          0.02058869651746888,
          0.006178609956907238,
          null
         ],
         "y": [
          0.7379745530205838,
          0.4053363379365302,
          null
         ]
        },
        {
         "line": {
          "color": "red",
          "width": 1.1351072318888349
         },
         "mode": "lines",
         "type": "scatter",
         "x": [
          0.012342541044077771,
          0.019278369137500265,
          null
         ],
         "y": [
          0.9640417302673365,
          0.8927942537926107,
          null
         ]
        },
        {
         "line": {
          "color": "red",
          "width": 1.4050576281989817
         },
         "mode": "lines",
         "type": "scatter",
         "x": [
          -0.9080367323750203,
          -0.9983360510422082,
          null
         ],
         "y": [
          -0.2409471467405128,
          -0.2859592902192496,
          null
         ]
        },
        {
         "line": {
          "color": "red",
          "width": 0.9478447189987623
         },
         "mode": "lines",
         "type": "scatter",
         "x": [
          -0.9080367323750203,
          -1,
          null
         ],
         "y": [
          -0.2409471467405128,
          -0.2006310847266443,
          null
         ]
        },
        {
         "line": {
          "color": "red",
          "width": 0.5874315971795534
         },
         "mode": "lines",
         "type": "scatter",
         "x": [
          -0.9983360510422082,
          -1,
          null
         ],
         "y": [
          -0.2859592902192496,
          -0.2006310847266443,
          null
         ]
        },
        {
         "line": {
          "color": "red",
          "width": 0.6317986288407594
         },
         "mode": "lines",
         "type": "scatter",
         "x": [
          -0.029197941290507495,
          -0.12289477207665299,
          null
         ],
         "y": [
          0.16352530468526816,
          0.25441378244727086,
          null
         ]
        },
        {
         "line": {
          "color": "red",
          "width": 0.4123368318777849
         },
         "mode": "lines",
         "type": "scatter",
         "x": [
          -0.029197941290507495,
          -0.1738750155477639,
          null
         ],
         "y": [
          0.16352530468526816,
          0.202340831678783,
          null
         ]
        },
        {
         "line": {
          "color": "red",
          "width": 0.7669917922034847
         },
         "mode": "lines",
         "type": "scatter",
         "x": [
          -0.029197941290507495,
          -0.039207811684142925,
          null
         ],
         "y": [
          0.16352530468526816,
          0.22361246822259145,
          null
         ]
        },
        {
         "line": {
          "color": "green",
          "width": 0.3271668516455845
         },
         "mode": "lines",
         "type": "scatter",
         "x": [
          -0.029197941290507495,
          -0.044831191548338575,
          null
         ],
         "y": [
          0.16352530468526816,
          0.41242596759640543,
          null
         ]
        },
        {
         "line": {
          "color": "red",
          "width": 0.32716685164558484
         },
         "mode": "lines",
         "type": "scatter",
         "x": [
          -0.029197941290507495,
          0.006178609956907238,
          null
         ],
         "y": [
          0.16352530468526816,
          0.4053363379365302,
          null
         ]
        },
        {
         "line": {
          "color": "red",
          "width": 0.5197400573160024
         },
         "mode": "lines",
         "type": "scatter",
         "x": [
          -0.12289477207665299,
          -0.1738750155477639,
          null
         ],
         "y": [
          0.25441378244727086,
          0.202340831678783,
          null
         ]
        },
        {
         "line": {
          "color": "red",
          "width": 0.9667735870825509
         },
         "mode": "lines",
         "type": "scatter",
         "x": [
          -0.12289477207665299,
          -0.039207811684142925,
          null
         ],
         "y": [
          0.25441378244727086,
          0.22361246822259145,
          null
         ]
        },
        {
         "line": {
          "color": "red",
          "width": 0.6309547691994374
         },
         "mode": "lines",
         "type": "scatter",
         "x": [
          -0.1738750155477639,
          -0.039207811684142925,
          null
         ],
         "y": [
          0.202340831678783,
          0.22361246822259145,
          null
         ]
        },
        {
         "line": {
          "color": "red",
          "width": 0.5350731163320258
         },
         "mode": "lines",
         "type": "scatter",
         "x": [
          -0.039207811684142925,
          -0.044831191548338575,
          null
         ],
         "y": [
          0.22361246822259145,
          0.41242596759640543,
          null
         ]
        },
        {
         "line": {
          "color": "green",
          "width": 0.5350731163320267
         },
         "mode": "lines",
         "type": "scatter",
         "x": [
          -0.039207811684142925,
          0.006178609956907238,
          null
         ],
         "y": [
          0.22361246822259145,
          0.4053363379365302,
          null
         ]
        },
        {
         "line": {
          "color": "red",
          "width": 0.24699046076668446
         },
         "mode": "lines",
         "type": "scatter",
         "x": [
          -0.06219229790413964,
          0.04262960138124959,
          null
         ],
         "y": [
          -0.24861900236745327,
          -0.32958039269986084,
          null
         ]
        },
        {
         "line": {
          "color": "red",
          "width": 0.23075626755184692
         },
         "mode": "lines",
         "type": "scatter",
         "x": [
          -0.06219229790413964,
          0.10057326604793841,
          null
         ],
         "y": [
          -0.24861900236745327,
          -0.38035936194695774,
          null
         ]
        },
        {
         "line": {
          "color": "red",
          "width": 0.24504514428039775
         },
         "mode": "lines",
         "type": "scatter",
         "x": [
          0.13078074109808135,
          0.04262960138124959,
          null
         ],
         "y": [
          -0.2495882264124171,
          -0.32958039269986084,
          null
         ]
        },
        {
         "line": {
          "color": "red",
          "width": 0.22893881286072607
         },
         "mode": "lines",
         "type": "scatter",
         "x": [
          0.13078074109808135,
          0.10057326604793841,
          null
         ],
         "y": [
          -0.2495882264124171,
          -0.38035936194695774,
          null
         ]
        },
        {
         "line": {
          "color": "red",
          "width": 0.226128451251922
         },
         "mode": "lines",
         "type": "scatter",
         "x": [
          0.04262960138124959,
          0.23677113219757814,
          null
         ],
         "y": [
          -0.32958039269986084,
          -0.4829773203513623,
          null
         ]
        },
        {
         "line": {
          "color": "red",
          "width": 0.278631027006175
         },
         "mode": "lines",
         "type": "scatter",
         "x": [
          0.04262960138124959,
          0.04215516337365446,
          null
         ],
         "y": [
          -0.32958039269986084,
          -0.5569761700071338,
          null
         ]
        },
        {
         "line": {
          "color": "red",
          "width": 0.3441823970242528
         },
         "mode": "lines",
         "type": "scatter",
         "x": [
          0.04262960138124959,
          0.10057326604793841,
          null
         ],
         "y": [
          -0.32958039269986084,
          -0.38035936194695774,
          null
         ]
        },
        {
         "line": {
          "color": "red",
          "width": 0.2698392329033355
         },
         "mode": "lines",
         "type": "scatter",
         "x": [
          0.04262960138124959,
          -0.04876700206842953,
          null
         ],
         "y": [
          -0.32958039269986084,
          -0.5270810459591334,
          null
         ]
        },
        {
         "line": {
          "color": "red",
          "width": 0.2561582030176615
         },
         "mode": "lines",
         "type": "scatter",
         "x": [
          0.04262960138124959,
          -0.07233476092223509,
          null
         ],
         "y": [
          -0.32958039269986084,
          -0.3381307286670513,
          null
         ]
        },
        {
         "line": {
          "color": "red",
          "width": 0.2112654765540311
         },
         "mode": "lines",
         "type": "scatter",
         "x": [
          0.23677113219757814,
          0.10057326604793841,
          null
         ],
         "y": [
          -0.4829773203513623,
          -0.38035936194695774,
          null
         ]
        },
        {
         "line": {
          "color": "red",
          "width": 0.2603171621142846
         },
         "mode": "lines",
         "type": "scatter",
         "x": [
          0.04215516337365446,
          0.10057326604793841,
          null
         ],
         "y": [
          -0.5569761700071338,
          -0.38035936194695774,
          null
         ]
        },
        {
         "line": {
          "color": "red",
          "width": 0.20408883180490547
         },
         "mode": "lines",
         "type": "scatter",
         "x": [
          0.04215516337365446,
          -0.04876700206842953,
          null
         ],
         "y": [
          -0.5569761700071338,
          -0.5270810459591334,
          null
         ]
        },
        {
         "line": {
          "color": "red",
          "width": 0.2521032352040782
         },
         "mode": "lines",
         "type": "scatter",
         "x": [
          0.10057326604793841,
          -0.04876700206842953,
          null
         ],
         "y": [
          -0.38035936194695774,
          -0.5270810459591334,
          null
         ]
        },
        {
         "line": {
          "color": "red",
          "width": 0.23932143228390287
         },
         "mode": "lines",
         "type": "scatter",
         "x": [
          0.10057326604793841,
          -0.07233476092223509,
          null
         ],
         "y": [
          -0.38035936194695774,
          -0.3381307286670513,
          null
         ]
        },
        {
         "line": {
          "color": "red",
          "width": 2
         },
         "mode": "lines",
         "type": "scatter",
         "x": [
          -0.044831191548338575,
          0.006178609956907238,
          null
         ],
         "y": [
          0.41242596759640543,
          0.4053363379365302,
          null
         ]
        },
        {
         "hoverinfo": "text",
         "hoverlabel": {
          "bgcolor": "green"
         },
         "marker": {
          "opacity": 0
         },
         "mode": "markers",
         "text": "Correlation between: Quantity and Sales<br>Correlation Coefficient: 0.21015579188371805",
         "type": "scatter",
         "x": [
          0.44000782652688997
         ],
         "y": [
          -0.450842847919363
         ]
        },
        {
         "hoverinfo": "text",
         "hoverlabel": {
          "bgcolor": "green"
         },
         "marker": {
          "opacity": 0
         },
         "mode": "markers",
         "text": "Correlation between: Profit and Sales<br>Correlation Coefficient: 0.493813856494015",
         "type": "scatter",
         "x": [
          0.36762682417915526
         ],
         "y": [
          -0.3197360890491122
         ]
        },
        {
         "hoverinfo": "text",
         "hoverlabel": {
          "bgcolor": "green"
         },
         "marker": {
          "opacity": 0
         },
         "mode": "markers",
         "text": "Correlation between: Sub-Category_Chairs and Sales<br>Correlation Coefficient: 0.13935798388079854",
         "type": "scatter",
         "x": [
          0.3202344123465965
         ],
         "y": [
          -0.4297391432791863
         ]
        },
        {
         "hoverinfo": "text",
         "hoverlabel": {
          "bgcolor": "green"
         },
         "marker": {
          "opacity": 0
         },
         "mode": "markers",
         "text": "Correlation between: Sub-Category_Copiers and Sales<br>Correlation Coefficient: 0.27821147994891704",
         "type": "scatter",
         "x": [
          0.4470064798707475
         ],
         "y": [
          -0.3344951842380699
         ]
        },
        {
         "hoverinfo": "text",
         "hoverlabel": {
          "bgcolor": "green"
         },
         "marker": {
          "opacity": 0
         },
         "mode": "markers",
         "text": "Correlation between: Sub-Category_Machines and Sales<br>Correlation Coefficient: 0.23097764860329867",
         "type": "scatter",
         "x": [
          0.506345539189603
         ],
         "y": [
          -0.41653181902677827
         ]
        },
        {
         "hoverinfo": "text",
         "hoverlabel": {
          "bgcolor": "red"
         },
         "marker": {
          "opacity": 0
         },
         "mode": "markers",
         "text": "Correlation between: Sub-Category_Paper and Sales<br>Correlation Coefficient: -0.11365341437554285",
         "type": "scatter",
         "x": [
          0.25213547927177665
         ],
         "y": [
          -0.37843016407698393
         ]
        },
        {
         "hoverinfo": "text",
         "hoverlabel": {
          "bgcolor": "green"
         },
         "marker": {
          "opacity": 0
         },
         "mode": "markers",
         "text": "Correlation between: Sub-Category_Tables and Sales<br>Correlation Coefficient: 0.1143640136829423",
         "type": "scatter",
         "x": [
          0.37600707540890527
         ],
         "y": [
          -0.2611576417173569
         ]
        },
        {
         "hoverinfo": "text",
         "hoverlabel": {
          "bgcolor": "red"
         },
         "marker": {
          "opacity": 0
         },
         "mode": "markers",
         "text": "Correlation between: Profit and Discount<br>Correlation Coefficient: -0.21933567856415018",
         "type": "scatter",
         "x": [
          0.20171726286906708
         ],
         "y": [
          -0.1963409948522969
         ]
        },
        {
         "hoverinfo": "text",
         "hoverlabel": {
          "bgcolor": "green"
         },
         "marker": {
          "opacity": 0
         },
         "mode": "markers",
         "text": "Correlation between: Region_Central and Discount<br>Correlation Coefficient: 0.24182175319888405",
         "type": "scatter",
         "x": [
          0.02134031429246548
         ],
         "y": [
          0.016907263435944342
         ]
        },
        {
         "hoverinfo": "text",
         "hoverlabel": {
          "bgcolor": "red"
         },
         "marker": {
          "opacity": 0
         },
         "mode": "markers",
         "text": "Correlation between: Region_West and Discount<br>Correlation Coefficient: -0.16808062235934454",
         "type": "scatter",
         "x": [
          0.016335379095647768
         ],
         "y": [
          0.04695084520460599
         ]
        },
        {
         "hoverinfo": "text",
         "hoverlabel": {
          "bgcolor": "red"
         },
         "marker": {
          "opacity": 0
         },
         "mode": "markers",
         "text": "Correlation between: Sub-Category_Accessories and Discount<br>Correlation Coefficient: -0.10856954959656695",
         "type": "scatter",
         "x": [
          0.004843135985649411
         ],
         "y": [
          -0.18916489009041637
         ]
        },
        {
         "hoverinfo": "text",
         "hoverlabel": {
          "bgcolor": "red"
         },
         "marker": {
          "opacity": 0
         },
         "mode": "markers",
         "text": "Correlation between: Sub-Category_Art and Discount<br>Correlation Coefficient: -0.11111804722667439",
         "type": "scatter",
         "x": [
          0.1013296554867599
         ],
         "y": [
          -0.18964950211289827
         ]
        },
        {
         "hoverinfo": "text",
         "hoverlabel": {
          "bgcolor": "green"
         },
         "marker": {
          "opacity": 0
         },
         "mode": "markers",
         "text": "Correlation between: Sub-Category_Binders and Discount<br>Correlation Coefficient: 0.45568671351556034",
         "type": "scatter",
         "x": [
          0.057254085628344026
         ],
         "y": [
          -0.22964558525662015
         ]
        },
        {
         "hoverinfo": "text",
         "hoverlabel": {
          "bgcolor": "red"
         },
         "marker": {
          "opacity": 0
         },
         "mode": "markers",
         "text": "Correlation between: Sub-Category_Paper and Discount<br>Correlation Coefficient: -0.1706241527096312",
         "type": "scatter",
         "x": [
          0.08622591796168844
         ],
         "y": [
          -0.2550350698801686
         ]
        },
        {
         "hoverinfo": "text",
         "hoverlabel": {
          "bgcolor": "red"
         },
         "marker": {
          "opacity": 0
         },
         "mode": "markers",
         "text": "Correlation between: Sub-Category_Storage and Discount<br>Correlation Coefficient: -0.12073766795431493",
         "type": "scatter",
         "x": [
          -0.00022809552339831535
         ],
         "y": [
          -0.23392075324021538
         ]
        },
        {
         "hoverinfo": "text",
         "hoverlabel": {
          "bgcolor": "green"
         },
         "marker": {
          "opacity": 0
         },
         "mode": "markers",
         "text": "Correlation between: Sub-Category_Tables and Discount<br>Correlation Coefficient: 0.10283168702240666",
         "type": "scatter",
         "x": [
          0.21009751409881705
         ],
         "y": [
          -0.13776254752054154
         ]
        },
        {
         "hoverinfo": "text",
         "hoverlabel": {
          "bgcolor": "green"
         },
         "marker": {
          "opacity": 0
         },
         "mode": "markers",
         "text": "Correlation between: Sub-Category_Copiers and Profit<br>Correlation Coefficient: 0.2921240294907555",
         "type": "scatter",
         "x": [
          0.4109356115542879
         ],
         "y": [
          -0.277730307080172
         ]
        },
        {
         "hoverinfo": "text",
         "hoverlabel": {
          "bgcolor": "red"
         },
         "marker": {
          "opacity": 0
         },
         "mode": "markers",
         "text": "Correlation between: Ship Mode_First Class and Days Until Shipping<br>Correlation Coefficient: -0.4081141744486515",
         "type": "scatter",
         "x": [
          0.07865008273070102
         ],
         "y": [
          0.886809308668548
         ]
        },
        {
         "hoverinfo": "text",
         "hoverlabel": {
          "bgcolor": "red"
         },
         "marker": {
          "opacity": 0
         },
         "mode": "markers",
         "text": "Correlation between: Ship Mode_Same Day and Days Until Shipping<br>Correlation Coefficient: -0.5793802110770249",
         "type": "scatter",
         "x": [
          0.039325720334883664
         ],
         "y": [
          0.7929866962590391
         ]
        },
        {
         "hoverinfo": "text",
         "hoverlabel": {
          "bgcolor": "red"
         },
         "marker": {
          "opacity": 0
         },
         "mode": "markers",
         "text": "Correlation between: Ship Mode_Second Class and Days Until Shipping<br>Correlation Coefficient: -0.1713235957166159",
         "type": "scatter",
         "x": [
          0.03520264259818811
         ],
         "y": [
          0.9060202848824155
         ]
        },
        {
         "hoverinfo": "text",
         "hoverlabel": {
          "bgcolor": "green"
         },
         "marker": {
          "opacity": 0
         },
         "mode": "markers",
         "text": "Correlation between: Ship Mode_Standard Class and Days Until Shipping<br>Correlation Coefficient: 0.7355028971404195",
         "type": "scatter",
         "x": [
          0.03867055664489935
         ],
         "y": [
          0.8703965466450525
         ]
        },
        {
         "hoverinfo": "text",
         "hoverlabel": {
          "bgcolor": "red"
         },
         "marker": {
          "opacity": 0
         },
         "mode": "markers",
         "text": "Correlation between: Ship Mode_Same Day and Ship Mode_First Class<br>Correlation Coefficient: -0.11766095825080661",
         "type": "scatter",
         "x": [
          0.059913058913286237
         ],
         "y": [
          0.8317971654300926
         ]
        },
        {
         "hoverinfo": "text",
         "hoverlabel": {
          "bgcolor": "red"
         },
         "marker": {
          "opacity": 0
         },
         "mode": "markers",
         "text": "Correlation between: Ship Mode_Second Class and Ship Mode_First Class<br>Correlation Coefficient: -0.20409738477515105",
         "type": "scatter",
         "x": [
          0.05578998117659068
         ],
         "y": [
          0.9448307540534691
         ]
        },
        {
         "hoverinfo": "text",
         "hoverlabel": {
          "bgcolor": "red"
         },
         "marker": {
          "opacity": 0
         },
         "mode": "markers",
         "text": "Correlation between: Ship Mode_Standard Class and Ship Mode_First Class<br>Correlation Coefficient: -0.5205821431260013",
         "type": "scatter",
         "x": [
          0.05925789522330193
         ],
         "y": [
          0.9092070158161061
         ]
        },
        {
         "hoverinfo": "text",
         "hoverlabel": {
          "bgcolor": "red"
         },
         "marker": {
          "opacity": 0
         },
         "mode": "markers",
         "text": "Correlation between: Ship Mode_Second Class and Ship Mode_Same Day<br>Correlation Coefficient: -0.12827735870795537",
         "type": "scatter",
         "x": [
          0.016465618780773326
         ],
         "y": [
          0.8510081416439601
         ]
        },
        {
         "hoverinfo": "text",
         "hoverlabel": {
          "bgcolor": "red"
         },
         "marker": {
          "opacity": 0
         },
         "mode": "markers",
         "text": "Correlation between: Ship Mode_Standard Class and Ship Mode_Same Day<br>Correlation Coefficient: -0.32719136692662043",
         "type": "scatter",
         "x": [
          0.01993353282748457
         ],
         "y": [
          0.8153844034065972
         ]
        },
        {
         "hoverinfo": "text",
         "hoverlabel": {
          "bgcolor": "red"
         },
         "marker": {
          "opacity": 0
         },
         "mode": "markers",
         "text": "Correlation between: Returned_No and Ship Mode_Same Day<br>Correlation Coefficient: -0.11755205692729095",
         "type": "scatter",
         "x": [
          -0.012121247515434848
         ],
         "y": [
          0.5752002603084946
         ]
        },
        {
         "hoverinfo": "text",
         "hoverlabel": {
          "bgcolor": "green"
         },
         "marker": {
          "opacity": 0
         },
         "mode": "markers",
         "text": "Correlation between: Returned_Yes and Ship Mode_Same Day<br>Correlation Coefficient: 0.11755205692729111",
         "type": "scatter",
         "x": [
          0.01338365323718806
         ],
         "y": [
          0.571655445478557
         ]
        },
        {
         "hoverinfo": "text",
         "hoverlabel": {
          "bgcolor": "red"
         },
         "marker": {
          "opacity": 0
         },
         "mode": "markers",
         "text": "Correlation between: Ship Mode_Standard Class and Ship Mode_Second Class<br>Correlation Coefficient: -0.5675536159444174",
         "type": "scatter",
         "x": [
          0.015810455090789016
         ],
         "y": [
          0.9284179920299735
         ]
        },
        {
         "hoverinfo": "text",
         "hoverlabel": {
          "bgcolor": "red"
         },
         "marker": {
          "opacity": 0
         },
         "mode": "markers",
         "text": "Correlation between: Segment_Corporate and Segment_Consumer<br>Correlation Coefficient: -0.7025288140994909",
         "type": "scatter",
         "x": [
          -0.9531863917086143
         ],
         "y": [
          -0.2634532184798812
         ]
        },
        {
         "hoverinfo": "text",
         "hoverlabel": {
          "bgcolor": "red"
         },
         "marker": {
          "opacity": 0
         },
         "mode": "markers",
         "text": "Correlation between: Segment_Home Office and Segment_Consumer<br>Correlation Coefficient: -0.47392235949938116",
         "type": "scatter",
         "x": [
          -0.9540183661875101
         ],
         "y": [
          -0.22078911573357854
         ]
        },
        {
         "hoverinfo": "text",
         "hoverlabel": {
          "bgcolor": "red"
         },
         "marker": {
          "opacity": 0
         },
         "mode": "markers",
         "text": "Correlation between: Segment_Home Office and Segment_Corporate<br>Correlation Coefficient: -0.2937157985897767",
         "type": "scatter",
         "x": [
          -0.9991680255211042
         ],
         "y": [
          -0.24329518747294693
         ]
        },
        {
         "hoverinfo": "text",
         "hoverlabel": {
          "bgcolor": "red"
         },
         "marker": {
          "opacity": 0
         },
         "mode": "markers",
         "text": "Correlation between: Region_East and Region_Central<br>Correlation Coefficient: -0.3158993144203797",
         "type": "scatter",
         "x": [
          -0.07604635668358024
         ],
         "y": [
          0.2089695435662695
         ]
        },
        {
         "hoverinfo": "text",
         "hoverlabel": {
          "bgcolor": "red"
         },
         "marker": {
          "opacity": 0
         },
         "mode": "markers",
         "text": "Correlation between: Region_South and Region_Central<br>Correlation Coefficient: -0.20616841593889246",
         "type": "scatter",
         "x": [
          -0.1015364784191357
         ],
         "y": [
          0.1829330681820256
         ]
        },
        {
         "hoverinfo": "text",
         "hoverlabel": {
          "bgcolor": "red"
         },
         "marker": {
          "opacity": 0
         },
         "mode": "markers",
         "text": "Correlation between: Region_West and Region_Central<br>Correlation Coefficient: -0.38349589610174234",
         "type": "scatter",
         "x": [
          -0.03420287648732521
         ],
         "y": [
          0.1935688864539298
         ]
        },
        {
         "hoverinfo": "text",
         "hoverlabel": {
          "bgcolor": "green"
         },
         "marker": {
          "opacity": 0
         },
         "mode": "markers",
         "text": "Correlation between: Returned_No and Region_Central<br>Correlation Coefficient: 0.16358342582279226",
         "type": "scatter",
         "x": [
          -0.03701456641942304
         ],
         "y": [
          0.28797563614083677
         ]
        },
        {
         "hoverinfo": "text",
         "hoverlabel": {
          "bgcolor": "red"
         },
         "marker": {
          "opacity": 0
         },
         "mode": "markers",
         "text": "Correlation between: Returned_Yes and Region_Central<br>Correlation Coefficient: -0.16358342582279242",
         "type": "scatter",
         "x": [
          -0.011509665666800128
         ],
         "y": [
          0.28443082131089914
         ]
        },
        {
         "hoverinfo": "text",
         "hoverlabel": {
          "bgcolor": "red"
         },
         "marker": {
          "opacity": 0
         },
         "mode": "markers",
         "text": "Correlation between: Region_South and Region_East<br>Correlation Coefficient: -0.2598700286580012",
         "type": "scatter",
         "x": [
          -0.14838489381220846
         ],
         "y": [
          0.22837730706302695
         ]
        },
        {
         "hoverinfo": "text",
         "hoverlabel": {
          "bgcolor": "red"
         },
         "marker": {
          "opacity": 0
         },
         "mode": "markers",
         "text": "Correlation between: Region_West and Region_East<br>Correlation Coefficient: -0.48338679354127545",
         "type": "scatter",
         "x": [
          -0.08105129188039796
         ],
         "y": [
          0.23901312533493116
         ]
        },
        {
         "hoverinfo": "text",
         "hoverlabel": {
          "bgcolor": "red"
         },
         "marker": {
          "opacity": 0
         },
         "mode": "markers",
         "text": "Correlation between: Region_West and Region_South<br>Correlation Coefficient: -0.3154773845997187",
         "type": "scatter",
         "x": [
          -0.10654141361595341
         ],
         "y": [
          0.2129766499506872
         ]
        },
        {
         "hoverinfo": "text",
         "hoverlabel": {
          "bgcolor": "red"
         },
         "marker": {
          "opacity": 0
         },
         "mode": "markers",
         "text": "Correlation between: Returned_No and Region_West<br>Correlation Coefficient: -0.2675365581660129",
         "type": "scatter",
         "x": [
          -0.042019501616240754
         ],
         "y": [
          0.31801921790949844
         ]
        },
        {
         "hoverinfo": "text",
         "hoverlabel": {
          "bgcolor": "green"
         },
         "marker": {
          "opacity": 0
         },
         "mode": "markers",
         "text": "Correlation between: Returned_Yes and Region_West<br>Correlation Coefficient: 0.26753655816601335",
         "type": "scatter",
         "x": [
          -0.016514600863617845
         ],
         "y": [
          0.3144744030795608
         ]
        },
        {
         "hoverinfo": "text",
         "hoverlabel": {
          "bgcolor": "red"
         },
         "marker": {
          "opacity": 0
         },
         "mode": "markers",
         "text": "Correlation between: Sub-Category_Binders and Sub-Category_Accessories<br>Correlation Coefficient: -0.12349523038334223",
         "type": "scatter",
         "x": [
          -0.009781348261445024
         ],
         "y": [
          -0.28909969753365705
         ]
        },
        {
         "hoverinfo": "text",
         "hoverlabel": {
          "bgcolor": "red"
         },
         "marker": {
          "opacity": 0
         },
         "mode": "markers",
         "text": "Correlation between: Sub-Category_Paper and Sub-Category_Accessories<br>Correlation Coefficient: -0.11537813377592346",
         "type": "scatter",
         "x": [
          0.019190484071899386
         ],
         "y": [
          -0.3144891821572055
         ]
        },
        {
         "hoverinfo": "text",
         "hoverlabel": {
          "bgcolor": "red"
         },
         "marker": {
          "opacity": 0
         },
         "mode": "markers",
         "text": "Correlation between: Sub-Category_Binders and Sub-Category_Art<br>Correlation Coefficient: -0.12252257214019888",
         "type": "scatter",
         "x": [
          0.08670517123966548
         ],
         "y": [
          -0.28958430955613895
         ]
        },
        {
         "hoverinfo": "text",
         "hoverlabel": {
          "bgcolor": "red"
         },
         "marker": {
          "opacity": 0
         },
         "mode": "markers",
         "text": "Correlation between: Sub-Category_Paper and Sub-Category_Art<br>Correlation Coefficient: -0.11446940643036303",
         "type": "scatter",
         "x": [
          0.11567700357300989
         ],
         "y": [
          -0.3149737941796874
         ]
        },
        {
         "hoverinfo": "text",
         "hoverlabel": {
          "bgcolor": "red"
         },
         "marker": {
          "opacity": 0
         },
         "mode": "markers",
         "text": "Correlation between: Sub-Category_Chairs and Sub-Category_Binders<br>Correlation Coefficient: -0.113064225625961",
         "type": "scatter",
         "x": [
          0.13970036678941386
         ],
         "y": [
          -0.4062788565256116
         ]
        },
        {
         "hoverinfo": "text",
         "hoverlabel": {
          "bgcolor": "red"
         },
         "marker": {
          "opacity": 0
         },
         "mode": "markers",
         "text": "Correlation between: Sub-Category_Furnishings and Sub-Category_Binders<br>Correlation Coefficient: -0.1393155135030875",
         "type": "scatter",
         "x": [
          0.04239238237745202
         ],
         "y": [
          -0.44327828135349734
         ]
        },
        {
         "hoverinfo": "text",
         "hoverlabel": {
          "bgcolor": "red"
         },
         "marker": {
          "opacity": 0
         },
         "mode": "markers",
         "text": "Correlation between: Sub-Category_Paper and Sub-Category_Binders<br>Correlation Coefficient: -0.1720911985121264",
         "type": "scatter",
         "x": [
          0.071601433714594
         ],
         "y": [
          -0.3549698773234093
         ]
        },
        {
         "hoverinfo": "text",
         "hoverlabel": {
          "bgcolor": "red"
         },
         "marker": {
          "opacity": 0
         },
         "mode": "markers",
         "text": "Correlation between: Sub-Category_Phones and Sub-Category_Binders<br>Correlation Coefficient: -0.13491961645166775",
         "type": "scatter",
         "x": [
          -0.0030687003435899696
         ],
         "y": [
          -0.4283307193294971
         ]
        },
        {
         "hoverinfo": "text",
         "hoverlabel": {
          "bgcolor": "red"
         },
         "marker": {
          "opacity": 0
         },
         "mode": "markers",
         "text": "Correlation between: Sub-Category_Storage and Sub-Category_Binders<br>Correlation Coefficient: -0.12807910150883076",
         "type": "scatter",
         "x": [
          -0.01485257977049275
         ],
         "y": [
          -0.33385556068345607
         ]
        },
        {
         "hoverinfo": "text",
         "hoverlabel": {
          "bgcolor": "red"
         },
         "marker": {
          "opacity": 0
         },
         "mode": "markers",
         "text": "Correlation between: Sub-Category_Paper and Sub-Category_Chairs<br>Correlation Coefficient: -0.10563273827701555",
         "type": "scatter",
         "x": [
          0.16867219912275827
         ],
         "y": [
          -0.43166834114916003
         ]
        },
        {
         "hoverinfo": "text",
         "hoverlabel": {
          "bgcolor": "red"
         },
         "marker": {
          "opacity": 0
         },
         "mode": "markers",
         "text": "Correlation between: Sub-Category_Paper and Sub-Category_Furnishings<br>Correlation Coefficient: -0.1301585810571423",
         "type": "scatter",
         "x": [
          0.07136421471079643
         ],
         "y": [
          -0.4686677659770458
         ]
        },
        {
         "hoverinfo": "text",
         "hoverlabel": {
          "bgcolor": "red"
         },
         "marker": {
          "opacity": 0
         },
         "mode": "markers",
         "text": "Correlation between: Sub-Category_Phones and Sub-Category_Furnishings<br>Correlation Coefficient: -0.10204441590245274",
         "type": "scatter",
         "x": [
          -0.0033059193473875363
         ],
         "y": [
          -0.5420286079831336
         ]
        },
        {
         "hoverinfo": "text",
         "hoverlabel": {
          "bgcolor": "red"
         },
         "marker": {
          "opacity": 0
         },
         "mode": "markers",
         "text": "Correlation between: Sub-Category_Phones and Sub-Category_Paper<br>Correlation Coefficient: -0.1260516176020391",
         "type": "scatter",
         "x": [
          0.02590313198975444
         ],
         "y": [
          -0.4537202039530456
         ]
        },
        {
         "hoverinfo": "text",
         "hoverlabel": {
          "bgcolor": "red"
         },
         "marker": {
          "opacity": 0
         },
         "mode": "markers",
         "text": "Correlation between: Sub-Category_Storage and Sub-Category_Paper<br>Correlation Coefficient: -0.11966071614195144",
         "type": "scatter",
         "x": [
          0.01411925256285166
         ],
         "y": [
          -0.3592450453070045
         ]
        },
        {
         "hoverinfo": "text",
         "hoverlabel": {
          "bgcolor": "red"
         },
         "marker": {
          "opacity": 0
         },
         "mode": "markers",
         "text": "Correlation between: Returned_Yes and Returned_No<br>Correlation Coefficient: -1.0",
         "type": "scatter",
         "x": [
          -0.01932629079571567
         ],
         "y": [
          0.4088811527664678
         ]
        },
        {
         "hoverinfo": "text",
         "marker": {
          "color": [
           0.1916514217861401,
           0.036311683666349064,
           0.41179280917598887,
           0.1257264469643418,
           0.024447479011378333,
           0.024447479011378333,
           0.05567791524155655,
           0.024447479011378333,
           0.024447479011378333,
           2.979917605440086e-20,
           2.979917605440086e-20,
           2.979917605440086e-20,
           0.18183715162240519,
           0.08501305353950163,
           0.08501305353950163,
           0.18183715162240519,
           0.2393679220997778,
           0.2393679220997778,
           0.41052533624820836,
           0.1976580432936148,
           0.060132785111616405,
           0.1990621153720378,
           0.036311683666349064,
           0.44105302383129413,
           0.19906211537203775,
           0.2393679220997778,
           0.11433324613886112,
           0.09802930410734147,
           0.09802930410734147
          ],
          "colorbar": {
           "thickness": 15,
           "title": {
            "side": "right",
            "text": "Centrality"
           },
           "xanchor": "left"
          },
          "colorscale": [
           [
            0,
            "rgb(255,255,217)"
           ],
           [
            0.125,
            "rgb(237,248,177)"
           ],
           [
            0.25,
            "rgb(199,233,180)"
           ],
           [
            0.375,
            "rgb(127,205,187)"
           ],
           [
            0.5,
            "rgb(65,182,196)"
           ],
           [
            0.625,
            "rgb(29,145,192)"
           ],
           [
            0.75,
            "rgb(34,94,168)"
           ],
           [
            0.875,
            "rgb(37,52,148)"
           ],
           [
            1,
            "rgb(8,29,88)"
           ]
          ],
          "line": {
           "width": 2
          },
          "reversescale": true,
          "showscale": true,
          "size": [
           19.165142178614012,
           3.631168366634906,
           41.17928091759889,
           12.57264469643418,
           2.4447479011378332,
           2.4447479011378332,
           5.567791524155655,
           2.4447479011378332,
           2.4447479011378332,
           2.979917605440086e-18,
           2.979917605440086e-18,
           2.979917605440086e-18,
           18.183715162240517,
           8.501305353950164,
           8.501305353950164,
           18.183715162240517,
           23.93679220997778,
           23.93679220997778,
           41.05253362482084,
           19.76580432936148,
           6.013278511161641,
           19.90621153720378,
           3.631168366634906,
           44.10530238312941,
           19.906211537203774,
           23.93679220997778,
           11.433324613886112,
           9.802930410734147,
           9.802930410734147
          ]
         },
         "mode": "markers",
         "text": [
          "Node Name: Sales<br># of connections: 7<br>Centrality: 0.19",
          "Node Name: Quantity<br># of connections: 1<br>Centrality: 0.04",
          "Node Name: Discount<br># of connections: 9<br>Centrality: 0.41",
          "Node Name: Profit<br># of connections: 3<br>Centrality: 0.13",
          "Node Name: Days Until Shipping<br># of connections: 4<br>Centrality: 0.02",
          "Node Name: Ship Mode_First Class<br># of connections: 4<br>Centrality: 0.02",
          "Node Name: Ship Mode_Same Day<br># of connections: 6<br>Centrality: 0.06",
          "Node Name: Ship Mode_Second Class<br># of connections: 4<br>Centrality: 0.02",
          "Node Name: Ship Mode_Standard Class<br># of connections: 4<br>Centrality: 0.02",
          "Node Name: Segment_Consumer<br># of connections: 2<br>Centrality: 0.00",
          "Node Name: Segment_Corporate<br># of connections: 2<br>Centrality: 0.00",
          "Node Name: Segment_Home Office<br># of connections: 2<br>Centrality: 0.00",
          "Node Name: Region_Central<br># of connections: 6<br>Centrality: 0.18",
          "Node Name: Region_East<br># of connections: 3<br>Centrality: 0.09",
          "Node Name: Region_South<br># of connections: 3<br>Centrality: 0.09",
          "Node Name: Region_West<br># of connections: 6<br>Centrality: 0.18",
          "Node Name: Sub-Category_Accessories<br># of connections: 3<br>Centrality: 0.24",
          "Node Name: Sub-Category_Art<br># of connections: 3<br>Centrality: 0.24",
          "Node Name: Sub-Category_Binders<br># of connections: 8<br>Centrality: 0.41",
          "Node Name: Sub-Category_Chairs<br># of connections: 3<br>Centrality: 0.20",
          "Node Name: Sub-Category_Copiers<br># of connections: 2<br>Centrality: 0.06",
          "Node Name: Sub-Category_Furnishings<br># of connections: 3<br>Centrality: 0.20",
          "Node Name: Sub-Category_Machines<br># of connections: 1<br>Centrality: 0.04",
          "Node Name: Sub-Category_Paper<br># of connections: 9<br>Centrality: 0.44",
          "Node Name: Sub-Category_Phones<br># of connections: 3<br>Centrality: 0.20",
          "Node Name: Sub-Category_Storage<br># of connections: 3<br>Centrality: 0.24",
          "Node Name: Sub-Category_Tables<br># of connections: 2<br>Centrality: 0.11",
          "Node Name: Returned_No<br># of connections: 4<br>Centrality: 0.10",
          "Node Name: Returned_Yes<br># of connections: 4<br>Centrality: 0.10"
         ],
         "type": "scatter",
         "x": [
          0.4036976924956149,
          0.4763179605581651,
          0.07187856987543846,
          0.3315559558626957,
          0.058062744152298444,
          0.0992374213091036,
          0.02058869651746888,
          0.012342541044077771,
          0.019278369137500265,
          -0.9080367323750203,
          -0.9983360510422082,
          -1,
          -0.029197941290507495,
          -0.12289477207665299,
          -0.1738750155477639,
          -0.039207811684142925,
          -0.06219229790413964,
          0.13078074109808135,
          0.04262960138124959,
          0.23677113219757814,
          0.4903152672458801,
          0.04215516337365446,
          0.6089933858835912,
          0.10057326604793841,
          -0.04876700206842953,
          -0.07233476092223509,
          0.34831645832219565,
          -0.044831191548338575,
          0.006178609956907238
         ],
         "y": [
          -0.3765009662070102,
          -0.5251847296317159,
          -0.12971077781337947,
          -0.2629712118912143,
          0.8479988394974944,
          0.9256197778396015,
          0.7379745530205838,
          0.9640417302673365,
          0.8927942537926107,
          -0.2409471467405128,
          -0.2859592902192496,
          -0.2006310847266443,
          0.16352530468526816,
          0.25441378244727086,
          0.202340831678783,
          0.22361246822259145,
          -0.24861900236745327,
          -0.2495882264124171,
          -0.32958039269986084,
          -0.4829773203513623,
          -0.2924894022691296,
          -0.5569761700071338,
          -0.4565626718465463,
          -0.38035936194695774,
          -0.5270810459591334,
          -0.3381307286670513,
          -0.1458143172277036,
          0.41242596759640543,
          0.4053363379365302
         ]
        },
        {
         "marker": {
          "opacity": 0
         },
         "mode": "text",
         "text": [
          "Sales",
          "Quantity",
          "Discount",
          "Profit",
          "Days Until Shipping",
          "Ship Mode_First Class",
          "Ship Mode_Same Day",
          "Ship Mode_Second Class",
          "Ship Mode_Standard Class",
          "Segment_Consumer",
          "Segment_Corporate",
          "Segment_Home Office",
          "Region_Central",
          "Region_East",
          "Region_South",
          "Region_West",
          "Sub-Category_Accessories",
          "Sub-Category_Art",
          "Sub-Category_Binders",
          "Sub-Category_Chairs",
          "Sub-Category_Copiers",
          "Sub-Category_Furnishings",
          "Sub-Category_Machines",
          "Sub-Category_Paper",
          "Sub-Category_Phones",
          "Sub-Category_Storage",
          "Sub-Category_Tables",
          "Returned_No",
          "Returned_Yes"
         ],
         "textfont": {
          "size": [
           8,
           8,
           8,
           8,
           8,
           8,
           8,
           8,
           8,
           8,
           8,
           8,
           8,
           8,
           8,
           8,
           8,
           8,
           8,
           8,
           8,
           8,
           8,
           8,
           8,
           8,
           8,
           8,
           8
          ]
         },
         "textposition": "top center",
         "type": "scatter",
         "x": [
          0.4036976924956149,
          0.4763179605581651,
          0.07187856987543846,
          0.3315559558626957,
          0.058062744152298444,
          0.0992374213091036,
          0.02058869651746888,
          0.012342541044077771,
          0.019278369137500265,
          -0.9080367323750203,
          -0.9983360510422082,
          -1,
          -0.029197941290507495,
          -0.12289477207665299,
          -0.1738750155477639,
          -0.039207811684142925,
          -0.06219229790413964,
          0.13078074109808135,
          0.04262960138124959,
          0.23677113219757814,
          0.4903152672458801,
          0.04215516337365446,
          0.6089933858835912,
          0.10057326604793841,
          -0.04876700206842953,
          -0.07233476092223509,
          0.34831645832219565,
          -0.044831191548338575,
          0.006178609956907238
         ],
         "y": [
          -0.3765009662070102,
          -0.5251847296317159,
          -0.12971077781337947,
          -0.2629712118912143,
          0.8479988394974944,
          0.9256197778396015,
          0.7379745530205838,
          0.9640417302673365,
          0.8927942537926107,
          -0.2409471467405128,
          -0.2859592902192496,
          -0.2006310847266443,
          0.16352530468526816,
          0.25441378244727086,
          0.202340831678783,
          0.22361246822259145,
          -0.24861900236745327,
          -0.2495882264124171,
          -0.32958039269986084,
          -0.4829773203513623,
          -0.2924894022691296,
          -0.5569761700071338,
          -0.4565626718465463,
          -0.38035936194695774,
          -0.5270810459591334,
          -0.3381307286670513,
          -0.1458143172277036,
          0.41242596759640543,
          0.4053363379365302
         ]
        }
       ],
       "layout": {
        "annotations": [
         {
          "showarrow": false,
          "text": "",
          "x": 0.005,
          "xref": "paper",
          "y": -0.002,
          "yref": "paper"
         }
        ],
        "hovermode": "closest",
        "margin": {
         "b": 20,
         "l": 5,
         "r": 5,
         "t": 40
        },
        "showlegend": false,
        "template": {
         "data": {
          "bar": [
           {
            "error_x": {
             "color": "#2a3f5f"
            },
            "error_y": {
             "color": "#2a3f5f"
            },
            "marker": {
             "line": {
              "color": "#E5ECF6",
              "width": 0.5
             },
             "pattern": {
              "fillmode": "overlay",
              "size": 10,
              "solidity": 0.2
             }
            },
            "type": "bar"
           }
          ],
          "barpolar": [
           {
            "marker": {
             "line": {
              "color": "#E5ECF6",
              "width": 0.5
             },
             "pattern": {
              "fillmode": "overlay",
              "size": 10,
              "solidity": 0.2
             }
            },
            "type": "barpolar"
           }
          ],
          "carpet": [
           {
            "aaxis": {
             "endlinecolor": "#2a3f5f",
             "gridcolor": "white",
             "linecolor": "white",
             "minorgridcolor": "white",
             "startlinecolor": "#2a3f5f"
            },
            "baxis": {
             "endlinecolor": "#2a3f5f",
             "gridcolor": "white",
             "linecolor": "white",
             "minorgridcolor": "white",
             "startlinecolor": "#2a3f5f"
            },
            "type": "carpet"
           }
          ],
          "choropleth": [
           {
            "colorbar": {
             "outlinewidth": 0,
             "ticks": ""
            },
            "type": "choropleth"
           }
          ],
          "contour": [
           {
            "colorbar": {
             "outlinewidth": 0,
             "ticks": ""
            },
            "colorscale": [
             [
              0,
              "#0d0887"
             ],
             [
              0.1111111111111111,
              "#46039f"
             ],
             [
              0.2222222222222222,
              "#7201a8"
             ],
             [
              0.3333333333333333,
              "#9c179e"
             ],
             [
              0.4444444444444444,
              "#bd3786"
             ],
             [
              0.5555555555555556,
              "#d8576b"
             ],
             [
              0.6666666666666666,
              "#ed7953"
             ],
             [
              0.7777777777777778,
              "#fb9f3a"
             ],
             [
              0.8888888888888888,
              "#fdca26"
             ],
             [
              1,
              "#f0f921"
             ]
            ],
            "type": "contour"
           }
          ],
          "contourcarpet": [
           {
            "colorbar": {
             "outlinewidth": 0,
             "ticks": ""
            },
            "type": "contourcarpet"
           }
          ],
          "heatmap": [
           {
            "colorbar": {
             "outlinewidth": 0,
             "ticks": ""
            },
            "colorscale": [
             [
              0,
              "#0d0887"
             ],
             [
              0.1111111111111111,
              "#46039f"
             ],
             [
              0.2222222222222222,
              "#7201a8"
             ],
             [
              0.3333333333333333,
              "#9c179e"
             ],
             [
              0.4444444444444444,
              "#bd3786"
             ],
             [
              0.5555555555555556,
              "#d8576b"
             ],
             [
              0.6666666666666666,
              "#ed7953"
             ],
             [
              0.7777777777777778,
              "#fb9f3a"
             ],
             [
              0.8888888888888888,
              "#fdca26"
             ],
             [
              1,
              "#f0f921"
             ]
            ],
            "type": "heatmap"
           }
          ],
          "heatmapgl": [
           {
            "colorbar": {
             "outlinewidth": 0,
             "ticks": ""
            },
            "colorscale": [
             [
              0,
              "#0d0887"
             ],
             [
              0.1111111111111111,
              "#46039f"
             ],
             [
              0.2222222222222222,
              "#7201a8"
             ],
             [
              0.3333333333333333,
              "#9c179e"
             ],
             [
              0.4444444444444444,
              "#bd3786"
             ],
             [
              0.5555555555555556,
              "#d8576b"
             ],
             [
              0.6666666666666666,
              "#ed7953"
             ],
             [
              0.7777777777777778,
              "#fb9f3a"
             ],
             [
              0.8888888888888888,
              "#fdca26"
             ],
             [
              1,
              "#f0f921"
             ]
            ],
            "type": "heatmapgl"
           }
          ],
          "histogram": [
           {
            "marker": {
             "pattern": {
              "fillmode": "overlay",
              "size": 10,
              "solidity": 0.2
             }
            },
            "type": "histogram"
           }
          ],
          "histogram2d": [
           {
            "colorbar": {
             "outlinewidth": 0,
             "ticks": ""
            },
            "colorscale": [
             [
              0,
              "#0d0887"
             ],
             [
              0.1111111111111111,
              "#46039f"
             ],
             [
              0.2222222222222222,
              "#7201a8"
             ],
             [
              0.3333333333333333,
              "#9c179e"
             ],
             [
              0.4444444444444444,
              "#bd3786"
             ],
             [
              0.5555555555555556,
              "#d8576b"
             ],
             [
              0.6666666666666666,
              "#ed7953"
             ],
             [
              0.7777777777777778,
              "#fb9f3a"
             ],
             [
              0.8888888888888888,
              "#fdca26"
             ],
             [
              1,
              "#f0f921"
             ]
            ],
            "type": "histogram2d"
           }
          ],
          "histogram2dcontour": [
           {
            "colorbar": {
             "outlinewidth": 0,
             "ticks": ""
            },
            "colorscale": [
             [
              0,
              "#0d0887"
             ],
             [
              0.1111111111111111,
              "#46039f"
             ],
             [
              0.2222222222222222,
              "#7201a8"
             ],
             [
              0.3333333333333333,
              "#9c179e"
             ],
             [
              0.4444444444444444,
              "#bd3786"
             ],
             [
              0.5555555555555556,
              "#d8576b"
             ],
             [
              0.6666666666666666,
              "#ed7953"
             ],
             [
              0.7777777777777778,
              "#fb9f3a"
             ],
             [
              0.8888888888888888,
              "#fdca26"
             ],
             [
              1,
              "#f0f921"
             ]
            ],
            "type": "histogram2dcontour"
           }
          ],
          "mesh3d": [
           {
            "colorbar": {
             "outlinewidth": 0,
             "ticks": ""
            },
            "type": "mesh3d"
           }
          ],
          "parcoords": [
           {
            "line": {
             "colorbar": {
              "outlinewidth": 0,
              "ticks": ""
             }
            },
            "type": "parcoords"
           }
          ],
          "pie": [
           {
            "automargin": true,
            "type": "pie"
           }
          ],
          "scatter": [
           {
            "fillpattern": {
             "fillmode": "overlay",
             "size": 10,
             "solidity": 0.2
            },
            "type": "scatter"
           }
          ],
          "scatter3d": [
           {
            "line": {
             "colorbar": {
              "outlinewidth": 0,
              "ticks": ""
             }
            },
            "marker": {
             "colorbar": {
              "outlinewidth": 0,
              "ticks": ""
             }
            },
            "type": "scatter3d"
           }
          ],
          "scattercarpet": [
           {
            "marker": {
             "colorbar": {
              "outlinewidth": 0,
              "ticks": ""
             }
            },
            "type": "scattercarpet"
           }
          ],
          "scattergeo": [
           {
            "marker": {
             "colorbar": {
              "outlinewidth": 0,
              "ticks": ""
             }
            },
            "type": "scattergeo"
           }
          ],
          "scattergl": [
           {
            "marker": {
             "colorbar": {
              "outlinewidth": 0,
              "ticks": ""
             }
            },
            "type": "scattergl"
           }
          ],
          "scattermapbox": [
           {
            "marker": {
             "colorbar": {
              "outlinewidth": 0,
              "ticks": ""
             }
            },
            "type": "scattermapbox"
           }
          ],
          "scatterpolar": [
           {
            "marker": {
             "colorbar": {
              "outlinewidth": 0,
              "ticks": ""
             }
            },
            "type": "scatterpolar"
           }
          ],
          "scatterpolargl": [
           {
            "marker": {
             "colorbar": {
              "outlinewidth": 0,
              "ticks": ""
             }
            },
            "type": "scatterpolargl"
           }
          ],
          "scatterternary": [
           {
            "marker": {
             "colorbar": {
              "outlinewidth": 0,
              "ticks": ""
             }
            },
            "type": "scatterternary"
           }
          ],
          "surface": [
           {
            "colorbar": {
             "outlinewidth": 0,
             "ticks": ""
            },
            "colorscale": [
             [
              0,
              "#0d0887"
             ],
             [
              0.1111111111111111,
              "#46039f"
             ],
             [
              0.2222222222222222,
              "#7201a8"
             ],
             [
              0.3333333333333333,
              "#9c179e"
             ],
             [
              0.4444444444444444,
              "#bd3786"
             ],
             [
              0.5555555555555556,
              "#d8576b"
             ],
             [
              0.6666666666666666,
              "#ed7953"
             ],
             [
              0.7777777777777778,
              "#fb9f3a"
             ],
             [
              0.8888888888888888,
              "#fdca26"
             ],
             [
              1,
              "#f0f921"
             ]
            ],
            "type": "surface"
           }
          ],
          "table": [
           {
            "cells": {
             "fill": {
              "color": "#EBF0F8"
             },
             "line": {
              "color": "white"
             }
            },
            "header": {
             "fill": {
              "color": "#C8D4E3"
             },
             "line": {
              "color": "white"
             }
            },
            "type": "table"
           }
          ]
         },
         "layout": {
          "annotationdefaults": {
           "arrowcolor": "#2a3f5f",
           "arrowhead": 0,
           "arrowwidth": 1
          },
          "autotypenumbers": "strict",
          "coloraxis": {
           "colorbar": {
            "outlinewidth": 0,
            "ticks": ""
           }
          },
          "colorscale": {
           "diverging": [
            [
             0,
             "#8e0152"
            ],
            [
             0.1,
             "#c51b7d"
            ],
            [
             0.2,
             "#de77ae"
            ],
            [
             0.3,
             "#f1b6da"
            ],
            [
             0.4,
             "#fde0ef"
            ],
            [
             0.5,
             "#f7f7f7"
            ],
            [
             0.6,
             "#e6f5d0"
            ],
            [
             0.7,
             "#b8e186"
            ],
            [
             0.8,
             "#7fbc41"
            ],
            [
             0.9,
             "#4d9221"
            ],
            [
             1,
             "#276419"
            ]
           ],
           "sequential": [
            [
             0,
             "#0d0887"
            ],
            [
             0.1111111111111111,
             "#46039f"
            ],
            [
             0.2222222222222222,
             "#7201a8"
            ],
            [
             0.3333333333333333,
             "#9c179e"
            ],
            [
             0.4444444444444444,
             "#bd3786"
            ],
            [
             0.5555555555555556,
             "#d8576b"
            ],
            [
             0.6666666666666666,
             "#ed7953"
            ],
            [
             0.7777777777777778,
             "#fb9f3a"
            ],
            [
             0.8888888888888888,
             "#fdca26"
            ],
            [
             1,
             "#f0f921"
            ]
           ],
           "sequentialminus": [
            [
             0,
             "#0d0887"
            ],
            [
             0.1111111111111111,
             "#46039f"
            ],
            [
             0.2222222222222222,
             "#7201a8"
            ],
            [
             0.3333333333333333,
             "#9c179e"
            ],
            [
             0.4444444444444444,
             "#bd3786"
            ],
            [
             0.5555555555555556,
             "#d8576b"
            ],
            [
             0.6666666666666666,
             "#ed7953"
            ],
            [
             0.7777777777777778,
             "#fb9f3a"
            ],
            [
             0.8888888888888888,
             "#fdca26"
            ],
            [
             1,
             "#f0f921"
            ]
           ]
          },
          "colorway": [
           "#636efa",
           "#EF553B",
           "#00cc96",
           "#ab63fa",
           "#FFA15A",
           "#19d3f3",
           "#FF6692",
           "#B6E880",
           "#FF97FF",
           "#FECB52"
          ],
          "font": {
           "color": "#2a3f5f"
          },
          "geo": {
           "bgcolor": "white",
           "lakecolor": "white",
           "landcolor": "#E5ECF6",
           "showlakes": true,
           "showland": true,
           "subunitcolor": "white"
          },
          "hoverlabel": {
           "align": "left"
          },
          "hovermode": "closest",
          "mapbox": {
           "style": "light"
          },
          "paper_bgcolor": "white",
          "plot_bgcolor": "#E5ECF6",
          "polar": {
           "angularaxis": {
            "gridcolor": "white",
            "linecolor": "white",
            "ticks": ""
           },
           "bgcolor": "#E5ECF6",
           "radialaxis": {
            "gridcolor": "white",
            "linecolor": "white",
            "ticks": ""
           }
          },
          "scene": {
           "xaxis": {
            "backgroundcolor": "#E5ECF6",
            "gridcolor": "white",
            "gridwidth": 2,
            "linecolor": "white",
            "showbackground": true,
            "ticks": "",
            "zerolinecolor": "white"
           },
           "yaxis": {
            "backgroundcolor": "#E5ECF6",
            "gridcolor": "white",
            "gridwidth": 2,
            "linecolor": "white",
            "showbackground": true,
            "ticks": "",
            "zerolinecolor": "white"
           },
           "zaxis": {
            "backgroundcolor": "#E5ECF6",
            "gridcolor": "white",
            "gridwidth": 2,
            "linecolor": "white",
            "showbackground": true,
            "ticks": "",
            "zerolinecolor": "white"
           }
          },
          "shapedefaults": {
           "line": {
            "color": "#2a3f5f"
           }
          },
          "ternary": {
           "aaxis": {
            "gridcolor": "white",
            "linecolor": "white",
            "ticks": ""
           },
           "baxis": {
            "gridcolor": "white",
            "linecolor": "white",
            "ticks": ""
           },
           "bgcolor": "#E5ECF6",
           "caxis": {
            "gridcolor": "white",
            "linecolor": "white",
            "ticks": ""
           }
          },
          "title": {
           "x": 0.05
          },
          "xaxis": {
           "automargin": true,
           "gridcolor": "white",
           "linecolor": "white",
           "ticks": "",
           "title": {
            "standoff": 15
           },
           "zerolinecolor": "white",
           "zerolinewidth": 2
          },
          "yaxis": {
           "automargin": true,
           "gridcolor": "white",
           "linecolor": "white",
           "ticks": "",
           "title": {
            "standoff": 15
           },
           "zerolinecolor": "white",
           "zerolinewidth": 2
          }
         }
        },
        "title": {
         "font": {
          "size": 16
         },
         "text": "Graph of Feature Correlations"
        },
        "xaxis": {
         "showgrid": false,
         "showticklabels": false,
         "zeroline": false
        },
        "yaxis": {
         "showgrid": false,
         "showticklabels": false,
         "zeroline": false
        }
       }
      }
     },
     "metadata": {},
     "output_type": "display_data"
    }
   ],
   "source": [
    "\n",
    "ea.GraphFromAdjacencyMatrix(\n",
    "        df_adjacency=filtered_df[\"corr_filtered\"].fillna(0),centrality='eigenvector').plot_plotly()"
   ]
  },
  {
   "cell_type": "code",
   "execution_count": 19,
   "metadata": {},
   "outputs": [
    {
     "data": {
      "application/vnd.plotly.v1+json": {
       "config": {
        "modeBarButtonsToRemove": [
         "select",
         "lasso"
        ],
        "plotlyServerURL": "https://plot.ly"
       },
       "data": [
        {
         "line": {
          "color": "green",
          "width": 0.4203115837674361
         },
         "mode": "lines",
         "type": "scatter",
         "x": [
          -0.20136916880157538,
          -0.36081533462052967,
          null
         ],
         "y": [
          0.26585848852629473,
          0.3985443689965891,
          null
         ]
        },
        {
         "line": {
          "color": "green",
          "width": 0.98762771298803
         },
         "mode": "lines",
         "type": "scatter",
         "x": [
          -0.20136916880157538,
          -0.22444635858192782,
          null
         ],
         "y": [
          0.26585848852629473,
          0.1673595968460885,
          null
         ]
        },
        {
         "line": {
          "color": "green",
          "width": 0.27871596776159707
         },
         "mode": "lines",
         "type": "scatter",
         "x": [
          -0.20136916880157538,
          -0.00831623662842173,
          null
         ],
         "y": [
          0.26585848852629473,
          0.15032815047293605,
          null
         ]
        },
        {
         "line": {
          "color": "green",
          "width": 0.5564229598978341
         },
         "mode": "lines",
         "type": "scatter",
         "x": [
          -0.20136916880157538,
          -0.32314846247280615,
          null
         ],
         "y": [
          0.26585848852629473,
          0.25598571085267163,
          null
         ]
        },
        {
         "line": {
          "color": "green",
          "width": 0.46195529720659734
         },
         "mode": "lines",
         "type": "scatter",
         "x": [
          -0.20136916880157538,
          -0.2574490716458329,
          null
         ],
         "y": [
          0.26585848852629473,
          0.44782978708707005,
          null
         ]
        },
        {
         "line": {
          "color": "red",
          "width": 0.2273068287510857
         },
         "mode": "lines",
         "type": "scatter",
         "x": [
          -0.20136916880157538,
          0.05665213666386937,
          null
         ],
         "y": [
          0.26585848852629473,
          0.0015717378967852536,
          null
         ]
        },
        {
         "line": {
          "color": "green",
          "width": 0.2287280273658846
         },
         "mode": "lines",
         "type": "scatter",
         "x": [
          -0.20136916880157538,
          -0.09531116336625449,
          null
         ],
         "y": [
          0.26585848852629473,
          0.24365740816842588,
          null
         ]
        },
        {
         "line": {
          "color": "red",
          "width": 0.43867135712830035
         },
         "mode": "lines",
         "type": "scatter",
         "x": [
          -0.05642042897802573,
          -0.22444635858192782,
          null
         ],
         "y": [
          -0.013534098033293786,
          0.1673595968460885,
          null
         ]
        },
        {
         "line": {
          "color": "green",
          "width": 0.4836435063977681
         },
         "mode": "lines",
         "type": "scatter",
         "x": [
          -0.05642042897802573,
          -0.2267782800598657,
          null
         ],
         "y": [
          -0.013534098033293786,
          -0.046513180042701656,
          null
         ]
        },
        {
         "line": {
          "color": "red",
          "width": 0.3361612447186891
         },
         "mode": "lines",
         "type": "scatter",
         "x": [
          -0.05642042897802573,
          -0.20546557822754097,
          null
         ],
         "y": [
          -0.013534098033293786,
          -0.07873138048739797,
          null
         ]
        },
        {
         "line": {
          "color": "red",
          "width": 0.2171390991931339
         },
         "mode": "lines",
         "type": "scatter",
         "x": [
          -0.05642042897802573,
          0.01300984552058047,
          null
         ],
         "y": [
          -0.013534098033293786,
          -0.18187685472909504,
          null
         ]
        },
        {
         "line": {
          "color": "red",
          "width": 0.22223609445334877
         },
         "mode": "lines",
         "type": "scatter",
         "x": [
          -0.05642042897802573,
          0.16360002187126843,
          null
         ],
         "y": [
          -0.013534098033293786,
          0.0037223738729495076,
          null
         ]
        },
        {
         "line": {
          "color": "green",
          "width": 0.9113734270311207
         },
         "mode": "lines",
         "type": "scatter",
         "x": [
          -0.05642042897802573,
          0.07389822015574879,
          null
         ],
         "y": [
          -0.013534098033293786,
          -0.06321896025178765,
          null
         ]
        },
        {
         "line": {
          "color": "red",
          "width": 0.3412483054192624
         },
         "mode": "lines",
         "type": "scatter",
         "x": [
          -0.05642042897802573,
          0.05665213666386937,
          null
         ],
         "y": [
          -0.013534098033293786,
          0.0015717378967852536,
          null
         ]
        },
        {
         "line": {
          "color": "red",
          "width": 0.24147533590862985
         },
         "mode": "lines",
         "type": "scatter",
         "x": [
          -0.05642042897802573,
          0.11690961671863682,
          null
         ],
         "y": [
          -0.013534098033293786,
          -0.12956355260955585,
          null
         ]
        },
        {
         "line": {
          "color": "green",
          "width": 0.20566337404481333
         },
         "mode": "lines",
         "type": "scatter",
         "x": [
          -0.05642042897802573,
          -0.09531116336625449,
          null
         ],
         "y": [
          -0.013534098033293786,
          0.24365740816842588,
          null
         ]
        },
        {
         "line": {
          "color": "green",
          "width": 0.584248058981511
         },
         "mode": "lines",
         "type": "scatter",
         "x": [
          -0.22444635858192782,
          -0.32314846247280615,
          null
         ],
         "y": [
          0.1673595968460885,
          0.25598571085267163,
          null
         ]
        },
        {
         "line": {
          "color": "red",
          "width": 0.816228348897303
         },
         "mode": "lines",
         "type": "scatter",
         "x": [
          0.2667272956371488,
          0.34228291012931333,
          null
         ],
         "y": [
          0.34669884260823675,
          0.39033711170882956,
          null
         ]
        },
        {
         "line": {
          "color": "red",
          "width": 1.1587604221540497
         },
         "mode": "lines",
         "type": "scatter",
         "x": [
          0.2667272956371488,
          0.16372253247513505,
          null
         ],
         "y": [
          0.34669884260823675,
          0.2876538914048422,
          null
         ]
        },
        {
         "line": {
          "color": "red",
          "width": 0.3426471914332318
         },
         "mode": "lines",
         "type": "scatter",
         "x": [
          0.2667272956371488,
          0.29917527387401793,
          null
         ],
         "y": [
          0.34669884260823675,
          0.4549984547966406,
          null
         ]
        },
        {
         "line": {
          "color": "green",
          "width": 1.471005794280839
         },
         "mode": "lines",
         "type": "scatter",
         "x": [
          0.2667272956371488,
          0.2706977907813909,
          null
         ],
         "y": [
          0.34669884260823675,
          0.3974766629577037,
          null
         ]
        },
        {
         "line": {
          "color": "red",
          "width": 0.23532191650161322
         },
         "mode": "lines",
         "type": "scatter",
         "x": [
          0.34228291012931333,
          0.16372253247513505,
          null
         ],
         "y": [
          0.39033711170882956,
          0.2876538914048422,
          null
         ]
        },
        {
         "line": {
          "color": "red",
          "width": 0.4081947695503021
         },
         "mode": "lines",
         "type": "scatter",
         "x": [
          0.34228291012931333,
          0.29917527387401793,
          null
         ],
         "y": [
          0.39033711170882956,
          0.4549984547966406,
          null
         ]
        },
        {
         "line": {
          "color": "red",
          "width": 1.0411642862520025
         },
         "mode": "lines",
         "type": "scatter",
         "x": [
          0.34228291012931333,
          0.2706977907813909,
          null
         ],
         "y": [
          0.39033711170882956,
          0.3974766629577037,
          null
         ]
        },
        {
         "line": {
          "color": "red",
          "width": 0.25655471741591074
         },
         "mode": "lines",
         "type": "scatter",
         "x": [
          0.16372253247513505,
          0.29917527387401793,
          null
         ],
         "y": [
          0.2876538914048422,
          0.4549984547966406,
          null
         ]
        },
        {
         "line": {
          "color": "red",
          "width": 0.6543827338532409
         },
         "mode": "lines",
         "type": "scatter",
         "x": [
          0.16372253247513505,
          0.2706977907813909,
          null
         ],
         "y": [
          0.2876538914048422,
          0.3974766629577037,
          null
         ]
        },
        {
         "line": {
          "color": "red",
          "width": 0.2351041138545819
         },
         "mode": "lines",
         "type": "scatter",
         "x": [
          0.16372253247513505,
          -0.09236094167617416,
          null
         ],
         "y": [
          0.2876538914048422,
          0.04909578652183959,
          null
         ]
        },
        {
         "line": {
          "color": "green",
          "width": 0.23510411385458221
         },
         "mode": "lines",
         "type": "scatter",
         "x": [
          0.16372253247513505,
          -0.12211591470064093,
          null
         ],
         "y": [
          0.2876538914048422,
          0.07636887642225798,
          null
         ]
        },
        {
         "line": {
          "color": "red",
          "width": 1.1351072318888349
         },
         "mode": "lines",
         "type": "scatter",
         "x": [
          0.29917527387401793,
          0.2706977907813909,
          null
         ],
         "y": [
          0.4549984547966406,
          0.3974766629577037,
          null
         ]
        },
        {
         "line": {
          "color": "red",
          "width": 1.4050576281989817
         },
         "mode": "lines",
         "type": "scatter",
         "x": [
          0.22394693019675802,
          0.1889601978703431,
          null
         ],
         "y": [
          -0.975253543175065,
          -0.8971760789250819,
          null
         ]
        },
        {
         "line": {
          "color": "red",
          "width": 0.9478447189987623
         },
         "mode": "lines",
         "type": "scatter",
         "x": [
          0.22394693019675802,
          0.16348282996934999,
          null
         ],
         "y": [
          -0.975253543175065,
          -1,
          null
         ]
        },
        {
         "line": {
          "color": "red",
          "width": 0.5874315971795534
         },
         "mode": "lines",
         "type": "scatter",
         "x": [
          0.1889601978703431,
          0.16348282996934999,
          null
         ],
         "y": [
          -0.8971760789250819,
          -1,
          null
         ]
        },
        {
         "line": {
          "color": "red",
          "width": 0.6317986288407594
         },
         "mode": "lines",
         "type": "scatter",
         "x": [
          -0.2267782800598657,
          -0.2815129794932164,
          null
         ],
         "y": [
          -0.046513180042701656,
          -0.15697969824523503,
          null
         ]
        },
        {
         "line": {
          "color": "red",
          "width": 0.4123368318777849
         },
         "mode": "lines",
         "type": "scatter",
         "x": [
          -0.2267782800598657,
          -0.34067081785048964,
          null
         ],
         "y": [
          -0.046513180042701656,
          -0.13413077349535238,
          null
         ]
        },
        {
         "line": {
          "color": "red",
          "width": 0.7669917922034847
         },
         "mode": "lines",
         "type": "scatter",
         "x": [
          -0.2267782800598657,
          -0.20546557822754097,
          null
         ],
         "y": [
          -0.046513180042701656,
          -0.07873138048739797,
          null
         ]
        },
        {
         "line": {
          "color": "green",
          "width": 0.3271668516455845
         },
         "mode": "lines",
         "type": "scatter",
         "x": [
          -0.2267782800598657,
          -0.09236094167617416,
          null
         ],
         "y": [
          -0.046513180042701656,
          0.04909578652183959,
          null
         ]
        },
        {
         "line": {
          "color": "red",
          "width": 0.32716685164558484
         },
         "mode": "lines",
         "type": "scatter",
         "x": [
          -0.2267782800598657,
          -0.12211591470064093,
          null
         ],
         "y": [
          -0.046513180042701656,
          0.07636887642225798,
          null
         ]
        },
        {
         "line": {
          "color": "red",
          "width": 0.5197400573160024
         },
         "mode": "lines",
         "type": "scatter",
         "x": [
          -0.2815129794932164,
          -0.34067081785048964,
          null
         ],
         "y": [
          -0.15697969824523503,
          -0.13413077349535238,
          null
         ]
        },
        {
         "line": {
          "color": "red",
          "width": 0.9667735870825509
         },
         "mode": "lines",
         "type": "scatter",
         "x": [
          -0.2815129794932164,
          -0.20546557822754097,
          null
         ],
         "y": [
          -0.15697969824523503,
          -0.07873138048739797,
          null
         ]
        },
        {
         "line": {
          "color": "red",
          "width": 0.6309547691994374
         },
         "mode": "lines",
         "type": "scatter",
         "x": [
          -0.34067081785048964,
          -0.20546557822754097,
          null
         ],
         "y": [
          -0.13413077349535238,
          -0.07873138048739797,
          null
         ]
        },
        {
         "line": {
          "color": "red",
          "width": 0.5350731163320258
         },
         "mode": "lines",
         "type": "scatter",
         "x": [
          -0.20546557822754097,
          -0.09236094167617416,
          null
         ],
         "y": [
          -0.07873138048739797,
          0.04909578652183959,
          null
         ]
        },
        {
         "line": {
          "color": "green",
          "width": 0.5350731163320267
         },
         "mode": "lines",
         "type": "scatter",
         "x": [
          -0.20546557822754097,
          -0.12211591470064093,
          null
         ],
         "y": [
          -0.07873138048739797,
          0.07636887642225798,
          null
         ]
        },
        {
         "line": {
          "color": "red",
          "width": 0.24699046076668446
         },
         "mode": "lines",
         "type": "scatter",
         "x": [
          0.01300984552058047,
          0.07389822015574879,
          null
         ],
         "y": [
          -0.18187685472909504,
          -0.06321896025178765,
          null
         ]
        },
        {
         "line": {
          "color": "red",
          "width": 0.23075626755184692
         },
         "mode": "lines",
         "type": "scatter",
         "x": [
          0.01300984552058047,
          0.05665213666386937,
          null
         ],
         "y": [
          -0.18187685472909504,
          0.0015717378967852536,
          null
         ]
        },
        {
         "line": {
          "color": "red",
          "width": 0.24504514428039775
         },
         "mode": "lines",
         "type": "scatter",
         "x": [
          0.16360002187126843,
          0.07389822015574879,
          null
         ],
         "y": [
          0.0037223738729495076,
          -0.06321896025178765,
          null
         ]
        },
        {
         "line": {
          "color": "red",
          "width": 0.22893881286072607
         },
         "mode": "lines",
         "type": "scatter",
         "x": [
          0.16360002187126843,
          0.05665213666386937,
          null
         ],
         "y": [
          0.0037223738729495076,
          0.0015717378967852536,
          null
         ]
        },
        {
         "line": {
          "color": "red",
          "width": 0.226128451251922
         },
         "mode": "lines",
         "type": "scatter",
         "x": [
          0.07389822015574879,
          -0.00831623662842173,
          null
         ],
         "y": [
          -0.06321896025178765,
          0.15032815047293605,
          null
         ]
        },
        {
         "line": {
          "color": "red",
          "width": 0.278631027006175
         },
         "mode": "lines",
         "type": "scatter",
         "x": [
          0.07389822015574879,
          0.20410823809506237,
          null
         ],
         "y": [
          -0.06321896025178765,
          -0.16892630149255794,
          null
         ]
        },
        {
         "line": {
          "color": "red",
          "width": 0.3441823970242528
         },
         "mode": "lines",
         "type": "scatter",
         "x": [
          0.07389822015574879,
          0.05665213666386937,
          null
         ],
         "y": [
          -0.06321896025178765,
          0.0015717378967852536,
          null
         ]
        },
        {
         "line": {
          "color": "red",
          "width": 0.2698392329033355
         },
         "mode": "lines",
         "type": "scatter",
         "x": [
          0.07389822015574879,
          0.2490068971446783,
          null
         ],
         "y": [
          -0.06321896025178765,
          -0.09158282765303712,
          null
         ]
        },
        {
         "line": {
          "color": "red",
          "width": 0.2561582030176615
         },
         "mode": "lines",
         "type": "scatter",
         "x": [
          0.07389822015574879,
          0.11690961671863682,
          null
         ],
         "y": [
          -0.06321896025178765,
          -0.12956355260955585,
          null
         ]
        },
        {
         "line": {
          "color": "red",
          "width": 0.2112654765540311
         },
         "mode": "lines",
         "type": "scatter",
         "x": [
          -0.00831623662842173,
          0.05665213666386937,
          null
         ],
         "y": [
          0.15032815047293605,
          0.0015717378967852536,
          null
         ]
        },
        {
         "line": {
          "color": "red",
          "width": 0.2603171621142846
         },
         "mode": "lines",
         "type": "scatter",
         "x": [
          0.20410823809506237,
          0.05665213666386937,
          null
         ],
         "y": [
          -0.16892630149255794,
          0.0015717378967852536,
          null
         ]
        },
        {
         "line": {
          "color": "red",
          "width": 0.20408883180490547
         },
         "mode": "lines",
         "type": "scatter",
         "x": [
          0.20410823809506237,
          0.2490068971446783,
          null
         ],
         "y": [
          -0.16892630149255794,
          -0.09158282765303712,
          null
         ]
        },
        {
         "line": {
          "color": "red",
          "width": 0.2521032352040782
         },
         "mode": "lines",
         "type": "scatter",
         "x": [
          0.05665213666386937,
          0.2490068971446783,
          null
         ],
         "y": [
          0.0015717378967852536,
          -0.09158282765303712,
          null
         ]
        },
        {
         "line": {
          "color": "red",
          "width": 0.23932143228390287
         },
         "mode": "lines",
         "type": "scatter",
         "x": [
          0.05665213666386937,
          0.11690961671863682,
          null
         ],
         "y": [
          0.0015717378967852536,
          -0.12956355260955585,
          null
         ]
        },
        {
         "line": {
          "color": "red",
          "width": 2
         },
         "mode": "lines",
         "type": "scatter",
         "x": [
          -0.09236094167617416,
          -0.12211591470064093,
          null
         ],
         "y": [
          0.04909578652183959,
          0.07636887642225798,
          null
         ]
        },
        {
         "hoverinfo": "text",
         "hoverlabel": {
          "bgcolor": "green"
         },
         "marker": {
          "opacity": 0
         },
         "mode": "markers",
         "text": "Correlation between: Quantity and Sales<br>Correlation Coefficient: 0.21015579188371805",
         "type": "scatter",
         "x": [
          -0.2810922517110525
         ],
         "y": [
          0.33220142876144193
         ]
        },
        {
         "hoverinfo": "text",
         "hoverlabel": {
          "bgcolor": "green"
         },
         "marker": {
          "opacity": 0
         },
         "mode": "markers",
         "text": "Correlation between: Profit and Sales<br>Correlation Coefficient: 0.493813856494015",
         "type": "scatter",
         "x": [
          -0.2129077636917516
         ],
         "y": [
          0.21660904268619163
         ]
        },
        {
         "hoverinfo": "text",
         "hoverlabel": {
          "bgcolor": "green"
         },
         "marker": {
          "opacity": 0
         },
         "mode": "markers",
         "text": "Correlation between: Sub-Category_Chairs and Sales<br>Correlation Coefficient: 0.13935798388079854",
         "type": "scatter",
         "x": [
          -0.10484270271499856
         ],
         "y": [
          0.2080933194996154
         ]
        },
        {
         "hoverinfo": "text",
         "hoverlabel": {
          "bgcolor": "green"
         },
         "marker": {
          "opacity": 0
         },
         "mode": "markers",
         "text": "Correlation between: Sub-Category_Copiers and Sales<br>Correlation Coefficient: 0.27821147994891704",
         "type": "scatter",
         "x": [
          -0.2622588156371908
         ],
         "y": [
          0.2609220996894832
         ]
        },
        {
         "hoverinfo": "text",
         "hoverlabel": {
          "bgcolor": "green"
         },
         "marker": {
          "opacity": 0
         },
         "mode": "markers",
         "text": "Correlation between: Sub-Category_Machines and Sales<br>Correlation Coefficient: 0.23097764860329867",
         "type": "scatter",
         "x": [
          -0.22940912022370413
         ],
         "y": [
          0.3568441378066824
         ]
        },
        {
         "hoverinfo": "text",
         "hoverlabel": {
          "bgcolor": "red"
         },
         "marker": {
          "opacity": 0
         },
         "mode": "markers",
         "text": "Correlation between: Sub-Category_Paper and Sales<br>Correlation Coefficient: -0.11365341437554285",
         "type": "scatter",
         "x": [
          -0.072358516068853
         ],
         "y": [
          0.13371511321154
         ]
        },
        {
         "hoverinfo": "text",
         "hoverlabel": {
          "bgcolor": "green"
         },
         "marker": {
          "opacity": 0
         },
         "mode": "markers",
         "text": "Correlation between: Sub-Category_Tables and Sales<br>Correlation Coefficient: 0.1143640136829423",
         "type": "scatter",
         "x": [
          -0.14834016608391493
         ],
         "y": [
          0.2547579483473603
         ]
        },
        {
         "hoverinfo": "text",
         "hoverlabel": {
          "bgcolor": "red"
         },
         "marker": {
          "opacity": 0
         },
         "mode": "markers",
         "text": "Correlation between: Profit and Discount<br>Correlation Coefficient: -0.21933567856415018",
         "type": "scatter",
         "x": [
          -0.14043339377997677
         ],
         "y": [
          0.07691274940639736
         ]
        },
        {
         "hoverinfo": "text",
         "hoverlabel": {
          "bgcolor": "green"
         },
         "marker": {
          "opacity": 0
         },
         "mode": "markers",
         "text": "Correlation between: Region_Central and Discount<br>Correlation Coefficient: 0.24182175319888405",
         "type": "scatter",
         "x": [
          -0.1415993545189457
         ],
         "y": [
          -0.03002363903799772
         ]
        },
        {
         "hoverinfo": "text",
         "hoverlabel": {
          "bgcolor": "red"
         },
         "marker": {
          "opacity": 0
         },
         "mode": "markers",
         "text": "Correlation between: Region_West and Discount<br>Correlation Coefficient: -0.16808062235934454",
         "type": "scatter",
         "x": [
          -0.13094300360278335
         ],
         "y": [
          -0.046132739260345876
         ]
        },
        {
         "hoverinfo": "text",
         "hoverlabel": {
          "bgcolor": "red"
         },
         "marker": {
          "opacity": 0
         },
         "mode": "markers",
         "text": "Correlation between: Sub-Category_Accessories and Discount<br>Correlation Coefficient: -0.10856954959656695",
         "type": "scatter",
         "x": [
          -0.021705291728722632
         ],
         "y": [
          -0.09770547638119441
         ]
        },
        {
         "hoverinfo": "text",
         "hoverlabel": {
          "bgcolor": "red"
         },
         "marker": {
          "opacity": 0
         },
         "mode": "markers",
         "text": "Correlation between: Sub-Category_Art and Discount<br>Correlation Coefficient: -0.11111804722667439",
         "type": "scatter",
         "x": [
          0.053589796446621346
         ],
         "y": [
          -0.004905862080172139
         ]
        },
        {
         "hoverinfo": "text",
         "hoverlabel": {
          "bgcolor": "green"
         },
         "marker": {
          "opacity": 0
         },
         "mode": "markers",
         "text": "Correlation between: Sub-Category_Binders and Discount<br>Correlation Coefficient: 0.45568671351556034",
         "type": "scatter",
         "x": [
          0.008738895588861529
         ],
         "y": [
          -0.03837652914254072
         ]
        },
        {
         "hoverinfo": "text",
         "hoverlabel": {
          "bgcolor": "red"
         },
         "marker": {
          "opacity": 0
         },
         "mode": "markers",
         "text": "Correlation between: Sub-Category_Paper and Discount<br>Correlation Coefficient: -0.1706241527096312",
         "type": "scatter",
         "x": [
          0.00011585384292181825
         ],
         "y": [
          -0.005981180068254266
         ]
        },
        {
         "hoverinfo": "text",
         "hoverlabel": {
          "bgcolor": "red"
         },
         "marker": {
          "opacity": 0
         },
         "mode": "markers",
         "text": "Correlation between: Sub-Category_Storage and Discount<br>Correlation Coefficient: -0.12073766795431493",
         "type": "scatter",
         "x": [
          0.030244593870305547
         ],
         "y": [
          -0.07154882532142481
         ]
        },
        {
         "hoverinfo": "text",
         "hoverlabel": {
          "bgcolor": "green"
         },
         "marker": {
          "opacity": 0
         },
         "mode": "markers",
         "text": "Correlation between: Sub-Category_Tables and Discount<br>Correlation Coefficient: 0.10283168702240666",
         "type": "scatter",
         "x": [
          -0.07586579617214011
         ],
         "y": [
          0.11506165506756605
         ]
        },
        {
         "hoverinfo": "text",
         "hoverlabel": {
          "bgcolor": "green"
         },
         "marker": {
          "opacity": 0
         },
         "mode": "markers",
         "text": "Correlation between: Sub-Category_Copiers and Profit<br>Correlation Coefficient: 0.2921240294907555",
         "type": "scatter",
         "x": [
          -0.273797410527367
         ],
         "y": [
          0.21167265384938005
         ]
        },
        {
         "hoverinfo": "text",
         "hoverlabel": {
          "bgcolor": "red"
         },
         "marker": {
          "opacity": 0
         },
         "mode": "markers",
         "text": "Correlation between: Ship Mode_First Class and Days Until Shipping<br>Correlation Coefficient: -0.4081141744486515",
         "type": "scatter",
         "x": [
          0.30450510288323107
         ],
         "y": [
          0.3685179771585332
         ]
        },
        {
         "hoverinfo": "text",
         "hoverlabel": {
          "bgcolor": "red"
         },
         "marker": {
          "opacity": 0
         },
         "mode": "markers",
         "text": "Correlation between: Ship Mode_Same Day and Days Until Shipping<br>Correlation Coefficient: -0.5793802110770249",
         "type": "scatter",
         "x": [
          0.2152249140561419
         ],
         "y": [
          0.3171763670065395
         ]
        },
        {
         "hoverinfo": "text",
         "hoverlabel": {
          "bgcolor": "red"
         },
         "marker": {
          "opacity": 0
         },
         "mode": "markers",
         "text": "Correlation between: Ship Mode_Second Class and Days Until Shipping<br>Correlation Coefficient: -0.1713235957166159",
         "type": "scatter",
         "x": [
          0.2829512847555834
         ],
         "y": [
          0.40084864870243864
         ]
        },
        {
         "hoverinfo": "text",
         "hoverlabel": {
          "bgcolor": "green"
         },
         "marker": {
          "opacity": 0
         },
         "mode": "markers",
         "text": "Correlation between: Ship Mode_Standard Class and Days Until Shipping<br>Correlation Coefficient: 0.7355028971404195",
         "type": "scatter",
         "x": [
          0.26871254320926985
         ],
         "y": [
          0.37208775278297024
         ]
        },
        {
         "hoverinfo": "text",
         "hoverlabel": {
          "bgcolor": "red"
         },
         "marker": {
          "opacity": 0
         },
         "mode": "markers",
         "text": "Correlation between: Ship Mode_Same Day and Ship Mode_First Class<br>Correlation Coefficient: -0.11766095825080661",
         "type": "scatter",
         "x": [
          0.2530027213022242
         ],
         "y": [
          0.3389955015568359
         ]
        },
        {
         "hoverinfo": "text",
         "hoverlabel": {
          "bgcolor": "red"
         },
         "marker": {
          "opacity": 0
         },
         "mode": "markers",
         "text": "Correlation between: Ship Mode_Second Class and Ship Mode_First Class<br>Correlation Coefficient: -0.20409738477515105",
         "type": "scatter",
         "x": [
          0.32072909200166566
         ],
         "y": [
          0.4226677832527351
         ]
        },
        {
         "hoverinfo": "text",
         "hoverlabel": {
          "bgcolor": "red"
         },
         "marker": {
          "opacity": 0
         },
         "mode": "markers",
         "text": "Correlation between: Ship Mode_Standard Class and Ship Mode_First Class<br>Correlation Coefficient: -0.5205821431260013",
         "type": "scatter",
         "x": [
          0.3064903504553521
         ],
         "y": [
          0.3939068873332666
         ]
        },
        {
         "hoverinfo": "text",
         "hoverlabel": {
          "bgcolor": "red"
         },
         "marker": {
          "opacity": 0
         },
         "mode": "markers",
         "text": "Correlation between: Ship Mode_Second Class and Ship Mode_Same Day<br>Correlation Coefficient: -0.12827735870795537",
         "type": "scatter",
         "x": [
          0.2314489031745765
         ],
         "y": [
          0.3713261731007414
         ]
        },
        {
         "hoverinfo": "text",
         "hoverlabel": {
          "bgcolor": "red"
         },
         "marker": {
          "opacity": 0
         },
         "mode": "markers",
         "text": "Correlation between: Ship Mode_Standard Class and Ship Mode_Same Day<br>Correlation Coefficient: -0.32719136692662043",
         "type": "scatter",
         "x": [
          0.21721016162826295
         ],
         "y": [
          0.34256527718127294
         ]
        },
        {
         "hoverinfo": "text",
         "hoverlabel": {
          "bgcolor": "red"
         },
         "marker": {
          "opacity": 0
         },
         "mode": "markers",
         "text": "Correlation between: Returned_No and Ship Mode_Same Day<br>Correlation Coefficient: -0.11755205692729095",
         "type": "scatter",
         "x": [
          0.03568079539948044
         ],
         "y": [
          0.1683748389633409
         ]
        },
        {
         "hoverinfo": "text",
         "hoverlabel": {
          "bgcolor": "green"
         },
         "marker": {
          "opacity": 0
         },
         "mode": "markers",
         "text": "Correlation between: Returned_Yes and Ship Mode_Same Day<br>Correlation Coefficient: 0.11755205692729111",
         "type": "scatter",
         "x": [
          0.02080330888724706
         ],
         "y": [
          0.1820113839135501
         ]
        },
        {
         "hoverinfo": "text",
         "hoverlabel": {
          "bgcolor": "red"
         },
         "marker": {
          "opacity": 0
         },
         "mode": "markers",
         "text": "Correlation between: Ship Mode_Standard Class and Ship Mode_Second Class<br>Correlation Coefficient: -0.5675536159444174",
         "type": "scatter",
         "x": [
          0.28493653232770444
         ],
         "y": [
          0.42623755887717213
         ]
        },
        {
         "hoverinfo": "text",
         "hoverlabel": {
          "bgcolor": "red"
         },
         "marker": {
          "opacity": 0
         },
         "mode": "markers",
         "text": "Correlation between: Segment_Corporate and Segment_Consumer<br>Correlation Coefficient: -0.7025288140994909",
         "type": "scatter",
         "x": [
          0.20645356403355056
         ],
         "y": [
          -0.9362148110500734
         ]
        },
        {
         "hoverinfo": "text",
         "hoverlabel": {
          "bgcolor": "red"
         },
         "marker": {
          "opacity": 0
         },
         "mode": "markers",
         "text": "Correlation between: Segment_Home Office and Segment_Consumer<br>Correlation Coefficient: -0.47392235949938116",
         "type": "scatter",
         "x": [
          0.193714880083054
         ],
         "y": [
          -0.9876267715875324
         ]
        },
        {
         "hoverinfo": "text",
         "hoverlabel": {
          "bgcolor": "red"
         },
         "marker": {
          "opacity": 0
         },
         "mode": "markers",
         "text": "Correlation between: Segment_Home Office and Segment_Corporate<br>Correlation Coefficient: -0.2937157985897767",
         "type": "scatter",
         "x": [
          0.17622151391984653
         ],
         "y": [
          -0.948588039462541
         ]
        },
        {
         "hoverinfo": "text",
         "hoverlabel": {
          "bgcolor": "red"
         },
         "marker": {
          "opacity": 0
         },
         "mode": "markers",
         "text": "Correlation between: Region_East and Region_Central<br>Correlation Coefficient: -0.3158993144203797",
         "type": "scatter",
         "x": [
          -0.25414562977654104
         ],
         "y": [
          -0.10174643914396835
         ]
        },
        {
         "hoverinfo": "text",
         "hoverlabel": {
          "bgcolor": "red"
         },
         "marker": {
          "opacity": 0
         },
         "mode": "markers",
         "text": "Correlation between: Region_South and Region_Central<br>Correlation Coefficient: -0.20616841593889246",
         "type": "scatter",
         "x": [
          -0.2837245489551777
         ],
         "y": [
          -0.09032197676902702
         ]
        },
        {
         "hoverinfo": "text",
         "hoverlabel": {
          "bgcolor": "red"
         },
         "marker": {
          "opacity": 0
         },
         "mode": "markers",
         "text": "Correlation between: Region_West and Region_Central<br>Correlation Coefficient: -0.38349589610174234",
         "type": "scatter",
         "x": [
          -0.21612192914370332
         ],
         "y": [
          -0.06262228026504982
         ]
        },
        {
         "hoverinfo": "text",
         "hoverlabel": {
          "bgcolor": "green"
         },
         "marker": {
          "opacity": 0
         },
         "mode": "markers",
         "text": "Correlation between: Returned_No and Region_Central<br>Correlation Coefficient: 0.16358342582279226",
         "type": "scatter",
         "x": [
          -0.15956961086801993
         ],
         "y": [
          0.001291303239568966
         ]
        },
        {
         "hoverinfo": "text",
         "hoverlabel": {
          "bgcolor": "red"
         },
         "marker": {
          "opacity": 0
         },
         "mode": "markers",
         "text": "Correlation between: Returned_Yes and Region_Central<br>Correlation Coefficient: -0.16358342582279242",
         "type": "scatter",
         "x": [
          -0.17444709738025332
         ],
         "y": [
          0.014927848189778162
         ]
        },
        {
         "hoverinfo": "text",
         "hoverlabel": {
          "bgcolor": "red"
         },
         "marker": {
          "opacity": 0
         },
         "mode": "markers",
         "text": "Correlation between: Region_South and Region_East<br>Correlation Coefficient: -0.2598700286580012",
         "type": "scatter",
         "x": [
          -0.31109189867185305
         ],
         "y": [
          -0.1455552358702937
         ]
        },
        {
         "hoverinfo": "text",
         "hoverlabel": {
          "bgcolor": "red"
         },
         "marker": {
          "opacity": 0
         },
         "mode": "markers",
         "text": "Correlation between: Region_West and Region_East<br>Correlation Coefficient: -0.48338679354127545",
         "type": "scatter",
         "x": [
          -0.2434892788603787
         ],
         "y": [
          -0.1178555393663165
         ]
        },
        {
         "hoverinfo": "text",
         "hoverlabel": {
          "bgcolor": "red"
         },
         "marker": {
          "opacity": 0
         },
         "mode": "markers",
         "text": "Correlation between: Region_West and Region_South<br>Correlation Coefficient: -0.3154773845997187",
         "type": "scatter",
         "x": [
          -0.2730681980390153
         ],
         "y": [
          -0.10643107699137518
         ]
        },
        {
         "hoverinfo": "text",
         "hoverlabel": {
          "bgcolor": "red"
         },
         "marker": {
          "opacity": 0
         },
         "mode": "markers",
         "text": "Correlation between: Returned_No and Region_West<br>Correlation Coefficient: -0.2675365581660129",
         "type": "scatter",
         "x": [
          -0.14891325995185756
         ],
         "y": [
          -0.014817796982779192
         ]
        },
        {
         "hoverinfo": "text",
         "hoverlabel": {
          "bgcolor": "green"
         },
         "marker": {
          "opacity": 0
         },
         "mode": "markers",
         "text": "Correlation between: Returned_Yes and Region_West<br>Correlation Coefficient: 0.26753655816601335",
         "type": "scatter",
         "x": [
          -0.16379074646409095
         ],
         "y": [
          -0.001181252032569996
         ]
        },
        {
         "hoverinfo": "text",
         "hoverlabel": {
          "bgcolor": "red"
         },
         "marker": {
          "opacity": 0
         },
         "mode": "markers",
         "text": "Correlation between: Sub-Category_Binders and Sub-Category_Accessories<br>Correlation Coefficient: -0.12349523038334223",
         "type": "scatter",
         "x": [
          0.04345403283816463
         ],
         "y": [
          -0.12254790749044134
         ]
        },
        {
         "hoverinfo": "text",
         "hoverlabel": {
          "bgcolor": "red"
         },
         "marker": {
          "opacity": 0
         },
         "mode": "markers",
         "text": "Correlation between: Sub-Category_Paper and Sub-Category_Accessories<br>Correlation Coefficient: -0.11537813377592346",
         "type": "scatter",
         "x": [
          0.03483099109222492
         ],
         "y": [
          -0.0901525584161549
         ]
        },
        {
         "hoverinfo": "text",
         "hoverlabel": {
          "bgcolor": "red"
         },
         "marker": {
          "opacity": 0
         },
         "mode": "markers",
         "text": "Correlation between: Sub-Category_Binders and Sub-Category_Art<br>Correlation Coefficient: -0.12252257214019888",
         "type": "scatter",
         "x": [
          0.11874912101350861
         ],
         "y": [
          -0.029748293189419073
         ]
        },
        {
         "hoverinfo": "text",
         "hoverlabel": {
          "bgcolor": "red"
         },
         "marker": {
          "opacity": 0
         },
         "mode": "markers",
         "text": "Correlation between: Sub-Category_Paper and Sub-Category_Art<br>Correlation Coefficient: -0.11446940643036303",
         "type": "scatter",
         "x": [
          0.1101260792675689
         ],
         "y": [
          0.0026470558848673805
         ]
        },
        {
         "hoverinfo": "text",
         "hoverlabel": {
          "bgcolor": "red"
         },
         "marker": {
          "opacity": 0
         },
         "mode": "markers",
         "text": "Correlation between: Sub-Category_Chairs and Sub-Category_Binders<br>Correlation Coefficient: -0.113064225625961",
         "type": "scatter",
         "x": [
          0.03279099176366353
         ],
         "y": [
          0.0435545951105742
         ]
        },
        {
         "hoverinfo": "text",
         "hoverlabel": {
          "bgcolor": "red"
         },
         "marker": {
          "opacity": 0
         },
         "mode": "markers",
         "text": "Correlation between: Sub-Category_Furnishings and Sub-Category_Binders<br>Correlation Coefficient: -0.1393155135030875",
         "type": "scatter",
         "x": [
          0.13900322912540558
         ],
         "y": [
          -0.11607263087217279
         ]
        },
        {
         "hoverinfo": "text",
         "hoverlabel": {
          "bgcolor": "red"
         },
         "marker": {
          "opacity": 0
         },
         "mode": "markers",
         "text": "Correlation between: Sub-Category_Paper and Sub-Category_Binders<br>Correlation Coefficient: -0.1720911985121264",
         "type": "scatter",
         "x": [
          0.06527517840980908
         ],
         "y": [
          -0.0308236111775012
         ]
        },
        {
         "hoverinfo": "text",
         "hoverlabel": {
          "bgcolor": "red"
         },
         "marker": {
          "opacity": 0
         },
         "mode": "markers",
         "text": "Correlation between: Sub-Category_Phones and Sub-Category_Binders<br>Correlation Coefficient: -0.13491961645166775",
         "type": "scatter",
         "x": [
          0.16145255865021355
         ],
         "y": [
          -0.07740089395241238
         ]
        },
        {
         "hoverinfo": "text",
         "hoverlabel": {
          "bgcolor": "red"
         },
         "marker": {
          "opacity": 0
         },
         "mode": "markers",
         "text": "Correlation between: Sub-Category_Storage and Sub-Category_Binders<br>Correlation Coefficient: -0.12807910150883076",
         "type": "scatter",
         "x": [
          0.09540391843719281
         ],
         "y": [
          -0.09639125643067176
         ]
        },
        {
         "hoverinfo": "text",
         "hoverlabel": {
          "bgcolor": "red"
         },
         "marker": {
          "opacity": 0
         },
         "mode": "markers",
         "text": "Correlation between: Sub-Category_Paper and Sub-Category_Chairs<br>Correlation Coefficient: -0.10563273827701555",
         "type": "scatter",
         "x": [
          0.02416795001772382
         ],
         "y": [
          0.07594994418486065
         ]
        },
        {
         "hoverinfo": "text",
         "hoverlabel": {
          "bgcolor": "red"
         },
         "marker": {
          "opacity": 0
         },
         "mode": "markers",
         "text": "Correlation between: Sub-Category_Paper and Sub-Category_Furnishings<br>Correlation Coefficient: -0.1301585810571423",
         "type": "scatter",
         "x": [
          0.13038018737946588
         ],
         "y": [
          -0.08367728179788635
         ]
        },
        {
         "hoverinfo": "text",
         "hoverlabel": {
          "bgcolor": "red"
         },
         "marker": {
          "opacity": 0
         },
         "mode": "markers",
         "text": "Correlation between: Sub-Category_Phones and Sub-Category_Furnishings<br>Correlation Coefficient: -0.10204441590245274",
         "type": "scatter",
         "x": [
          0.22655756761987034
         ],
         "y": [
          -0.13025456457279752
         ]
        },
        {
         "hoverinfo": "text",
         "hoverlabel": {
          "bgcolor": "red"
         },
         "marker": {
          "opacity": 0
         },
         "mode": "markers",
         "text": "Correlation between: Sub-Category_Phones and Sub-Category_Paper<br>Correlation Coefficient: -0.1260516176020391",
         "type": "scatter",
         "x": [
          0.15282951690427382
         ],
         "y": [
          -0.045005544878125935
         ]
        },
        {
         "hoverinfo": "text",
         "hoverlabel": {
          "bgcolor": "red"
         },
         "marker": {
          "opacity": 0
         },
         "mode": "markers",
         "text": "Correlation between: Sub-Category_Storage and Sub-Category_Paper<br>Correlation Coefficient: -0.11966071614195144",
         "type": "scatter",
         "x": [
          0.08678087669125309
         ],
         "y": [
          -0.0639959073563853
         ]
        },
        {
         "hoverinfo": "text",
         "hoverlabel": {
          "bgcolor": "red"
         },
         "marker": {
          "opacity": 0
         },
         "mode": "markers",
         "text": "Correlation between: Returned_Yes and Returned_No<br>Correlation Coefficient: -1.0",
         "type": "scatter",
         "x": [
          -0.10723842818840754
         ],
         "y": [
          0.06273233147204879
         ]
        },
        {
         "hoverinfo": "text",
         "marker": {
          "color": [
           0.1916514217861401,
           0.036311683666349064,
           0.41179280917598887,
           0.1257264469643418,
           0.024447479011378333,
           0.024447479011378333,
           0.05567791524155655,
           0.024447479011378333,
           0.024447479011378333,
           2.979917605440086e-20,
           2.979917605440086e-20,
           2.979917605440086e-20,
           0.18183715162240519,
           0.08501305353950163,
           0.08501305353950163,
           0.18183715162240519,
           0.2393679220997778,
           0.2393679220997778,
           0.41052533624820836,
           0.1976580432936148,
           0.060132785111616405,
           0.1990621153720378,
           0.036311683666349064,
           0.44105302383129413,
           0.19906211537203775,
           0.2393679220997778,
           0.11433324613886112,
           0.09802930410734147,
           0.09802930410734147
          ],
          "colorbar": {
           "thickness": 15,
           "title": {
            "side": "right",
            "text": "Centrality"
           },
           "xanchor": "left"
          },
          "colorscale": [
           [
            0,
            "rgb(255,255,217)"
           ],
           [
            0.125,
            "rgb(237,248,177)"
           ],
           [
            0.25,
            "rgb(199,233,180)"
           ],
           [
            0.375,
            "rgb(127,205,187)"
           ],
           [
            0.5,
            "rgb(65,182,196)"
           ],
           [
            0.625,
            "rgb(29,145,192)"
           ],
           [
            0.75,
            "rgb(34,94,168)"
           ],
           [
            0.875,
            "rgb(37,52,148)"
           ],
           [
            1,
            "rgb(8,29,88)"
           ]
          ],
          "line": {
           "width": 2
          },
          "reversescale": true,
          "showscale": true,
          "size": [
           19.165142178614012,
           3.631168366634906,
           41.17928091759889,
           12.57264469643418,
           2.4447479011378332,
           2.4447479011378332,
           5.567791524155655,
           2.4447479011378332,
           2.4447479011378332,
           2.979917605440086e-18,
           2.979917605440086e-18,
           2.979917605440086e-18,
           18.183715162240517,
           8.501305353950164,
           8.501305353950164,
           18.183715162240517,
           23.93679220997778,
           23.93679220997778,
           41.05253362482084,
           19.76580432936148,
           6.013278511161641,
           19.90621153720378,
           3.631168366634906,
           44.10530238312941,
           19.906211537203774,
           23.93679220997778,
           11.433324613886112,
           9.802930410734147,
           9.802930410734147
          ]
         },
         "mode": "markers",
         "text": [
          "Node Name: Sales<br># of connections: 7<br>Centrality: 0.19",
          "Node Name: Quantity<br># of connections: 1<br>Centrality: 0.04",
          "Node Name: Discount<br># of connections: 9<br>Centrality: 0.41",
          "Node Name: Profit<br># of connections: 3<br>Centrality: 0.13",
          "Node Name: Days Until Shipping<br># of connections: 4<br>Centrality: 0.02",
          "Node Name: Ship Mode_First Class<br># of connections: 4<br>Centrality: 0.02",
          "Node Name: Ship Mode_Same Day<br># of connections: 6<br>Centrality: 0.06",
          "Node Name: Ship Mode_Second Class<br># of connections: 4<br>Centrality: 0.02",
          "Node Name: Ship Mode_Standard Class<br># of connections: 4<br>Centrality: 0.02",
          "Node Name: Segment_Consumer<br># of connections: 2<br>Centrality: 0.00",
          "Node Name: Segment_Corporate<br># of connections: 2<br>Centrality: 0.00",
          "Node Name: Segment_Home Office<br># of connections: 2<br>Centrality: 0.00",
          "Node Name: Region_Central<br># of connections: 6<br>Centrality: 0.18",
          "Node Name: Region_East<br># of connections: 3<br>Centrality: 0.09",
          "Node Name: Region_South<br># of connections: 3<br>Centrality: 0.09",
          "Node Name: Region_West<br># of connections: 6<br>Centrality: 0.18",
          "Node Name: Sub-Category_Accessories<br># of connections: 3<br>Centrality: 0.24",
          "Node Name: Sub-Category_Art<br># of connections: 3<br>Centrality: 0.24",
          "Node Name: Sub-Category_Binders<br># of connections: 8<br>Centrality: 0.41",
          "Node Name: Sub-Category_Chairs<br># of connections: 3<br>Centrality: 0.20",
          "Node Name: Sub-Category_Copiers<br># of connections: 2<br>Centrality: 0.06",
          "Node Name: Sub-Category_Furnishings<br># of connections: 3<br>Centrality: 0.20",
          "Node Name: Sub-Category_Machines<br># of connections: 1<br>Centrality: 0.04",
          "Node Name: Sub-Category_Paper<br># of connections: 9<br>Centrality: 0.44",
          "Node Name: Sub-Category_Phones<br># of connections: 3<br>Centrality: 0.20",
          "Node Name: Sub-Category_Storage<br># of connections: 3<br>Centrality: 0.24",
          "Node Name: Sub-Category_Tables<br># of connections: 2<br>Centrality: 0.11",
          "Node Name: Returned_No<br># of connections: 4<br>Centrality: 0.10",
          "Node Name: Returned_Yes<br># of connections: 4<br>Centrality: 0.10"
         ],
         "type": "scatter",
         "x": [
          -0.20136916880157538,
          -0.36081533462052967,
          -0.05642042897802573,
          -0.22444635858192782,
          0.2667272956371488,
          0.34228291012931333,
          0.16372253247513505,
          0.29917527387401793,
          0.2706977907813909,
          0.22394693019675802,
          0.1889601978703431,
          0.16348282996934999,
          -0.2267782800598657,
          -0.2815129794932164,
          -0.34067081785048964,
          -0.20546557822754097,
          0.01300984552058047,
          0.16360002187126843,
          0.07389822015574879,
          -0.00831623662842173,
          -0.32314846247280615,
          0.20410823809506237,
          -0.2574490716458329,
          0.05665213666386937,
          0.2490068971446783,
          0.11690961671863682,
          -0.09531116336625449,
          -0.09236094167617416,
          -0.12211591470064093
         ],
         "y": [
          0.26585848852629473,
          0.3985443689965891,
          -0.013534098033293786,
          0.1673595968460885,
          0.34669884260823675,
          0.39033711170882956,
          0.2876538914048422,
          0.4549984547966406,
          0.3974766629577037,
          -0.975253543175065,
          -0.8971760789250819,
          -1,
          -0.046513180042701656,
          -0.15697969824523503,
          -0.13413077349535238,
          -0.07873138048739797,
          -0.18187685472909504,
          0.0037223738729495076,
          -0.06321896025178765,
          0.15032815047293605,
          0.25598571085267163,
          -0.16892630149255794,
          0.44782978708707005,
          0.0015717378967852536,
          -0.09158282765303712,
          -0.12956355260955585,
          0.24365740816842588,
          0.04909578652183959,
          0.07636887642225798
         ]
        },
        {
         "marker": {
          "opacity": 0
         },
         "mode": "text",
         "text": [
          "Sales",
          "Quantity",
          "Discount",
          "Profit",
          "Days Until Shipping",
          "Ship Mode_First Class",
          "Ship Mode_Same Day",
          "Ship Mode_Second Class",
          "Ship Mode_Standard Class",
          "Segment_Consumer",
          "Segment_Corporate",
          "Segment_Home Office",
          "Region_Central",
          "Region_East",
          "Region_South",
          "Region_West",
          "Sub-Category_Accessories",
          "Sub-Category_Art",
          "Sub-Category_Binders",
          "Sub-Category_Chairs",
          "Sub-Category_Copiers",
          "Sub-Category_Furnishings",
          "Sub-Category_Machines",
          "Sub-Category_Paper",
          "Sub-Category_Phones",
          "Sub-Category_Storage",
          "Sub-Category_Tables",
          "Returned_No",
          "Returned_Yes"
         ],
         "textfont": {
          "size": [
           8,
           8,
           8,
           8,
           8,
           8,
           8,
           8,
           8,
           8,
           8,
           8,
           8,
           8,
           8,
           8,
           8,
           8,
           8,
           8,
           8,
           8,
           8,
           8,
           8,
           8,
           8,
           8,
           8
          ]
         },
         "textposition": "top center",
         "type": "scatter",
         "x": [
          -0.20136916880157538,
          -0.36081533462052967,
          -0.05642042897802573,
          -0.22444635858192782,
          0.2667272956371488,
          0.34228291012931333,
          0.16372253247513505,
          0.29917527387401793,
          0.2706977907813909,
          0.22394693019675802,
          0.1889601978703431,
          0.16348282996934999,
          -0.2267782800598657,
          -0.2815129794932164,
          -0.34067081785048964,
          -0.20546557822754097,
          0.01300984552058047,
          0.16360002187126843,
          0.07389822015574879,
          -0.00831623662842173,
          -0.32314846247280615,
          0.20410823809506237,
          -0.2574490716458329,
          0.05665213666386937,
          0.2490068971446783,
          0.11690961671863682,
          -0.09531116336625449,
          -0.09236094167617416,
          -0.12211591470064093
         ],
         "y": [
          0.26585848852629473,
          0.3985443689965891,
          -0.013534098033293786,
          0.1673595968460885,
          0.34669884260823675,
          0.39033711170882956,
          0.2876538914048422,
          0.4549984547966406,
          0.3974766629577037,
          -0.975253543175065,
          -0.8971760789250819,
          -1,
          -0.046513180042701656,
          -0.15697969824523503,
          -0.13413077349535238,
          -0.07873138048739797,
          -0.18187685472909504,
          0.0037223738729495076,
          -0.06321896025178765,
          0.15032815047293605,
          0.25598571085267163,
          -0.16892630149255794,
          0.44782978708707005,
          0.0015717378967852536,
          -0.09158282765303712,
          -0.12956355260955585,
          0.24365740816842588,
          0.04909578652183959,
          0.07636887642225798
         ]
        }
       ],
       "layout": {
        "annotations": [
         {
          "showarrow": false,
          "text": "",
          "x": 0.005,
          "xref": "paper",
          "y": -0.002,
          "yref": "paper"
         }
        ],
        "hovermode": "closest",
        "margin": {
         "b": 20,
         "l": 5,
         "r": 5,
         "t": 40
        },
        "showlegend": false,
        "template": {
         "data": {
          "bar": [
           {
            "error_x": {
             "color": "#2a3f5f"
            },
            "error_y": {
             "color": "#2a3f5f"
            },
            "marker": {
             "line": {
              "color": "#E5ECF6",
              "width": 0.5
             },
             "pattern": {
              "fillmode": "overlay",
              "size": 10,
              "solidity": 0.2
             }
            },
            "type": "bar"
           }
          ],
          "barpolar": [
           {
            "marker": {
             "line": {
              "color": "#E5ECF6",
              "width": 0.5
             },
             "pattern": {
              "fillmode": "overlay",
              "size": 10,
              "solidity": 0.2
             }
            },
            "type": "barpolar"
           }
          ],
          "carpet": [
           {
            "aaxis": {
             "endlinecolor": "#2a3f5f",
             "gridcolor": "white",
             "linecolor": "white",
             "minorgridcolor": "white",
             "startlinecolor": "#2a3f5f"
            },
            "baxis": {
             "endlinecolor": "#2a3f5f",
             "gridcolor": "white",
             "linecolor": "white",
             "minorgridcolor": "white",
             "startlinecolor": "#2a3f5f"
            },
            "type": "carpet"
           }
          ],
          "choropleth": [
           {
            "colorbar": {
             "outlinewidth": 0,
             "ticks": ""
            },
            "type": "choropleth"
           }
          ],
          "contour": [
           {
            "colorbar": {
             "outlinewidth": 0,
             "ticks": ""
            },
            "colorscale": [
             [
              0,
              "#0d0887"
             ],
             [
              0.1111111111111111,
              "#46039f"
             ],
             [
              0.2222222222222222,
              "#7201a8"
             ],
             [
              0.3333333333333333,
              "#9c179e"
             ],
             [
              0.4444444444444444,
              "#bd3786"
             ],
             [
              0.5555555555555556,
              "#d8576b"
             ],
             [
              0.6666666666666666,
              "#ed7953"
             ],
             [
              0.7777777777777778,
              "#fb9f3a"
             ],
             [
              0.8888888888888888,
              "#fdca26"
             ],
             [
              1,
              "#f0f921"
             ]
            ],
            "type": "contour"
           }
          ],
          "contourcarpet": [
           {
            "colorbar": {
             "outlinewidth": 0,
             "ticks": ""
            },
            "type": "contourcarpet"
           }
          ],
          "heatmap": [
           {
            "colorbar": {
             "outlinewidth": 0,
             "ticks": ""
            },
            "colorscale": [
             [
              0,
              "#0d0887"
             ],
             [
              0.1111111111111111,
              "#46039f"
             ],
             [
              0.2222222222222222,
              "#7201a8"
             ],
             [
              0.3333333333333333,
              "#9c179e"
             ],
             [
              0.4444444444444444,
              "#bd3786"
             ],
             [
              0.5555555555555556,
              "#d8576b"
             ],
             [
              0.6666666666666666,
              "#ed7953"
             ],
             [
              0.7777777777777778,
              "#fb9f3a"
             ],
             [
              0.8888888888888888,
              "#fdca26"
             ],
             [
              1,
              "#f0f921"
             ]
            ],
            "type": "heatmap"
           }
          ],
          "heatmapgl": [
           {
            "colorbar": {
             "outlinewidth": 0,
             "ticks": ""
            },
            "colorscale": [
             [
              0,
              "#0d0887"
             ],
             [
              0.1111111111111111,
              "#46039f"
             ],
             [
              0.2222222222222222,
              "#7201a8"
             ],
             [
              0.3333333333333333,
              "#9c179e"
             ],
             [
              0.4444444444444444,
              "#bd3786"
             ],
             [
              0.5555555555555556,
              "#d8576b"
             ],
             [
              0.6666666666666666,
              "#ed7953"
             ],
             [
              0.7777777777777778,
              "#fb9f3a"
             ],
             [
              0.8888888888888888,
              "#fdca26"
             ],
             [
              1,
              "#f0f921"
             ]
            ],
            "type": "heatmapgl"
           }
          ],
          "histogram": [
           {
            "marker": {
             "pattern": {
              "fillmode": "overlay",
              "size": 10,
              "solidity": 0.2
             }
            },
            "type": "histogram"
           }
          ],
          "histogram2d": [
           {
            "colorbar": {
             "outlinewidth": 0,
             "ticks": ""
            },
            "colorscale": [
             [
              0,
              "#0d0887"
             ],
             [
              0.1111111111111111,
              "#46039f"
             ],
             [
              0.2222222222222222,
              "#7201a8"
             ],
             [
              0.3333333333333333,
              "#9c179e"
             ],
             [
              0.4444444444444444,
              "#bd3786"
             ],
             [
              0.5555555555555556,
              "#d8576b"
             ],
             [
              0.6666666666666666,
              "#ed7953"
             ],
             [
              0.7777777777777778,
              "#fb9f3a"
             ],
             [
              0.8888888888888888,
              "#fdca26"
             ],
             [
              1,
              "#f0f921"
             ]
            ],
            "type": "histogram2d"
           }
          ],
          "histogram2dcontour": [
           {
            "colorbar": {
             "outlinewidth": 0,
             "ticks": ""
            },
            "colorscale": [
             [
              0,
              "#0d0887"
             ],
             [
              0.1111111111111111,
              "#46039f"
             ],
             [
              0.2222222222222222,
              "#7201a8"
             ],
             [
              0.3333333333333333,
              "#9c179e"
             ],
             [
              0.4444444444444444,
              "#bd3786"
             ],
             [
              0.5555555555555556,
              "#d8576b"
             ],
             [
              0.6666666666666666,
              "#ed7953"
             ],
             [
              0.7777777777777778,
              "#fb9f3a"
             ],
             [
              0.8888888888888888,
              "#fdca26"
             ],
             [
              1,
              "#f0f921"
             ]
            ],
            "type": "histogram2dcontour"
           }
          ],
          "mesh3d": [
           {
            "colorbar": {
             "outlinewidth": 0,
             "ticks": ""
            },
            "type": "mesh3d"
           }
          ],
          "parcoords": [
           {
            "line": {
             "colorbar": {
              "outlinewidth": 0,
              "ticks": ""
             }
            },
            "type": "parcoords"
           }
          ],
          "pie": [
           {
            "automargin": true,
            "type": "pie"
           }
          ],
          "scatter": [
           {
            "fillpattern": {
             "fillmode": "overlay",
             "size": 10,
             "solidity": 0.2
            },
            "type": "scatter"
           }
          ],
          "scatter3d": [
           {
            "line": {
             "colorbar": {
              "outlinewidth": 0,
              "ticks": ""
             }
            },
            "marker": {
             "colorbar": {
              "outlinewidth": 0,
              "ticks": ""
             }
            },
            "type": "scatter3d"
           }
          ],
          "scattercarpet": [
           {
            "marker": {
             "colorbar": {
              "outlinewidth": 0,
              "ticks": ""
             }
            },
            "type": "scattercarpet"
           }
          ],
          "scattergeo": [
           {
            "marker": {
             "colorbar": {
              "outlinewidth": 0,
              "ticks": ""
             }
            },
            "type": "scattergeo"
           }
          ],
          "scattergl": [
           {
            "marker": {
             "colorbar": {
              "outlinewidth": 0,
              "ticks": ""
             }
            },
            "type": "scattergl"
           }
          ],
          "scattermapbox": [
           {
            "marker": {
             "colorbar": {
              "outlinewidth": 0,
              "ticks": ""
             }
            },
            "type": "scattermapbox"
           }
          ],
          "scatterpolar": [
           {
            "marker": {
             "colorbar": {
              "outlinewidth": 0,
              "ticks": ""
             }
            },
            "type": "scatterpolar"
           }
          ],
          "scatterpolargl": [
           {
            "marker": {
             "colorbar": {
              "outlinewidth": 0,
              "ticks": ""
             }
            },
            "type": "scatterpolargl"
           }
          ],
          "scatterternary": [
           {
            "marker": {
             "colorbar": {
              "outlinewidth": 0,
              "ticks": ""
             }
            },
            "type": "scatterternary"
           }
          ],
          "surface": [
           {
            "colorbar": {
             "outlinewidth": 0,
             "ticks": ""
            },
            "colorscale": [
             [
              0,
              "#0d0887"
             ],
             [
              0.1111111111111111,
              "#46039f"
             ],
             [
              0.2222222222222222,
              "#7201a8"
             ],
             [
              0.3333333333333333,
              "#9c179e"
             ],
             [
              0.4444444444444444,
              "#bd3786"
             ],
             [
              0.5555555555555556,
              "#d8576b"
             ],
             [
              0.6666666666666666,
              "#ed7953"
             ],
             [
              0.7777777777777778,
              "#fb9f3a"
             ],
             [
              0.8888888888888888,
              "#fdca26"
             ],
             [
              1,
              "#f0f921"
             ]
            ],
            "type": "surface"
           }
          ],
          "table": [
           {
            "cells": {
             "fill": {
              "color": "#EBF0F8"
             },
             "line": {
              "color": "white"
             }
            },
            "header": {
             "fill": {
              "color": "#C8D4E3"
             },
             "line": {
              "color": "white"
             }
            },
            "type": "table"
           }
          ]
         },
         "layout": {
          "annotationdefaults": {
           "arrowcolor": "#2a3f5f",
           "arrowhead": 0,
           "arrowwidth": 1
          },
          "autotypenumbers": "strict",
          "coloraxis": {
           "colorbar": {
            "outlinewidth": 0,
            "ticks": ""
           }
          },
          "colorscale": {
           "diverging": [
            [
             0,
             "#8e0152"
            ],
            [
             0.1,
             "#c51b7d"
            ],
            [
             0.2,
             "#de77ae"
            ],
            [
             0.3,
             "#f1b6da"
            ],
            [
             0.4,
             "#fde0ef"
            ],
            [
             0.5,
             "#f7f7f7"
            ],
            [
             0.6,
             "#e6f5d0"
            ],
            [
             0.7,
             "#b8e186"
            ],
            [
             0.8,
             "#7fbc41"
            ],
            [
             0.9,
             "#4d9221"
            ],
            [
             1,
             "#276419"
            ]
           ],
           "sequential": [
            [
             0,
             "#0d0887"
            ],
            [
             0.1111111111111111,
             "#46039f"
            ],
            [
             0.2222222222222222,
             "#7201a8"
            ],
            [
             0.3333333333333333,
             "#9c179e"
            ],
            [
             0.4444444444444444,
             "#bd3786"
            ],
            [
             0.5555555555555556,
             "#d8576b"
            ],
            [
             0.6666666666666666,
             "#ed7953"
            ],
            [
             0.7777777777777778,
             "#fb9f3a"
            ],
            [
             0.8888888888888888,
             "#fdca26"
            ],
            [
             1,
             "#f0f921"
            ]
           ],
           "sequentialminus": [
            [
             0,
             "#0d0887"
            ],
            [
             0.1111111111111111,
             "#46039f"
            ],
            [
             0.2222222222222222,
             "#7201a8"
            ],
            [
             0.3333333333333333,
             "#9c179e"
            ],
            [
             0.4444444444444444,
             "#bd3786"
            ],
            [
             0.5555555555555556,
             "#d8576b"
            ],
            [
             0.6666666666666666,
             "#ed7953"
            ],
            [
             0.7777777777777778,
             "#fb9f3a"
            ],
            [
             0.8888888888888888,
             "#fdca26"
            ],
            [
             1,
             "#f0f921"
            ]
           ]
          },
          "colorway": [
           "#636efa",
           "#EF553B",
           "#00cc96",
           "#ab63fa",
           "#FFA15A",
           "#19d3f3",
           "#FF6692",
           "#B6E880",
           "#FF97FF",
           "#FECB52"
          ],
          "font": {
           "color": "#2a3f5f"
          },
          "geo": {
           "bgcolor": "white",
           "lakecolor": "white",
           "landcolor": "#E5ECF6",
           "showlakes": true,
           "showland": true,
           "subunitcolor": "white"
          },
          "hoverlabel": {
           "align": "left"
          },
          "hovermode": "closest",
          "mapbox": {
           "style": "light"
          },
          "paper_bgcolor": "white",
          "plot_bgcolor": "#E5ECF6",
          "polar": {
           "angularaxis": {
            "gridcolor": "white",
            "linecolor": "white",
            "ticks": ""
           },
           "bgcolor": "#E5ECF6",
           "radialaxis": {
            "gridcolor": "white",
            "linecolor": "white",
            "ticks": ""
           }
          },
          "scene": {
           "xaxis": {
            "backgroundcolor": "#E5ECF6",
            "gridcolor": "white",
            "gridwidth": 2,
            "linecolor": "white",
            "showbackground": true,
            "ticks": "",
            "zerolinecolor": "white"
           },
           "yaxis": {
            "backgroundcolor": "#E5ECF6",
            "gridcolor": "white",
            "gridwidth": 2,
            "linecolor": "white",
            "showbackground": true,
            "ticks": "",
            "zerolinecolor": "white"
           },
           "zaxis": {
            "backgroundcolor": "#E5ECF6",
            "gridcolor": "white",
            "gridwidth": 2,
            "linecolor": "white",
            "showbackground": true,
            "ticks": "",
            "zerolinecolor": "white"
           }
          },
          "shapedefaults": {
           "line": {
            "color": "#2a3f5f"
           }
          },
          "ternary": {
           "aaxis": {
            "gridcolor": "white",
            "linecolor": "white",
            "ticks": ""
           },
           "baxis": {
            "gridcolor": "white",
            "linecolor": "white",
            "ticks": ""
           },
           "bgcolor": "#E5ECF6",
           "caxis": {
            "gridcolor": "white",
            "linecolor": "white",
            "ticks": ""
           }
          },
          "title": {
           "x": 0.05
          },
          "xaxis": {
           "automargin": true,
           "gridcolor": "white",
           "linecolor": "white",
           "ticks": "",
           "title": {
            "standoff": 15
           },
           "zerolinecolor": "white",
           "zerolinewidth": 2
          },
          "yaxis": {
           "automargin": true,
           "gridcolor": "white",
           "linecolor": "white",
           "ticks": "",
           "title": {
            "standoff": 15
           },
           "zerolinecolor": "white",
           "zerolinewidth": 2
          }
         }
        },
        "title": {
         "font": {
          "size": 16
         },
         "text": "Graph of Feature Correlations"
        },
        "xaxis": {
         "showgrid": false,
         "showticklabels": false,
         "zeroline": false
        },
        "yaxis": {
         "showgrid": false,
         "showticklabels": false,
         "zeroline": false
        }
       }
      }
     },
     "metadata": {},
     "output_type": "display_data"
    }
   ],
   "source": [
    "\n",
    "ea.GraphFromAdjacencyMatrix(\n",
    "        adjacency_matrix=adjacency_matrix,\n",
    "        node_labels=dict_labels,centrality='eigenvector').plot_plotly()"
   ]
  },
  {
   "cell_type": "code",
   "execution_count": 20,
   "metadata": {},
   "outputs": [
    {
     "data": {
      "application/vnd.plotly.v1+json": {
       "config": {
        "modeBarButtonsToRemove": [
         "select",
         "lasso"
        ],
        "plotlyServerURL": "https://plot.ly"
       },
       "data": [
        {
         "line": {
          "color": "green",
          "width": 0.4203115837674361
         },
         "mode": "lines",
         "type": "scatter",
         "x": [
          0.25982205221831006,
          0.196605842558018,
          null
         ],
         "y": [
          -0.03334418052962953,
          -0.18310903459354516,
          null
         ]
        },
        {
         "line": {
          "color": "green",
          "width": 0.98762771298803
         },
         "mode": "lines",
         "type": "scatter",
         "x": [
          0.25982205221831006,
          0.17072032631632453,
          null
         ],
         "y": [
          -0.03334418052962953,
          -0.038759223539826394,
          null
         ]
        },
        {
         "line": {
          "color": "green",
          "width": 0.27871596776159707
         },
         "mode": "lines",
         "type": "scatter",
         "x": [
          0.25982205221831006,
          0.2590260429694485,
          null
         ],
         "y": [
          -0.03334418052962953,
          0.14892493807027907,
          null
         ]
        },
        {
         "line": {
          "color": "green",
          "width": 0.5564229598978341
         },
         "mode": "lines",
         "type": "scatter",
         "x": [
          0.25982205221831006,
          0.28402191562688234,
          null
         ],
         "y": [
          -0.03334418052962953,
          -0.10975571949378624,
          null
         ]
        },
        {
         "line": {
          "color": "green",
          "width": 0.46195529720659734
         },
         "mode": "lines",
         "type": "scatter",
         "x": [
          0.25982205221831006,
          0.387592397896244,
          null
         ],
         "y": [
          -0.03334418052962953,
          -0.1600997418088519,
          null
         ]
        },
        {
         "line": {
          "color": "red",
          "width": 0.2273068287510857
         },
         "mode": "lines",
         "type": "scatter",
         "x": [
          0.25982205221831006,
          0.12723738540297777,
          null
         ],
         "y": [
          -0.03334418052962953,
          0.20262052499984354,
          null
         ]
        },
        {
         "line": {
          "color": "green",
          "width": 0.2287280273658846
         },
         "mode": "lines",
         "type": "scatter",
         "x": [
          0.25982205221831006,
          0.171966821232052,
          null
         ],
         "y": [
          -0.03334418052962953,
          0.0477336884515801,
          null
         ]
        },
        {
         "line": {
          "color": "red",
          "width": 0.43867135712830035
         },
         "mode": "lines",
         "type": "scatter",
         "x": [
          -0.009313020008077976,
          0.17072032631632453,
          null
         ],
         "y": [
          0.08718254178158993,
          -0.038759223539826394,
          null
         ]
        },
        {
         "line": {
          "color": "green",
          "width": 0.4836435063977681
         },
         "mode": "lines",
         "type": "scatter",
         "x": [
          -0.009313020008077976,
          -0.20596015196059073,
          null
         ],
         "y": [
          0.08718254178158993,
          -0.05141797704672945,
          null
         ]
        },
        {
         "line": {
          "color": "red",
          "width": 0.3361612447186891
         },
         "mode": "lines",
         "type": "scatter",
         "x": [
          -0.009313020008077976,
          -0.24151576263668767,
          null
         ],
         "y": [
          0.08718254178158993,
          -0.08278952310649972,
          null
         ]
        },
        {
         "line": {
          "color": "red",
          "width": 0.2171390991931339
         },
         "mode": "lines",
         "type": "scatter",
         "x": [
          -0.009313020008077976,
          0.11886581208959078,
          null
         ],
         "y": [
          0.08718254178158993,
          0.27841457070712544,
          null
         ]
        },
        {
         "line": {
          "color": "red",
          "width": 0.22223609445334877
         },
         "mode": "lines",
         "type": "scatter",
         "x": [
          -0.009313020008077976,
          -0.04217756296760984,
          null
         ],
         "y": [
          0.08718254178158993,
          0.21724345909236886,
          null
         ]
        },
        {
         "line": {
          "color": "green",
          "width": 0.9113734270311207
         },
         "mode": "lines",
         "type": "scatter",
         "x": [
          -0.009313020008077976,
          0.06717285550959089,
          null
         ],
         "y": [
          0.08718254178158993,
          0.22145539461768196,
          null
         ]
        },
        {
         "line": {
          "color": "red",
          "width": 0.3412483054192624
         },
         "mode": "lines",
         "type": "scatter",
         "x": [
          -0.009313020008077976,
          0.12723738540297777,
          null
         ],
         "y": [
          0.08718254178158993,
          0.20262052499984354,
          null
         ]
        },
        {
         "line": {
          "color": "red",
          "width": 0.24147533590862985
         },
         "mode": "lines",
         "type": "scatter",
         "x": [
          -0.009313020008077976,
          -0.011816910906886783,
          null
         ],
         "y": [
          0.08718254178158993,
          0.28400015637872544,
          null
         ]
        },
        {
         "line": {
          "color": "green",
          "width": 0.20566337404481333
         },
         "mode": "lines",
         "type": "scatter",
         "x": [
          -0.009313020008077976,
          0.171966821232052,
          null
         ],
         "y": [
          0.08718254178158993,
          0.0477336884515801,
          null
         ]
        },
        {
         "line": {
          "color": "green",
          "width": 0.584248058981511
         },
         "mode": "lines",
         "type": "scatter",
         "x": [
          0.17072032631632453,
          0.28402191562688234,
          null
         ],
         "y": [
          -0.038759223539826394,
          -0.10975571949378624,
          null
         ]
        },
        {
         "line": {
          "color": "red",
          "width": 0.816228348897303
         },
         "mode": "lines",
         "type": "scatter",
         "x": [
          -0.6859811629366219,
          -0.767229517020572,
          null
         ],
         "y": [
          -0.31836030314344105,
          -0.33292928196204874,
          null
         ]
        },
        {
         "line": {
          "color": "red",
          "width": 1.1587604221540497
         },
         "mode": "lines",
         "type": "scatter",
         "x": [
          -0.6859811629366219,
          -0.609478859852538,
          null
         ],
         "y": [
          -0.31836030314344105,
          -0.25821148656174187,
          null
         ]
        },
        {
         "line": {
          "color": "red",
          "width": 0.3426471914332318
         },
         "mode": "lines",
         "type": "scatter",
         "x": [
          -0.6859811629366219,
          -0.7416164458393043,
          null
         ],
         "y": [
          -0.31836030314344105,
          -0.236624467087655,
          null
         ]
        },
        {
         "line": {
          "color": "green",
          "width": 1.471005794280839
         },
         "mode": "lines",
         "type": "scatter",
         "x": [
          -0.6859811629366219,
          -0.7248297229933083,
          null
         ],
         "y": [
          -0.31836030314344105,
          -0.28982562748179114,
          null
         ]
        },
        {
         "line": {
          "color": "red",
          "width": 0.23532191650161322
         },
         "mode": "lines",
         "type": "scatter",
         "x": [
          -0.767229517020572,
          -0.609478859852538,
          null
         ],
         "y": [
          -0.33292928196204874,
          -0.25821148656174187,
          null
         ]
        },
        {
         "line": {
          "color": "red",
          "width": 0.4081947695503021
         },
         "mode": "lines",
         "type": "scatter",
         "x": [
          -0.767229517020572,
          -0.7416164458393043,
          null
         ],
         "y": [
          -0.33292928196204874,
          -0.236624467087655,
          null
         ]
        },
        {
         "line": {
          "color": "red",
          "width": 1.0411642862520025
         },
         "mode": "lines",
         "type": "scatter",
         "x": [
          -0.767229517020572,
          -0.7248297229933083,
          null
         ],
         "y": [
          -0.33292928196204874,
          -0.28982562748179114,
          null
         ]
        },
        {
         "line": {
          "color": "red",
          "width": 0.25655471741591074
         },
         "mode": "lines",
         "type": "scatter",
         "x": [
          -0.609478859852538,
          -0.7416164458393043,
          null
         ],
         "y": [
          -0.25821148656174187,
          -0.236624467087655,
          null
         ]
        },
        {
         "line": {
          "color": "red",
          "width": 0.6543827338532409
         },
         "mode": "lines",
         "type": "scatter",
         "x": [
          -0.609478859852538,
          -0.7248297229933083,
          null
         ],
         "y": [
          -0.25821148656174187,
          -0.28982562748179114,
          null
         ]
        },
        {
         "line": {
          "color": "red",
          "width": 0.2351041138545819
         },
         "mode": "lines",
         "type": "scatter",
         "x": [
          -0.609478859852538,
          -0.3869384369886237,
          null
         ],
         "y": [
          -0.25821148656174187,
          -0.13200842097476068,
          null
         ]
        },
        {
         "line": {
          "color": "green",
          "width": 0.23510411385458221
         },
         "mode": "lines",
         "type": "scatter",
         "x": [
          -0.609478859852538,
          -0.36630283344183623,
          null
         ],
         "y": [
          -0.25821148656174187,
          -0.1704040027910163,
          null
         ]
        },
        {
         "line": {
          "color": "red",
          "width": 1.1351072318888349
         },
         "mode": "lines",
         "type": "scatter",
         "x": [
          -0.7416164458393043,
          -0.7248297229933083,
          null
         ],
         "y": [
          -0.236624467087655,
          -0.28982562748179114,
          null
         ]
        },
        {
         "line": {
          "color": "red",
          "width": 1.4050576281989817
         },
         "mode": "lines",
         "type": "scatter",
         "x": [
          0.9921685913996103,
          1,
          null
         ],
         "y": [
          0.169956875817215,
          0.12853252721899563,
          null
         ]
        },
        {
         "line": {
          "color": "red",
          "width": 0.9478447189987623
         },
         "mode": "lines",
         "type": "scatter",
         "x": [
          0.9921685913996103,
          0.9984526716893501,
          null
         ],
         "y": [
          0.169956875817215,
          0.07885294912540901,
          null
         ]
        },
        {
         "line": {
          "color": "red",
          "width": 0.5874315971795534
         },
         "mode": "lines",
         "type": "scatter",
         "x": [
          1,
          0.9984526716893501,
          null
         ],
         "y": [
          0.12853252721899563,
          0.07885294912540901,
          null
         ]
        },
        {
         "line": {
          "color": "red",
          "width": 0.6317986288407594
         },
         "mode": "lines",
         "type": "scatter",
         "x": [
          -0.20596015196059073,
          -0.23275294438462601,
          null
         ],
         "y": [
          -0.05141797704672945,
          -0.14692625266886786,
          null
         ]
        },
        {
         "line": {
          "color": "red",
          "width": 0.4123368318777849
         },
         "mode": "lines",
         "type": "scatter",
         "x": [
          -0.20596015196059073,
          -0.30173398479467756,
          null
         ],
         "y": [
          -0.05141797704672945,
          -0.07430774628706639,
          null
         ]
        },
        {
         "line": {
          "color": "red",
          "width": 0.7669917922034847
         },
         "mode": "lines",
         "type": "scatter",
         "x": [
          -0.20596015196059073,
          -0.24151576263668767,
          null
         ],
         "y": [
          -0.05141797704672945,
          -0.08278952310649972,
          null
         ]
        },
        {
         "line": {
          "color": "green",
          "width": 0.3271668516455845
         },
         "mode": "lines",
         "type": "scatter",
         "x": [
          -0.20596015196059073,
          -0.3869384369886237,
          null
         ],
         "y": [
          -0.05141797704672945,
          -0.13200842097476068,
          null
         ]
        },
        {
         "line": {
          "color": "red",
          "width": 0.32716685164558484
         },
         "mode": "lines",
         "type": "scatter",
         "x": [
          -0.20596015196059073,
          -0.36630283344183623,
          null
         ],
         "y": [
          -0.05141797704672945,
          -0.1704040027910163,
          null
         ]
        },
        {
         "line": {
          "color": "red",
          "width": 0.5197400573160024
         },
         "mode": "lines",
         "type": "scatter",
         "x": [
          -0.23275294438462601,
          -0.30173398479467756,
          null
         ],
         "y": [
          -0.14692625266886786,
          -0.07430774628706639,
          null
         ]
        },
        {
         "line": {
          "color": "red",
          "width": 0.9667735870825509
         },
         "mode": "lines",
         "type": "scatter",
         "x": [
          -0.23275294438462601,
          -0.24151576263668767,
          null
         ],
         "y": [
          -0.14692625266886786,
          -0.08278952310649972,
          null
         ]
        },
        {
         "line": {
          "color": "red",
          "width": 0.6309547691994374
         },
         "mode": "lines",
         "type": "scatter",
         "x": [
          -0.30173398479467756,
          -0.24151576263668767,
          null
         ],
         "y": [
          -0.07430774628706639,
          -0.08278952310649972,
          null
         ]
        },
        {
         "line": {
          "color": "red",
          "width": 0.5350731163320258
         },
         "mode": "lines",
         "type": "scatter",
         "x": [
          -0.24151576263668767,
          -0.3869384369886237,
          null
         ],
         "y": [
          -0.08278952310649972,
          -0.13200842097476068,
          null
         ]
        },
        {
         "line": {
          "color": "green",
          "width": 0.5350731163320267
         },
         "mode": "lines",
         "type": "scatter",
         "x": [
          -0.24151576263668767,
          -0.36630283344183623,
          null
         ],
         "y": [
          -0.08278952310649972,
          -0.1704040027910163,
          null
         ]
        },
        {
         "line": {
          "color": "red",
          "width": 0.24699046076668446
         },
         "mode": "lines",
         "type": "scatter",
         "x": [
          0.11886581208959078,
          0.06717285550959089,
          null
         ],
         "y": [
          0.27841457070712544,
          0.22145539461768196,
          null
         ]
        },
        {
         "line": {
          "color": "red",
          "width": 0.23075626755184692
         },
         "mode": "lines",
         "type": "scatter",
         "x": [
          0.11886581208959078,
          0.12723738540297777,
          null
         ],
         "y": [
          0.27841457070712544,
          0.20262052499984354,
          null
         ]
        },
        {
         "line": {
          "color": "red",
          "width": 0.24504514428039775
         },
         "mode": "lines",
         "type": "scatter",
         "x": [
          -0.04217756296760984,
          0.06717285550959089,
          null
         ],
         "y": [
          0.21724345909236886,
          0.22145539461768196,
          null
         ]
        },
        {
         "line": {
          "color": "red",
          "width": 0.22893881286072607
         },
         "mode": "lines",
         "type": "scatter",
         "x": [
          -0.04217756296760984,
          0.12723738540297777,
          null
         ],
         "y": [
          0.21724345909236886,
          0.20262052499984354,
          null
         ]
        },
        {
         "line": {
          "color": "red",
          "width": 0.226128451251922
         },
         "mode": "lines",
         "type": "scatter",
         "x": [
          0.06717285550959089,
          0.2590260429694485,
          null
         ],
         "y": [
          0.22145539461768196,
          0.14892493807027907,
          null
         ]
        },
        {
         "line": {
          "color": "red",
          "width": 0.278631027006175
         },
         "mode": "lines",
         "type": "scatter",
         "x": [
          0.06717285550959089,
          0.18737295596610162,
          null
         ],
         "y": [
          0.22145539461768196,
          0.36284357748758306,
          null
         ]
        },
        {
         "line": {
          "color": "red",
          "width": 0.3441823970242528
         },
         "mode": "lines",
         "type": "scatter",
         "x": [
          0.06717285550959089,
          0.12723738540297777,
          null
         ],
         "y": [
          0.22145539461768196,
          0.20262052499984354,
          null
         ]
        },
        {
         "line": {
          "color": "red",
          "width": 0.2698392329033355
         },
         "mode": "lines",
         "type": "scatter",
         "x": [
          0.06717285550959089,
          0.10662164585745901,
          null
         ],
         "y": [
          0.22145539461768196,
          0.39111178532886065,
          null
         ]
        },
        {
         "line": {
          "color": "red",
          "width": 0.2561582030176615
         },
         "mode": "lines",
         "type": "scatter",
         "x": [
          0.06717285550959089,
          -0.011816910906886783,
          null
         ],
         "y": [
          0.22145539461768196,
          0.28400015637872544,
          null
         ]
        },
        {
         "line": {
          "color": "red",
          "width": 0.2112654765540311
         },
         "mode": "lines",
         "type": "scatter",
         "x": [
          0.2590260429694485,
          0.12723738540297777,
          null
         ],
         "y": [
          0.14892493807027907,
          0.20262052499984354,
          null
         ]
        },
        {
         "line": {
          "color": "red",
          "width": 0.2603171621142846
         },
         "mode": "lines",
         "type": "scatter",
         "x": [
          0.18737295596610162,
          0.12723738540297777,
          null
         ],
         "y": [
          0.36284357748758306,
          0.20262052499984354,
          null
         ]
        },
        {
         "line": {
          "color": "red",
          "width": 0.20408883180490547
         },
         "mode": "lines",
         "type": "scatter",
         "x": [
          0.18737295596610162,
          0.10662164585745901,
          null
         ],
         "y": [
          0.36284357748758306,
          0.39111178532886065,
          null
         ]
        },
        {
         "line": {
          "color": "red",
          "width": 0.2521032352040782
         },
         "mode": "lines",
         "type": "scatter",
         "x": [
          0.12723738540297777,
          0.10662164585745901,
          null
         ],
         "y": [
          0.20262052499984354,
          0.39111178532886065,
          null
         ]
        },
        {
         "line": {
          "color": "red",
          "width": 0.23932143228390287
         },
         "mode": "lines",
         "type": "scatter",
         "x": [
          0.12723738540297777,
          -0.011816910906886783,
          null
         ],
         "y": [
          0.20262052499984354,
          0.28400015637872544,
          null
         ]
        },
        {
         "line": {
          "color": "red",
          "width": 2
         },
         "mode": "lines",
         "type": "scatter",
         "x": [
          -0.3869384369886237,
          -0.36630283344183623,
          null
         ],
         "y": [
          -0.13200842097476068,
          -0.1704040027910163,
          null
         ]
        },
        {
         "hoverinfo": "text",
         "hoverlabel": {
          "bgcolor": "green"
         },
         "marker": {
          "opacity": 0
         },
         "mode": "markers",
         "text": "Correlation between: Feature 1 and Feature 0<br>Correlation Coefficient: 0.21015579188371805",
         "type": "scatter",
         "x": [
          0.22821394738816403
         ],
         "y": [
          -0.10822660756158735
         ]
        },
        {
         "hoverinfo": "text",
         "hoverlabel": {
          "bgcolor": "green"
         },
         "marker": {
          "opacity": 0
         },
         "mode": "markers",
         "text": "Correlation between: Feature 3 and Feature 0<br>Correlation Coefficient: 0.493813856494015",
         "type": "scatter",
         "x": [
          0.2152711892673173
         ],
         "y": [
          -0.03605170203472796
         ]
        },
        {
         "hoverinfo": "text",
         "hoverlabel": {
          "bgcolor": "green"
         },
         "marker": {
          "opacity": 0
         },
         "mode": "markers",
         "text": "Correlation between: Feature 19 and Feature 0<br>Correlation Coefficient: 0.13935798388079854",
         "type": "scatter",
         "x": [
          0.25942404759387927
         ],
         "y": [
          0.057790378770324766
         ]
        },
        {
         "hoverinfo": "text",
         "hoverlabel": {
          "bgcolor": "green"
         },
         "marker": {
          "opacity": 0
         },
         "mode": "markers",
         "text": "Correlation between: Feature 20 and Feature 0<br>Correlation Coefficient: 0.27821147994891704",
         "type": "scatter",
         "x": [
          0.2719219839225962
         ],
         "y": [
          -0.07154995001170789
         ]
        },
        {
         "hoverinfo": "text",
         "hoverlabel": {
          "bgcolor": "green"
         },
         "marker": {
          "opacity": 0
         },
         "mode": "markers",
         "text": "Correlation between: Feature 22 and Feature 0<br>Correlation Coefficient: 0.23097764860329867",
         "type": "scatter",
         "x": [
          0.323707225057277
         ],
         "y": [
          -0.09672196116924071
         ]
        },
        {
         "hoverinfo": "text",
         "hoverlabel": {
          "bgcolor": "red"
         },
         "marker": {
          "opacity": 0
         },
         "mode": "markers",
         "text": "Correlation between: Feature 23 and Feature 0<br>Correlation Coefficient: -0.11365341437554285",
         "type": "scatter",
         "x": [
          0.1935297188106439
         ],
         "y": [
          0.084638172235107
         ]
        },
        {
         "hoverinfo": "text",
         "hoverlabel": {
          "bgcolor": "green"
         },
         "marker": {
          "opacity": 0
         },
         "mode": "markers",
         "text": "Correlation between: Feature 26 and Feature 0<br>Correlation Coefficient: 0.1143640136829423",
         "type": "scatter",
         "x": [
          0.21589443672518105
         ],
         "y": [
          0.007194753960975287
         ]
        },
        {
         "hoverinfo": "text",
         "hoverlabel": {
          "bgcolor": "red"
         },
         "marker": {
          "opacity": 0
         },
         "mode": "markers",
         "text": "Correlation between: Feature 3 and Feature 2<br>Correlation Coefficient: -0.21933567856415018",
         "type": "scatter",
         "x": [
          0.08070365315412327
         ],
         "y": [
          0.02421165912088177
         ]
        },
        {
         "hoverinfo": "text",
         "hoverlabel": {
          "bgcolor": "green"
         },
         "marker": {
          "opacity": 0
         },
         "mode": "markers",
         "text": "Correlation between: Feature 12 and Feature 2<br>Correlation Coefficient: 0.24182175319888405",
         "type": "scatter",
         "x": [
          -0.10763658598433436
         ],
         "y": [
          0.017882282367430242
         ]
        },
        {
         "hoverinfo": "text",
         "hoverlabel": {
          "bgcolor": "red"
         },
         "marker": {
          "opacity": 0
         },
         "mode": "markers",
         "text": "Correlation between: Feature 15 and Feature 2<br>Correlation Coefficient: -0.16808062235934454",
         "type": "scatter",
         "x": [
          -0.12541439132238283
         ],
         "y": [
          0.002196509337545109
         ]
        },
        {
         "hoverinfo": "text",
         "hoverlabel": {
          "bgcolor": "red"
         },
         "marker": {
          "opacity": 0
         },
         "mode": "markers",
         "text": "Correlation between: Feature 16 and Feature 2<br>Correlation Coefficient: -0.10856954959656695",
         "type": "scatter",
         "x": [
          0.0547763960407564
         ],
         "y": [
          0.1827985562443577
         ]
        },
        {
         "hoverinfo": "text",
         "hoverlabel": {
          "bgcolor": "red"
         },
         "marker": {
          "opacity": 0
         },
         "mode": "markers",
         "text": "Correlation between: Feature 17 and Feature 2<br>Correlation Coefficient: -0.11111804722667439",
         "type": "scatter",
         "x": [
          -0.025745291487843908
         ],
         "y": [
          0.15221300043697938
         ]
        },
        {
         "hoverinfo": "text",
         "hoverlabel": {
          "bgcolor": "green"
         },
         "marker": {
          "opacity": 0
         },
         "mode": "markers",
         "text": "Correlation between: Feature 18 and Feature 2<br>Correlation Coefficient: 0.45568671351556034",
         "type": "scatter",
         "x": [
          0.028929917750756456
         ],
         "y": [
          0.15431896819963595
         ]
        },
        {
         "hoverinfo": "text",
         "hoverlabel": {
          "bgcolor": "red"
         },
         "marker": {
          "opacity": 0
         },
         "mode": "markers",
         "text": "Correlation between: Feature 23 and Feature 2<br>Correlation Coefficient: -0.1706241527096312",
         "type": "scatter",
         "x": [
          0.0589621826974499
         ],
         "y": [
          0.14490153339071674
         ]
        },
        {
         "hoverinfo": "text",
         "hoverlabel": {
          "bgcolor": "red"
         },
         "marker": {
          "opacity": 0
         },
         "mode": "markers",
         "text": "Correlation between: Feature 25 and Feature 2<br>Correlation Coefficient: -0.12073766795431493",
         "type": "scatter",
         "x": [
          -0.01056496545748238
         ],
         "y": [
          0.18559134908015767
         ]
        },
        {
         "hoverinfo": "text",
         "hoverlabel": {
          "bgcolor": "green"
         },
         "marker": {
          "opacity": 0
         },
         "mode": "markers",
         "text": "Correlation between: Feature 26 and Feature 2<br>Correlation Coefficient: 0.10283168702240666",
         "type": "scatter",
         "x": [
          0.08132690061198701
         ],
         "y": [
          0.06745811511658502
         ]
        },
        {
         "hoverinfo": "text",
         "hoverlabel": {
          "bgcolor": "green"
         },
         "marker": {
          "opacity": 0
         },
         "mode": "markers",
         "text": "Correlation between: Feature 20 and Feature 3<br>Correlation Coefficient: 0.2921240294907555",
         "type": "scatter",
         "x": [
          0.22737112097160345
         ],
         "y": [
          -0.07425747151680631
         ]
        },
        {
         "hoverinfo": "text",
         "hoverlabel": {
          "bgcolor": "red"
         },
         "marker": {
          "opacity": 0
         },
         "mode": "markers",
         "text": "Correlation between: Feature 5 and Feature 4<br>Correlation Coefficient: -0.4081141744486515",
         "type": "scatter",
         "x": [
          -0.726605339978597
         ],
         "y": [
          -0.3256447925527449
         ]
        },
        {
         "hoverinfo": "text",
         "hoverlabel": {
          "bgcolor": "red"
         },
         "marker": {
          "opacity": 0
         },
         "mode": "markers",
         "text": "Correlation between: Feature 6 and Feature 4<br>Correlation Coefficient: -0.5793802110770249",
         "type": "scatter",
         "x": [
          -0.64773001139458
         ],
         "y": [
          -0.2882858948525915
         ]
        },
        {
         "hoverinfo": "text",
         "hoverlabel": {
          "bgcolor": "red"
         },
         "marker": {
          "opacity": 0
         },
         "mode": "markers",
         "text": "Correlation between: Feature 7 and Feature 4<br>Correlation Coefficient: -0.1713235957166159",
         "type": "scatter",
         "x": [
          -0.7137988043879631
         ],
         "y": [
          -0.277492385115548
         ]
        },
        {
         "hoverinfo": "text",
         "hoverlabel": {
          "bgcolor": "green"
         },
         "marker": {
          "opacity": 0
         },
         "mode": "markers",
         "text": "Correlation between: Feature 8 and Feature 4<br>Correlation Coefficient: 0.7355028971404195",
         "type": "scatter",
         "x": [
          -0.7054054429649651
         ],
         "y": [
          -0.3040929653126161
         ]
        },
        {
         "hoverinfo": "text",
         "hoverlabel": {
          "bgcolor": "red"
         },
         "marker": {
          "opacity": 0
         },
         "mode": "markers",
         "text": "Correlation between: Feature 6 and Feature 5<br>Correlation Coefficient: -0.11766095825080661",
         "type": "scatter",
         "x": [
          -0.6883541884365549
         ],
         "y": [
          -0.2955703842618953
         ]
        },
        {
         "hoverinfo": "text",
         "hoverlabel": {
          "bgcolor": "red"
         },
         "marker": {
          "opacity": 0
         },
         "mode": "markers",
         "text": "Correlation between: Feature 7 and Feature 5<br>Correlation Coefficient: -0.20409738477515105",
         "type": "scatter",
         "x": [
          -0.7544229814299381
         ],
         "y": [
          -0.2847768745248519
         ]
        },
        {
         "hoverinfo": "text",
         "hoverlabel": {
          "bgcolor": "red"
         },
         "marker": {
          "opacity": 0
         },
         "mode": "markers",
         "text": "Correlation between: Feature 8 and Feature 5<br>Correlation Coefficient: -0.5205821431260013",
         "type": "scatter",
         "x": [
          -0.7460296200069401
         ],
         "y": [
          -0.3113774547219199
         ]
        },
        {
         "hoverinfo": "text",
         "hoverlabel": {
          "bgcolor": "red"
         },
         "marker": {
          "opacity": 0
         },
         "mode": "markers",
         "text": "Correlation between: Feature 7 and Feature 6<br>Correlation Coefficient: -0.12827735870795537",
         "type": "scatter",
         "x": [
          -0.6755476528459212
         ],
         "y": [
          -0.24741797682469843
         ]
        },
        {
         "hoverinfo": "text",
         "hoverlabel": {
          "bgcolor": "red"
         },
         "marker": {
          "opacity": 0
         },
         "mode": "markers",
         "text": "Correlation between: Feature 8 and Feature 6<br>Correlation Coefficient: -0.32719136692662043",
         "type": "scatter",
         "x": [
          -0.6671542914229232
         ],
         "y": [
          -0.2740185570217665
         ]
        },
        {
         "hoverinfo": "text",
         "hoverlabel": {
          "bgcolor": "red"
         },
         "marker": {
          "opacity": 0
         },
         "mode": "markers",
         "text": "Correlation between: Feature 27 and Feature 6<br>Correlation Coefficient: -0.11755205692729095",
         "type": "scatter",
         "x": [
          -0.4982086484205809
         ],
         "y": [
          -0.19510995376825127
         ]
        },
        {
         "hoverinfo": "text",
         "hoverlabel": {
          "bgcolor": "green"
         },
         "marker": {
          "opacity": 0
         },
         "mode": "markers",
         "text": "Correlation between: Feature 28 and Feature 6<br>Correlation Coefficient: 0.11755205692729111",
         "type": "scatter",
         "x": [
          -0.4878908466471871
         ],
         "y": [
          -0.21430774467637909
         ]
        },
        {
         "hoverinfo": "text",
         "hoverlabel": {
          "bgcolor": "red"
         },
         "marker": {
          "opacity": 0
         },
         "mode": "markers",
         "text": "Correlation between: Feature 8 and Feature 7<br>Correlation Coefficient: -0.5675536159444174",
         "type": "scatter",
         "x": [
          -0.7332230844163063
         ],
         "y": [
          -0.26322504728472307
         ]
        },
        {
         "hoverinfo": "text",
         "hoverlabel": {
          "bgcolor": "red"
         },
         "marker": {
          "opacity": 0
         },
         "mode": "markers",
         "text": "Correlation between: Feature 10 and Feature 9<br>Correlation Coefficient: -0.7025288140994909",
         "type": "scatter",
         "x": [
          0.9960842956998052
         ],
         "y": [
          0.14924470151810532
         ]
        },
        {
         "hoverinfo": "text",
         "hoverlabel": {
          "bgcolor": "red"
         },
         "marker": {
          "opacity": 0
         },
         "mode": "markers",
         "text": "Correlation between: Feature 11 and Feature 9<br>Correlation Coefficient: -0.47392235949938116",
         "type": "scatter",
         "x": [
          0.9953106315444802
         ],
         "y": [
          0.124404912471312
         ]
        },
        {
         "hoverinfo": "text",
         "hoverlabel": {
          "bgcolor": "red"
         },
         "marker": {
          "opacity": 0
         },
         "mode": "markers",
         "text": "Correlation between: Feature 11 and Feature 10<br>Correlation Coefficient: -0.2937157985897767",
         "type": "scatter",
         "x": [
          0.9992263358446751
         ],
         "y": [
          0.10369273817220231
         ]
        },
        {
         "hoverinfo": "text",
         "hoverlabel": {
          "bgcolor": "red"
         },
         "marker": {
          "opacity": 0
         },
         "mode": "markers",
         "text": "Correlation between: Feature 13 and Feature 12<br>Correlation Coefficient: -0.3158993144203797",
         "type": "scatter",
         "x": [
          -0.21935654817260836
         ],
         "y": [
          -0.09917211485779866
         ]
        },
        {
         "hoverinfo": "text",
         "hoverlabel": {
          "bgcolor": "red"
         },
         "marker": {
          "opacity": 0
         },
         "mode": "markers",
         "text": "Correlation between: Feature 14 and Feature 12<br>Correlation Coefficient: -0.20616841593889246",
         "type": "scatter",
         "x": [
          -0.25384706837763416
         ],
         "y": [
          -0.06286286166689792
         ]
        },
        {
         "hoverinfo": "text",
         "hoverlabel": {
          "bgcolor": "red"
         },
         "marker": {
          "opacity": 0
         },
         "mode": "markers",
         "text": "Correlation between: Feature 15 and Feature 12<br>Correlation Coefficient: -0.38349589610174234",
         "type": "scatter",
         "x": [
          -0.2237379572986392
         ],
         "y": [
          -0.06710375007661458
         ]
        },
        {
         "hoverinfo": "text",
         "hoverlabel": {
          "bgcolor": "green"
         },
         "marker": {
          "opacity": 0
         },
         "mode": "markers",
         "text": "Correlation between: Feature 27 and Feature 12<br>Correlation Coefficient: 0.16358342582279226",
         "type": "scatter",
         "x": [
          -0.2964492944746072
         ],
         "y": [
          -0.09171319901074507
         ]
        },
        {
         "hoverinfo": "text",
         "hoverlabel": {
          "bgcolor": "red"
         },
         "marker": {
          "opacity": 0
         },
         "mode": "markers",
         "text": "Correlation between: Feature 28 and Feature 12<br>Correlation Coefficient: -0.16358342582279242",
         "type": "scatter",
         "x": [
          -0.28613149270121346
         ],
         "y": [
          -0.11091098991887288
         ]
        },
        {
         "hoverinfo": "text",
         "hoverlabel": {
          "bgcolor": "red"
         },
         "marker": {
          "opacity": 0
         },
         "mode": "markers",
         "text": "Correlation between: Feature 14 and Feature 13<br>Correlation Coefficient: -0.2598700286580012",
         "type": "scatter",
         "x": [
          -0.26724346458965176
         ],
         "y": [
          -0.11061699947796713
         ]
        },
        {
         "hoverinfo": "text",
         "hoverlabel": {
          "bgcolor": "red"
         },
         "marker": {
          "opacity": 0
         },
         "mode": "markers",
         "text": "Correlation between: Feature 15 and Feature 13<br>Correlation Coefficient: -0.48338679354127545",
         "type": "scatter",
         "x": [
          -0.23713435351065684
         ],
         "y": [
          -0.11485788788768378
         ]
        },
        {
         "hoverinfo": "text",
         "hoverlabel": {
          "bgcolor": "red"
         },
         "marker": {
          "opacity": 0
         },
         "mode": "markers",
         "text": "Correlation between: Feature 15 and Feature 14<br>Correlation Coefficient: -0.3154773845997187",
         "type": "scatter",
         "x": [
          -0.2716248737156826
         ],
         "y": [
          -0.07854863469678305
         ]
        },
        {
         "hoverinfo": "text",
         "hoverlabel": {
          "bgcolor": "red"
         },
         "marker": {
          "opacity": 0
         },
         "mode": "markers",
         "text": "Correlation between: Feature 27 and Feature 15<br>Correlation Coefficient: -0.2675365581660129",
         "type": "scatter",
         "x": [
          -0.3142270998126557
         ],
         "y": [
          -0.1073989720406302
         ]
        },
        {
         "hoverinfo": "text",
         "hoverlabel": {
          "bgcolor": "green"
         },
         "marker": {
          "opacity": 0
         },
         "mode": "markers",
         "text": "Correlation between: Feature 28 and Feature 15<br>Correlation Coefficient: 0.26753655816601335",
         "type": "scatter",
         "x": [
          -0.3039092980392619
         ],
         "y": [
          -0.12659676294875802
         ]
        },
        {
         "hoverinfo": "text",
         "hoverlabel": {
          "bgcolor": "red"
         },
         "marker": {
          "opacity": 0
         },
         "mode": "markers",
         "text": "Correlation between: Feature 18 and Feature 16<br>Correlation Coefficient: -0.12349523038334223",
         "type": "scatter",
         "x": [
          0.09301933379959083
         ],
         "y": [
          0.24993498266240372
         ]
        },
        {
         "hoverinfo": "text",
         "hoverlabel": {
          "bgcolor": "red"
         },
         "marker": {
          "opacity": 0
         },
         "mode": "markers",
         "text": "Correlation between: Feature 23 and Feature 16<br>Correlation Coefficient: -0.11537813377592346",
         "type": "scatter",
         "x": [
          0.12305159874628427
         ],
         "y": [
          0.2405175478534845
         ]
        },
        {
         "hoverinfo": "text",
         "hoverlabel": {
          "bgcolor": "red"
         },
         "marker": {
          "opacity": 0
         },
         "mode": "markers",
         "text": "Correlation between: Feature 18 and Feature 17<br>Correlation Coefficient: -0.12252257214019888",
         "type": "scatter",
         "x": [
          0.012497646270990523
         ],
         "y": [
          0.2193494268550254
         ]
        },
        {
         "hoverinfo": "text",
         "hoverlabel": {
          "bgcolor": "red"
         },
         "marker": {
          "opacity": 0
         },
         "mode": "markers",
         "text": "Correlation between: Feature 23 and Feature 17<br>Correlation Coefficient: -0.11446940643036303",
         "type": "scatter",
         "x": [
          0.042529911217683965
         ],
         "y": [
          0.2099319920461062
         ]
        },
        {
         "hoverinfo": "text",
         "hoverlabel": {
          "bgcolor": "red"
         },
         "marker": {
          "opacity": 0
         },
         "mode": "markers",
         "text": "Correlation between: Feature 19 and Feature 18<br>Correlation Coefficient: -0.113064225625961",
         "type": "scatter",
         "x": [
          0.1630994492395197
         ],
         "y": [
          0.1851901663439805
         ]
        },
        {
         "hoverinfo": "text",
         "hoverlabel": {
          "bgcolor": "red"
         },
         "marker": {
          "opacity": 0
         },
         "mode": "markers",
         "text": "Correlation between: Feature 21 and Feature 18<br>Correlation Coefficient: -0.1393155135030875",
         "type": "scatter",
         "x": [
          0.12727290573784625
         ],
         "y": [
          0.2921494860526325
         ]
        },
        {
         "hoverinfo": "text",
         "hoverlabel": {
          "bgcolor": "red"
         },
         "marker": {
          "opacity": 0
         },
         "mode": "markers",
         "text": "Correlation between: Feature 23 and Feature 18<br>Correlation Coefficient: -0.1720911985121264",
         "type": "scatter",
         "x": [
          0.09720512045628432
         ],
         "y": [
          0.21203795980876275
         ]
        },
        {
         "hoverinfo": "text",
         "hoverlabel": {
          "bgcolor": "red"
         },
         "marker": {
          "opacity": 0
         },
         "mode": "markers",
         "text": "Correlation between: Feature 24 and Feature 18<br>Correlation Coefficient: -0.13491961645166775",
         "type": "scatter",
         "x": [
          0.08689725068352494
         ],
         "y": [
          0.3062835899732713
         ]
        },
        {
         "hoverinfo": "text",
         "hoverlabel": {
          "bgcolor": "red"
         },
         "marker": {
          "opacity": 0
         },
         "mode": "markers",
         "text": "Correlation between: Feature 25 and Feature 18<br>Correlation Coefficient: -0.12807910150883076",
         "type": "scatter",
         "x": [
          0.027677972301352053
         ],
         "y": [
          0.2527277754982037
         ]
        },
        {
         "hoverinfo": "text",
         "hoverlabel": {
          "bgcolor": "red"
         },
         "marker": {
          "opacity": 0
         },
         "mode": "markers",
         "text": "Correlation between: Feature 23 and Feature 19<br>Correlation Coefficient: -0.10563273827701555",
         "type": "scatter",
         "x": [
          0.1931317141862131
         ],
         "y": [
          0.1757727315350613
         ]
        },
        {
         "hoverinfo": "text",
         "hoverlabel": {
          "bgcolor": "red"
         },
         "marker": {
          "opacity": 0
         },
         "mode": "markers",
         "text": "Correlation between: Feature 23 and Feature 21<br>Correlation Coefficient: -0.1301585810571423",
         "type": "scatter",
         "x": [
          0.1573051706845397
         ],
         "y": [
          0.2827320512437133
         ]
        },
        {
         "hoverinfo": "text",
         "hoverlabel": {
          "bgcolor": "red"
         },
         "marker": {
          "opacity": 0
         },
         "mode": "markers",
         "text": "Correlation between: Feature 24 and Feature 21<br>Correlation Coefficient: -0.10204441590245274",
         "type": "scatter",
         "x": [
          0.14699730091178032
         ],
         "y": [
          0.37697768140822185
         ]
        },
        {
         "hoverinfo": "text",
         "hoverlabel": {
          "bgcolor": "red"
         },
         "marker": {
          "opacity": 0
         },
         "mode": "markers",
         "text": "Correlation between: Feature 24 and Feature 23<br>Correlation Coefficient: -0.1260516176020391",
         "type": "scatter",
         "x": [
          0.11692951563021839
         ],
         "y": [
          0.2968661551643521
         ]
        },
        {
         "hoverinfo": "text",
         "hoverlabel": {
          "bgcolor": "red"
         },
         "marker": {
          "opacity": 0
         },
         "mode": "markers",
         "text": "Correlation between: Feature 25 and Feature 23<br>Correlation Coefficient: -0.11966071614195144",
         "type": "scatter",
         "x": [
          0.05771023724804549
         ],
         "y": [
          0.24331034068928448
         ]
        },
        {
         "hoverinfo": "text",
         "hoverlabel": {
          "bgcolor": "red"
         },
         "marker": {
          "opacity": 0
         },
         "mode": "markers",
         "text": "Correlation between: Feature 28 and Feature 27<br>Correlation Coefficient: -1.0",
         "type": "scatter",
         "x": [
          -0.3766206352152299
         ],
         "y": [
          -0.1512062118828885
         ]
        },
        {
         "hoverinfo": "text",
         "marker": {
          "color": [
           0.1916514217861401,
           0.036311683666349064,
           0.41179280917598887,
           0.1257264469643418,
           0.024447479011378333,
           0.024447479011378333,
           0.05567791524155655,
           0.024447479011378333,
           0.024447479011378333,
           2.979917605440086e-20,
           2.979917605440086e-20,
           2.979917605440086e-20,
           0.18183715162240519,
           0.08501305353950163,
           0.08501305353950163,
           0.18183715162240519,
           0.2393679220997778,
           0.2393679220997778,
           0.41052533624820836,
           0.1976580432936148,
           0.060132785111616405,
           0.1990621153720378,
           0.036311683666349064,
           0.44105302383129413,
           0.19906211537203775,
           0.2393679220997778,
           0.11433324613886112,
           0.09802930410734147,
           0.09802930410734147
          ],
          "colorbar": {
           "thickness": 15,
           "title": {
            "side": "right",
            "text": "Centrality"
           },
           "xanchor": "left"
          },
          "colorscale": [
           [
            0,
            "rgb(255,255,217)"
           ],
           [
            0.125,
            "rgb(237,248,177)"
           ],
           [
            0.25,
            "rgb(199,233,180)"
           ],
           [
            0.375,
            "rgb(127,205,187)"
           ],
           [
            0.5,
            "rgb(65,182,196)"
           ],
           [
            0.625,
            "rgb(29,145,192)"
           ],
           [
            0.75,
            "rgb(34,94,168)"
           ],
           [
            0.875,
            "rgb(37,52,148)"
           ],
           [
            1,
            "rgb(8,29,88)"
           ]
          ],
          "line": {
           "width": 2
          },
          "reversescale": true,
          "showscale": true,
          "size": [
           19.165142178614012,
           3.631168366634906,
           41.17928091759889,
           12.57264469643418,
           2.4447479011378332,
           2.4447479011378332,
           5.567791524155655,
           2.4447479011378332,
           2.4447479011378332,
           2.979917605440086e-18,
           2.979917605440086e-18,
           2.979917605440086e-18,
           18.183715162240517,
           8.501305353950164,
           8.501305353950164,
           18.183715162240517,
           23.93679220997778,
           23.93679220997778,
           41.05253362482084,
           19.76580432936148,
           6.013278511161641,
           19.90621153720378,
           3.631168366634906,
           44.10530238312941,
           19.906211537203774,
           23.93679220997778,
           11.433324613886112,
           9.802930410734147,
           9.802930410734147
          ]
         },
         "mode": "markers",
         "text": [
          "Node Name: Feature 0<br># of connections: 7<br>Centrality: 0.19",
          "Node Name: Feature 1<br># of connections: 1<br>Centrality: 0.04",
          "Node Name: Feature 2<br># of connections: 9<br>Centrality: 0.41",
          "Node Name: Feature 3<br># of connections: 3<br>Centrality: 0.13",
          "Node Name: Feature 4<br># of connections: 4<br>Centrality: 0.02",
          "Node Name: Feature 5<br># of connections: 4<br>Centrality: 0.02",
          "Node Name: Feature 6<br># of connections: 6<br>Centrality: 0.06",
          "Node Name: Feature 7<br># of connections: 4<br>Centrality: 0.02",
          "Node Name: Feature 8<br># of connections: 4<br>Centrality: 0.02",
          "Node Name: Feature 9<br># of connections: 2<br>Centrality: 0.00",
          "Node Name: Feature 10<br># of connections: 2<br>Centrality: 0.00",
          "Node Name: Feature 11<br># of connections: 2<br>Centrality: 0.00",
          "Node Name: Feature 12<br># of connections: 6<br>Centrality: 0.18",
          "Node Name: Feature 13<br># of connections: 3<br>Centrality: 0.09",
          "Node Name: Feature 14<br># of connections: 3<br>Centrality: 0.09",
          "Node Name: Feature 15<br># of connections: 6<br>Centrality: 0.18",
          "Node Name: Feature 16<br># of connections: 3<br>Centrality: 0.24",
          "Node Name: Feature 17<br># of connections: 3<br>Centrality: 0.24",
          "Node Name: Feature 18<br># of connections: 8<br>Centrality: 0.41",
          "Node Name: Feature 19<br># of connections: 3<br>Centrality: 0.20",
          "Node Name: Feature 20<br># of connections: 2<br>Centrality: 0.06",
          "Node Name: Feature 21<br># of connections: 3<br>Centrality: 0.20",
          "Node Name: Feature 22<br># of connections: 1<br>Centrality: 0.04",
          "Node Name: Feature 23<br># of connections: 9<br>Centrality: 0.44",
          "Node Name: Feature 24<br># of connections: 3<br>Centrality: 0.20",
          "Node Name: Feature 25<br># of connections: 3<br>Centrality: 0.24",
          "Node Name: Feature 26<br># of connections: 2<br>Centrality: 0.11",
          "Node Name: Feature 27<br># of connections: 4<br>Centrality: 0.10",
          "Node Name: Feature 28<br># of connections: 4<br>Centrality: 0.10"
         ],
         "type": "scatter",
         "x": [
          0.25982205221831006,
          0.196605842558018,
          -0.009313020008077976,
          0.17072032631632453,
          -0.6859811629366219,
          -0.767229517020572,
          -0.609478859852538,
          -0.7416164458393043,
          -0.7248297229933083,
          0.9921685913996103,
          1,
          0.9984526716893501,
          -0.20596015196059073,
          -0.23275294438462601,
          -0.30173398479467756,
          -0.24151576263668767,
          0.11886581208959078,
          -0.04217756296760984,
          0.06717285550959089,
          0.2590260429694485,
          0.28402191562688234,
          0.18737295596610162,
          0.387592397896244,
          0.12723738540297777,
          0.10662164585745901,
          -0.011816910906886783,
          0.171966821232052,
          -0.3869384369886237,
          -0.36630283344183623
         ],
         "y": [
          -0.03334418052962953,
          -0.18310903459354516,
          0.08718254178158993,
          -0.038759223539826394,
          -0.31836030314344105,
          -0.33292928196204874,
          -0.25821148656174187,
          -0.236624467087655,
          -0.28982562748179114,
          0.169956875817215,
          0.12853252721899563,
          0.07885294912540901,
          -0.05141797704672945,
          -0.14692625266886786,
          -0.07430774628706639,
          -0.08278952310649972,
          0.27841457070712544,
          0.21724345909236886,
          0.22145539461768196,
          0.14892493807027907,
          -0.10975571949378624,
          0.36284357748758306,
          -0.1600997418088519,
          0.20262052499984354,
          0.39111178532886065,
          0.28400015637872544,
          0.0477336884515801,
          -0.13200842097476068,
          -0.1704040027910163
         ]
        },
        {
         "marker": {
          "opacity": 0
         },
         "mode": "text",
         "text": [
          "Feature 0",
          "Feature 1",
          "Feature 2",
          "Feature 3",
          "Feature 4",
          "Feature 5",
          "Feature 6",
          "Feature 7",
          "Feature 8",
          "Feature 9",
          "Feature 10",
          "Feature 11",
          "Feature 12",
          "Feature 13",
          "Feature 14",
          "Feature 15",
          "Feature 16",
          "Feature 17",
          "Feature 18",
          "Feature 19",
          "Feature 20",
          "Feature 21",
          "Feature 22",
          "Feature 23",
          "Feature 24",
          "Feature 25",
          "Feature 26",
          "Feature 27",
          "Feature 28"
         ],
         "textfont": {
          "size": [
           8,
           8,
           8,
           8,
           8,
           8,
           8,
           8,
           8,
           8,
           8,
           8,
           8,
           8,
           8,
           8,
           8,
           8,
           8,
           8,
           8,
           8,
           8,
           8,
           8,
           8,
           8,
           8,
           8
          ]
         },
         "textposition": "top center",
         "type": "scatter",
         "x": [
          0.25982205221831006,
          0.196605842558018,
          -0.009313020008077976,
          0.17072032631632453,
          -0.6859811629366219,
          -0.767229517020572,
          -0.609478859852538,
          -0.7416164458393043,
          -0.7248297229933083,
          0.9921685913996103,
          1,
          0.9984526716893501,
          -0.20596015196059073,
          -0.23275294438462601,
          -0.30173398479467756,
          -0.24151576263668767,
          0.11886581208959078,
          -0.04217756296760984,
          0.06717285550959089,
          0.2590260429694485,
          0.28402191562688234,
          0.18737295596610162,
          0.387592397896244,
          0.12723738540297777,
          0.10662164585745901,
          -0.011816910906886783,
          0.171966821232052,
          -0.3869384369886237,
          -0.36630283344183623
         ],
         "y": [
          -0.03334418052962953,
          -0.18310903459354516,
          0.08718254178158993,
          -0.038759223539826394,
          -0.31836030314344105,
          -0.33292928196204874,
          -0.25821148656174187,
          -0.236624467087655,
          -0.28982562748179114,
          0.169956875817215,
          0.12853252721899563,
          0.07885294912540901,
          -0.05141797704672945,
          -0.14692625266886786,
          -0.07430774628706639,
          -0.08278952310649972,
          0.27841457070712544,
          0.21724345909236886,
          0.22145539461768196,
          0.14892493807027907,
          -0.10975571949378624,
          0.36284357748758306,
          -0.1600997418088519,
          0.20262052499984354,
          0.39111178532886065,
          0.28400015637872544,
          0.0477336884515801,
          -0.13200842097476068,
          -0.1704040027910163
         ]
        }
       ],
       "layout": {
        "annotations": [
         {
          "showarrow": false,
          "text": "",
          "x": 0.005,
          "xref": "paper",
          "y": -0.002,
          "yref": "paper"
         }
        ],
        "hovermode": "closest",
        "margin": {
         "b": 20,
         "l": 5,
         "r": 5,
         "t": 40
        },
        "showlegend": false,
        "template": {
         "data": {
          "bar": [
           {
            "error_x": {
             "color": "#2a3f5f"
            },
            "error_y": {
             "color": "#2a3f5f"
            },
            "marker": {
             "line": {
              "color": "#E5ECF6",
              "width": 0.5
             },
             "pattern": {
              "fillmode": "overlay",
              "size": 10,
              "solidity": 0.2
             }
            },
            "type": "bar"
           }
          ],
          "barpolar": [
           {
            "marker": {
             "line": {
              "color": "#E5ECF6",
              "width": 0.5
             },
             "pattern": {
              "fillmode": "overlay",
              "size": 10,
              "solidity": 0.2
             }
            },
            "type": "barpolar"
           }
          ],
          "carpet": [
           {
            "aaxis": {
             "endlinecolor": "#2a3f5f",
             "gridcolor": "white",
             "linecolor": "white",
             "minorgridcolor": "white",
             "startlinecolor": "#2a3f5f"
            },
            "baxis": {
             "endlinecolor": "#2a3f5f",
             "gridcolor": "white",
             "linecolor": "white",
             "minorgridcolor": "white",
             "startlinecolor": "#2a3f5f"
            },
            "type": "carpet"
           }
          ],
          "choropleth": [
           {
            "colorbar": {
             "outlinewidth": 0,
             "ticks": ""
            },
            "type": "choropleth"
           }
          ],
          "contour": [
           {
            "colorbar": {
             "outlinewidth": 0,
             "ticks": ""
            },
            "colorscale": [
             [
              0,
              "#0d0887"
             ],
             [
              0.1111111111111111,
              "#46039f"
             ],
             [
              0.2222222222222222,
              "#7201a8"
             ],
             [
              0.3333333333333333,
              "#9c179e"
             ],
             [
              0.4444444444444444,
              "#bd3786"
             ],
             [
              0.5555555555555556,
              "#d8576b"
             ],
             [
              0.6666666666666666,
              "#ed7953"
             ],
             [
              0.7777777777777778,
              "#fb9f3a"
             ],
             [
              0.8888888888888888,
              "#fdca26"
             ],
             [
              1,
              "#f0f921"
             ]
            ],
            "type": "contour"
           }
          ],
          "contourcarpet": [
           {
            "colorbar": {
             "outlinewidth": 0,
             "ticks": ""
            },
            "type": "contourcarpet"
           }
          ],
          "heatmap": [
           {
            "colorbar": {
             "outlinewidth": 0,
             "ticks": ""
            },
            "colorscale": [
             [
              0,
              "#0d0887"
             ],
             [
              0.1111111111111111,
              "#46039f"
             ],
             [
              0.2222222222222222,
              "#7201a8"
             ],
             [
              0.3333333333333333,
              "#9c179e"
             ],
             [
              0.4444444444444444,
              "#bd3786"
             ],
             [
              0.5555555555555556,
              "#d8576b"
             ],
             [
              0.6666666666666666,
              "#ed7953"
             ],
             [
              0.7777777777777778,
              "#fb9f3a"
             ],
             [
              0.8888888888888888,
              "#fdca26"
             ],
             [
              1,
              "#f0f921"
             ]
            ],
            "type": "heatmap"
           }
          ],
          "heatmapgl": [
           {
            "colorbar": {
             "outlinewidth": 0,
             "ticks": ""
            },
            "colorscale": [
             [
              0,
              "#0d0887"
             ],
             [
              0.1111111111111111,
              "#46039f"
             ],
             [
              0.2222222222222222,
              "#7201a8"
             ],
             [
              0.3333333333333333,
              "#9c179e"
             ],
             [
              0.4444444444444444,
              "#bd3786"
             ],
             [
              0.5555555555555556,
              "#d8576b"
             ],
             [
              0.6666666666666666,
              "#ed7953"
             ],
             [
              0.7777777777777778,
              "#fb9f3a"
             ],
             [
              0.8888888888888888,
              "#fdca26"
             ],
             [
              1,
              "#f0f921"
             ]
            ],
            "type": "heatmapgl"
           }
          ],
          "histogram": [
           {
            "marker": {
             "pattern": {
              "fillmode": "overlay",
              "size": 10,
              "solidity": 0.2
             }
            },
            "type": "histogram"
           }
          ],
          "histogram2d": [
           {
            "colorbar": {
             "outlinewidth": 0,
             "ticks": ""
            },
            "colorscale": [
             [
              0,
              "#0d0887"
             ],
             [
              0.1111111111111111,
              "#46039f"
             ],
             [
              0.2222222222222222,
              "#7201a8"
             ],
             [
              0.3333333333333333,
              "#9c179e"
             ],
             [
              0.4444444444444444,
              "#bd3786"
             ],
             [
              0.5555555555555556,
              "#d8576b"
             ],
             [
              0.6666666666666666,
              "#ed7953"
             ],
             [
              0.7777777777777778,
              "#fb9f3a"
             ],
             [
              0.8888888888888888,
              "#fdca26"
             ],
             [
              1,
              "#f0f921"
             ]
            ],
            "type": "histogram2d"
           }
          ],
          "histogram2dcontour": [
           {
            "colorbar": {
             "outlinewidth": 0,
             "ticks": ""
            },
            "colorscale": [
             [
              0,
              "#0d0887"
             ],
             [
              0.1111111111111111,
              "#46039f"
             ],
             [
              0.2222222222222222,
              "#7201a8"
             ],
             [
              0.3333333333333333,
              "#9c179e"
             ],
             [
              0.4444444444444444,
              "#bd3786"
             ],
             [
              0.5555555555555556,
              "#d8576b"
             ],
             [
              0.6666666666666666,
              "#ed7953"
             ],
             [
              0.7777777777777778,
              "#fb9f3a"
             ],
             [
              0.8888888888888888,
              "#fdca26"
             ],
             [
              1,
              "#f0f921"
             ]
            ],
            "type": "histogram2dcontour"
           }
          ],
          "mesh3d": [
           {
            "colorbar": {
             "outlinewidth": 0,
             "ticks": ""
            },
            "type": "mesh3d"
           }
          ],
          "parcoords": [
           {
            "line": {
             "colorbar": {
              "outlinewidth": 0,
              "ticks": ""
             }
            },
            "type": "parcoords"
           }
          ],
          "pie": [
           {
            "automargin": true,
            "type": "pie"
           }
          ],
          "scatter": [
           {
            "fillpattern": {
             "fillmode": "overlay",
             "size": 10,
             "solidity": 0.2
            },
            "type": "scatter"
           }
          ],
          "scatter3d": [
           {
            "line": {
             "colorbar": {
              "outlinewidth": 0,
              "ticks": ""
             }
            },
            "marker": {
             "colorbar": {
              "outlinewidth": 0,
              "ticks": ""
             }
            },
            "type": "scatter3d"
           }
          ],
          "scattercarpet": [
           {
            "marker": {
             "colorbar": {
              "outlinewidth": 0,
              "ticks": ""
             }
            },
            "type": "scattercarpet"
           }
          ],
          "scattergeo": [
           {
            "marker": {
             "colorbar": {
              "outlinewidth": 0,
              "ticks": ""
             }
            },
            "type": "scattergeo"
           }
          ],
          "scattergl": [
           {
            "marker": {
             "colorbar": {
              "outlinewidth": 0,
              "ticks": ""
             }
            },
            "type": "scattergl"
           }
          ],
          "scattermapbox": [
           {
            "marker": {
             "colorbar": {
              "outlinewidth": 0,
              "ticks": ""
             }
            },
            "type": "scattermapbox"
           }
          ],
          "scatterpolar": [
           {
            "marker": {
             "colorbar": {
              "outlinewidth": 0,
              "ticks": ""
             }
            },
            "type": "scatterpolar"
           }
          ],
          "scatterpolargl": [
           {
            "marker": {
             "colorbar": {
              "outlinewidth": 0,
              "ticks": ""
             }
            },
            "type": "scatterpolargl"
           }
          ],
          "scatterternary": [
           {
            "marker": {
             "colorbar": {
              "outlinewidth": 0,
              "ticks": ""
             }
            },
            "type": "scatterternary"
           }
          ],
          "surface": [
           {
            "colorbar": {
             "outlinewidth": 0,
             "ticks": ""
            },
            "colorscale": [
             [
              0,
              "#0d0887"
             ],
             [
              0.1111111111111111,
              "#46039f"
             ],
             [
              0.2222222222222222,
              "#7201a8"
             ],
             [
              0.3333333333333333,
              "#9c179e"
             ],
             [
              0.4444444444444444,
              "#bd3786"
             ],
             [
              0.5555555555555556,
              "#d8576b"
             ],
             [
              0.6666666666666666,
              "#ed7953"
             ],
             [
              0.7777777777777778,
              "#fb9f3a"
             ],
             [
              0.8888888888888888,
              "#fdca26"
             ],
             [
              1,
              "#f0f921"
             ]
            ],
            "type": "surface"
           }
          ],
          "table": [
           {
            "cells": {
             "fill": {
              "color": "#EBF0F8"
             },
             "line": {
              "color": "white"
             }
            },
            "header": {
             "fill": {
              "color": "#C8D4E3"
             },
             "line": {
              "color": "white"
             }
            },
            "type": "table"
           }
          ]
         },
         "layout": {
          "annotationdefaults": {
           "arrowcolor": "#2a3f5f",
           "arrowhead": 0,
           "arrowwidth": 1
          },
          "autotypenumbers": "strict",
          "coloraxis": {
           "colorbar": {
            "outlinewidth": 0,
            "ticks": ""
           }
          },
          "colorscale": {
           "diverging": [
            [
             0,
             "#8e0152"
            ],
            [
             0.1,
             "#c51b7d"
            ],
            [
             0.2,
             "#de77ae"
            ],
            [
             0.3,
             "#f1b6da"
            ],
            [
             0.4,
             "#fde0ef"
            ],
            [
             0.5,
             "#f7f7f7"
            ],
            [
             0.6,
             "#e6f5d0"
            ],
            [
             0.7,
             "#b8e186"
            ],
            [
             0.8,
             "#7fbc41"
            ],
            [
             0.9,
             "#4d9221"
            ],
            [
             1,
             "#276419"
            ]
           ],
           "sequential": [
            [
             0,
             "#0d0887"
            ],
            [
             0.1111111111111111,
             "#46039f"
            ],
            [
             0.2222222222222222,
             "#7201a8"
            ],
            [
             0.3333333333333333,
             "#9c179e"
            ],
            [
             0.4444444444444444,
             "#bd3786"
            ],
            [
             0.5555555555555556,
             "#d8576b"
            ],
            [
             0.6666666666666666,
             "#ed7953"
            ],
            [
             0.7777777777777778,
             "#fb9f3a"
            ],
            [
             0.8888888888888888,
             "#fdca26"
            ],
            [
             1,
             "#f0f921"
            ]
           ],
           "sequentialminus": [
            [
             0,
             "#0d0887"
            ],
            [
             0.1111111111111111,
             "#46039f"
            ],
            [
             0.2222222222222222,
             "#7201a8"
            ],
            [
             0.3333333333333333,
             "#9c179e"
            ],
            [
             0.4444444444444444,
             "#bd3786"
            ],
            [
             0.5555555555555556,
             "#d8576b"
            ],
            [
             0.6666666666666666,
             "#ed7953"
            ],
            [
             0.7777777777777778,
             "#fb9f3a"
            ],
            [
             0.8888888888888888,
             "#fdca26"
            ],
            [
             1,
             "#f0f921"
            ]
           ]
          },
          "colorway": [
           "#636efa",
           "#EF553B",
           "#00cc96",
           "#ab63fa",
           "#FFA15A",
           "#19d3f3",
           "#FF6692",
           "#B6E880",
           "#FF97FF",
           "#FECB52"
          ],
          "font": {
           "color": "#2a3f5f"
          },
          "geo": {
           "bgcolor": "white",
           "lakecolor": "white",
           "landcolor": "#E5ECF6",
           "showlakes": true,
           "showland": true,
           "subunitcolor": "white"
          },
          "hoverlabel": {
           "align": "left"
          },
          "hovermode": "closest",
          "mapbox": {
           "style": "light"
          },
          "paper_bgcolor": "white",
          "plot_bgcolor": "#E5ECF6",
          "polar": {
           "angularaxis": {
            "gridcolor": "white",
            "linecolor": "white",
            "ticks": ""
           },
           "bgcolor": "#E5ECF6",
           "radialaxis": {
            "gridcolor": "white",
            "linecolor": "white",
            "ticks": ""
           }
          },
          "scene": {
           "xaxis": {
            "backgroundcolor": "#E5ECF6",
            "gridcolor": "white",
            "gridwidth": 2,
            "linecolor": "white",
            "showbackground": true,
            "ticks": "",
            "zerolinecolor": "white"
           },
           "yaxis": {
            "backgroundcolor": "#E5ECF6",
            "gridcolor": "white",
            "gridwidth": 2,
            "linecolor": "white",
            "showbackground": true,
            "ticks": "",
            "zerolinecolor": "white"
           },
           "zaxis": {
            "backgroundcolor": "#E5ECF6",
            "gridcolor": "white",
            "gridwidth": 2,
            "linecolor": "white",
            "showbackground": true,
            "ticks": "",
            "zerolinecolor": "white"
           }
          },
          "shapedefaults": {
           "line": {
            "color": "#2a3f5f"
           }
          },
          "ternary": {
           "aaxis": {
            "gridcolor": "white",
            "linecolor": "white",
            "ticks": ""
           },
           "baxis": {
            "gridcolor": "white",
            "linecolor": "white",
            "ticks": ""
           },
           "bgcolor": "#E5ECF6",
           "caxis": {
            "gridcolor": "white",
            "linecolor": "white",
            "ticks": ""
           }
          },
          "title": {
           "x": 0.05
          },
          "xaxis": {
           "automargin": true,
           "gridcolor": "white",
           "linecolor": "white",
           "ticks": "",
           "title": {
            "standoff": 15
           },
           "zerolinecolor": "white",
           "zerolinewidth": 2
          },
          "yaxis": {
           "automargin": true,
           "gridcolor": "white",
           "linecolor": "white",
           "ticks": "",
           "title": {
            "standoff": 15
           },
           "zerolinecolor": "white",
           "zerolinewidth": 2
          }
         }
        },
        "title": {
         "font": {
          "size": 16
         },
         "text": "Graph of Feature Correlations"
        },
        "xaxis": {
         "showgrid": false,
         "showticklabels": false,
         "zeroline": false
        },
        "yaxis": {
         "showgrid": false,
         "showticklabels": false,
         "zeroline": false
        }
       }
      }
     },
     "metadata": {},
     "output_type": "display_data"
    }
   ],
   "source": [
    "ea.GraphFromAdjacencyMatrix(\n",
    "        adjacency_matrix=adjacency_matrix,centrality='eigenvector').plot_plotly()"
   ]
  },
  {
   "cell_type": "code",
   "execution_count": 21,
   "metadata": {},
   "outputs": [
    {
     "data": {
      "image/png": "[encoded data removed]",
      "text/plain": [
       "<Figure size 1500x1500 with 1 Axes>"
      ]
     },
     "metadata": {},
     "output_type": "display_data"
    }
   ],
   "source": [
    "\n",
    "ea.GraphFromAdjacencyMatrix(\n",
    "        df_adjacency=filtered_df[\"corr_filtered\"].fillna(0),centrality='eigenvector').plot_sns()"
   ]
  },
  {
   "cell_type": "code",
   "execution_count": null,
   "metadata": {},
   "outputs": [],
   "source": []
  }
 ],
 "metadata": {
  "kernelspec": {
   "display_name": ".venv",
   "language": "python",
   "name": "python3"
  },
  "language_info": {
   "codemirror_mode": {
    "name": "ipython",
    "version": 3
   },
   "file_extension": ".py",
   "mimetype": "text/x-python",
   "name": "python",
   "nbconvert_exporter": "python",
   "pygments_lexer": "ipython3",
   "version": "3.10.8"
  },
  "orig_nbformat": 4
 },
 "nbformat": 4,
 "nbformat_minor": 2
}
